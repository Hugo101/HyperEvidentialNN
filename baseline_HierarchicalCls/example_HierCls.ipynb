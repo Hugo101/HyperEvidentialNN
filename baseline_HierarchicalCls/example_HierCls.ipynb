{
 "cells": [
  {
   "cell_type": "code",
   "execution_count": 1,
   "metadata": {},
   "outputs": [
    {
     "name": "stdout",
     "output_type": "stream",
     "text": [
      "[['Animal' 'Reptile' 'Lizard']\n",
      " ['Animal' 'Reptile' 'Snake']\n",
      " ['Animal' 'Mammal' 'Cow']\n",
      " ['Animal' 'Mammal' 'Sheep']]\n"
     ]
    }
   ],
   "source": [
    "\"\"\"Contents of hello_hiclass.py\"\"\"\n",
    "from hiclass import LocalClassifierPerNode\n",
    "from sklearn.ensemble import RandomForestClassifier\n",
    "\n",
    "# Define data\n",
    "X_train = [[1], [2], [3], [4]]\n",
    "X_test = [[4], [3], [2], [1]]\n",
    "Y_train = [\n",
    "    ['Animal', 'Mammal', 'Sheep'],\n",
    "    ['Animal', 'Mammal', 'Cow'],\n",
    "    ['Animal', 'Reptile', 'Snake'],\n",
    "    ['Animal', 'Reptile', 'Lizard'],\n",
    "]\n",
    "\n",
    "# Use random forest classifiers for every node\n",
    "rf = RandomForestClassifier()\n",
    "classifier = LocalClassifierPerNode(local_classifier=rf)\n",
    "\n",
    "# Train local classifier per node\n",
    "classifier.fit(X_train, Y_train)\n",
    "\n",
    "# Predict\n",
    "predictions = classifier.predict(X_test)\n",
    "print(predictions)"
   ]
  },
  {
   "cell_type": "code",
   "execution_count": 1,
   "metadata": {},
   "outputs": [
    {
     "name": "stdout",
     "output_type": "stream",
     "text": [
      "[['Reptile' 'Lizard']\n",
      " ['Reptile' 'Snake']\n",
      " ['Mammal' '']\n",
      " ['Mammal' '']]\n"
     ]
    }
   ],
   "source": [
    "\"\"\"Contents of hello_hiclass.py\"\"\"\n",
    "from hiclass import LocalClassifierPerNode\n",
    "from sklearn.ensemble import RandomForestClassifier\n",
    "from sklearn.linear_model import LogisticRegression\n",
    "\n",
    "# Define data\n",
    "X_train = [[1], [2], [3], [4]]\n",
    "X_test = [[4], [3], [2], [1]]\n",
    "Y_train = [\n",
    "    ['Mammal', ''],\n",
    "    ['Mammal', ''],\n",
    "    ['Reptile', 'Snake'],\n",
    "    ['Reptile', 'Lizard'],\n",
    "]\n",
    "\n",
    "# Use random forest classifiers for every node\n",
    "# rf = RandomForestClassifier()\n",
    "rf = LogisticRegression()\n",
    "classifier = LocalClassifierPerNode(local_classifier=rf)\n",
    "\n",
    "# Train local classifier per node\n",
    "classifier.fit(X_train, Y_train)\n",
    "\n",
    "# Predict\n",
    "predictions = classifier.predict(X_test)\n",
    "print(predictions)"
   ]
  },
  {
   "cell_type": "code",
   "execution_count": null,
   "metadata": {},
   "outputs": [],
   "source": []
  }
 ],
 "metadata": {
  "kernelspec": {
   "display_name": "HENN",
   "language": "python",
   "name": "python3"
  },
  "language_info": {
   "codemirror_mode": {
    "name": "ipython",
    "version": 3
   },
   "file_extension": ".py",
   "mimetype": "text/x-python",
   "name": "python",
   "nbconvert_exporter": "python",
   "pygments_lexer": "ipython3",
   "version": "3.10.8"
  },
  "orig_nbformat": 4
 },
 "nbformat": 4,
 "nbformat_minor": 2
}
