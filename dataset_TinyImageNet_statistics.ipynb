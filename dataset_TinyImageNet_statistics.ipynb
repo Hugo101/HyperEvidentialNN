{
 "cells": [
  {
   "cell_type": "code",
   "execution_count": 1,
   "metadata": {
    "ExecuteTime": {
     "end_time": "2022-12-08T16:38:29.831586Z",
     "start_time": "2022-12-08T16:27:15.049484Z"
    }
   },
   "outputs": [
    {
     "name": "stdout",
     "output_type": "stream",
     "text": [
      "Loading TinyImageNet...\n",
      "length of parent_to_subclass:  107\n",
      "Total 29 Candidate superclasses: ['n04371563', 'n03419014', 'n04490091', 'n02924116', 'n02858304', 'n04379243', 'n07557434', 'n07611358', 'n07707451', 'n03748162', 'n03259505', 'n02898711', 'n03743902', 'n02796623', 'n09433442', 'n03278248', 'n04438304', 'n04147495', 'n04565375', 'n03880531', 'n02876657', 'n01767661', 'n01772222', 'n01942177', 'n02470325', 'n02370806', 'n02075296', 'n02121808', 'n01844917']\n",
      "Vague classes: ['n03419014']\n",
      "Vague classes nid: [['n02730930', 'n03763968']]\n",
      "Vague classes ids: [[62, 119]]\n",
      "Actual label sets\n",
      " R: [[0], [1], [2], [3], [4], [5], [6], [7], [8], [9], [10], [11], [12], [13], [14], [15], [16], [17], [18], [19], [20], [21], [22], [23], [24], [25], [26], [27], [28], [29], [30], [31], [32], [33], [34], [35], [36], [37], [38], [39], [40], [41], [42], [43], [44], [45], [46], [47], [48], [49], [50], [51], [52], [53], [54], [55], [56], [57], [58], [59], [60], [61], [62], [63], [64], [65], [66], [67], [68], [69], [70], [71], [72], [73], [74], [75], [76], [77], [78], [79], [80], [81], [82], [83], [84], [85], [86], [87], [88], [89], [90], [91], [92], [93], [94], [95], [96], [97], [98], [99], [100], [101], [102], [103], [104], [105], [106], [107], [108], [109], [110], [111], [112], [113], [114], [115], [116], [117], [118], [119], [120], [121], [122], [123], [124], [125], [126], [127], [128], [129], [130], [131], [132], [133], [134], [135], [136], [137], [138], [139], [140], [141], [142], [143], [144], [145], [146], [147], [148], [149], [150], [151], [152], [153], [154], [155], [156], [157], [158], [159], [160], [161], [162], [163], [164], [165], [166], [167], [168], [169], [170], [171], [172], [173], [174], [175], [176], [177], [178], [179], [180], [181], [182], [183], [184], [185], [186], [187], [188], [189], [190], [191], [192], [193], [194], [195], [196], [197], [198], [199], [62, 119]]\n",
      "Data splitted. Train, Valid, Test size: (90200, 9800, 10000)\n"
     ]
    }
   ],
   "source": [
    "from data.tinyImageNet import tinyImageNetVague \n",
    "\n",
    "data_dir = '/home/cxl173430/data/DATASETS/'\n",
    "batch_size = 64\n",
    "\n",
    "mydata = tinyImageNetVague(\n",
    "            data_dir, \n",
    "            num_comp=1, \n",
    "            batch_size=batch_size,\n",
    "            imagenet_hierarchy_path=data_dir,\n",
    "            duplicate=True)"
   ]
  },
  {
   "cell_type": "code",
   "execution_count": 13,
   "metadata": {},
   "outputs": [
    {
     "data": {
      "text/plain": [
       "90490"
      ]
     },
     "execution_count": 13,
     "metadata": {},
     "output_type": "execute_result"
    }
   ],
   "source": [
    "len(mydata.train_loader.dataset)"
   ]
  },
  {
   "cell_type": "code",
   "execution_count": 3,
   "metadata": {
    "ExecuteTime": {
     "end_time": "2022-12-08T21:36:46.869936Z",
     "start_time": "2022-12-08T21:36:15.086975Z"
    }
   },
   "outputs": [],
   "source": [
    "from collections import Counter\n",
    "labels_truth = []\n",
    "labels_dup = []\n",
    "test_size = len(mydata.test_loader.dataset)\n",
    "for i in range(test_size):\n",
    "    labels_truth.append(mydata.test_loader.dataset[i][1])\n",
    "    labels_dup.append(mydata.test_loader.dataset[i][2])"
   ]
  },
  {
   "cell_type": "code",
   "execution_count": 6,
   "metadata": {
    "ExecuteTime": {
     "end_time": "2022-12-08T21:40:27.869556Z",
     "start_time": "2022-12-08T21:40:27.839670Z"
    }
   },
   "outputs": [
    {
     "data": {
      "text/plain": [
       "Counter({0: 50,\n",
       "         1: 50,\n",
       "         2: 50,\n",
       "         3: 50,\n",
       "         4: 50,\n",
       "         5: 50,\n",
       "         6: 50,\n",
       "         7: 50,\n",
       "         8: 50,\n",
       "         9: 50,\n",
       "         10: 50,\n",
       "         11: 50,\n",
       "         12: 50,\n",
       "         13: 50,\n",
       "         14: 50,\n",
       "         15: 50,\n",
       "         16: 50,\n",
       "         17: 50,\n",
       "         18: 50,\n",
       "         19: 50,\n",
       "         20: 50,\n",
       "         21: 50,\n",
       "         22: 50,\n",
       "         23: 50,\n",
       "         24: 50,\n",
       "         25: 50,\n",
       "         26: 50,\n",
       "         27: 50,\n",
       "         28: 50,\n",
       "         29: 50,\n",
       "         30: 50,\n",
       "         31: 50,\n",
       "         32: 50,\n",
       "         33: 50,\n",
       "         34: 50,\n",
       "         35: 50,\n",
       "         36: 50,\n",
       "         37: 50,\n",
       "         38: 50,\n",
       "         39: 50,\n",
       "         40: 50,\n",
       "         41: 50,\n",
       "         42: 50,\n",
       "         43: 50,\n",
       "         44: 50,\n",
       "         45: 50,\n",
       "         46: 50,\n",
       "         47: 50,\n",
       "         48: 50,\n",
       "         49: 50,\n",
       "         50: 50,\n",
       "         51: 50,\n",
       "         52: 50,\n",
       "         53: 50,\n",
       "         54: 50,\n",
       "         55: 50,\n",
       "         56: 50,\n",
       "         57: 50,\n",
       "         58: 50,\n",
       "         59: 50,\n",
       "         60: 50,\n",
       "         61: 50,\n",
       "         63: 50,\n",
       "         64: 50,\n",
       "         65: 50,\n",
       "         66: 50,\n",
       "         67: 50,\n",
       "         68: 50,\n",
       "         69: 50,\n",
       "         70: 50,\n",
       "         71: 50,\n",
       "         72: 50,\n",
       "         73: 50,\n",
       "         74: 50,\n",
       "         75: 50,\n",
       "         76: 50,\n",
       "         77: 50,\n",
       "         78: 50,\n",
       "         79: 50,\n",
       "         80: 50,\n",
       "         81: 50,\n",
       "         82: 50,\n",
       "         83: 50,\n",
       "         84: 50,\n",
       "         85: 50,\n",
       "         86: 50,\n",
       "         87: 50,\n",
       "         88: 50,\n",
       "         89: 50,\n",
       "         90: 50,\n",
       "         91: 50,\n",
       "         92: 50,\n",
       "         93: 50,\n",
       "         94: 50,\n",
       "         95: 50,\n",
       "         96: 50,\n",
       "         97: 50,\n",
       "         98: 50,\n",
       "         99: 50,\n",
       "         100: 50,\n",
       "         101: 50,\n",
       "         102: 50,\n",
       "         103: 50,\n",
       "         104: 50,\n",
       "         105: 50,\n",
       "         106: 50,\n",
       "         107: 50,\n",
       "         108: 50,\n",
       "         109: 50,\n",
       "         110: 50,\n",
       "         111: 50,\n",
       "         112: 50,\n",
       "         113: 50,\n",
       "         114: 50,\n",
       "         115: 50,\n",
       "         116: 50,\n",
       "         117: 50,\n",
       "         118: 50,\n",
       "         120: 50,\n",
       "         121: 50,\n",
       "         122: 50,\n",
       "         123: 50,\n",
       "         124: 50,\n",
       "         125: 50,\n",
       "         126: 50,\n",
       "         127: 50,\n",
       "         128: 50,\n",
       "         129: 50,\n",
       "         130: 50,\n",
       "         131: 50,\n",
       "         132: 50,\n",
       "         133: 50,\n",
       "         134: 50,\n",
       "         135: 50,\n",
       "         136: 50,\n",
       "         137: 50,\n",
       "         138: 50,\n",
       "         139: 50,\n",
       "         140: 50,\n",
       "         141: 50,\n",
       "         142: 50,\n",
       "         143: 50,\n",
       "         144: 50,\n",
       "         145: 50,\n",
       "         146: 50,\n",
       "         147: 50,\n",
       "         148: 50,\n",
       "         149: 50,\n",
       "         150: 50,\n",
       "         151: 50,\n",
       "         152: 50,\n",
       "         153: 50,\n",
       "         154: 50,\n",
       "         155: 50,\n",
       "         156: 50,\n",
       "         157: 50,\n",
       "         158: 50,\n",
       "         159: 50,\n",
       "         160: 50,\n",
       "         161: 50,\n",
       "         162: 50,\n",
       "         163: 50,\n",
       "         164: 50,\n",
       "         165: 50,\n",
       "         166: 50,\n",
       "         167: 50,\n",
       "         168: 50,\n",
       "         169: 50,\n",
       "         170: 50,\n",
       "         171: 50,\n",
       "         172: 50,\n",
       "         173: 50,\n",
       "         174: 50,\n",
       "         175: 50,\n",
       "         176: 50,\n",
       "         177: 50,\n",
       "         178: 50,\n",
       "         179: 50,\n",
       "         180: 50,\n",
       "         181: 50,\n",
       "         182: 50,\n",
       "         183: 50,\n",
       "         184: 50,\n",
       "         185: 50,\n",
       "         186: 50,\n",
       "         187: 50,\n",
       "         188: 50,\n",
       "         189: 50,\n",
       "         190: 50,\n",
       "         191: 50,\n",
       "         192: 50,\n",
       "         193: 50,\n",
       "         194: 50,\n",
       "         195: 50,\n",
       "         196: 50,\n",
       "         197: 50,\n",
       "         198: 50,\n",
       "         199: 50,\n",
       "         62: 50,\n",
       "         119: 50})"
      ]
     },
     "execution_count": 6,
     "metadata": {},
     "output_type": "execute_result"
    }
   ],
   "source": [
    "label_cnt_test_truth = Counter(labels_truth)\n",
    "label_cnt_test_truth"
   ]
  },
  {
   "cell_type": "code",
   "execution_count": 5,
   "metadata": {
    "ExecuteTime": {
     "end_time": "2022-12-08T21:37:19.957611Z",
     "start_time": "2022-12-08T21:37:19.949382Z"
    }
   },
   "outputs": [
    {
     "name": "stdout",
     "output_type": "stream",
     "text": [
      "50 50 0\n"
     ]
    }
   ],
   "source": [
    "print(label_cnt_test_truth[62], label_cnt_test_truth[119], label_cnt_test_truth[200])"
   ]
  },
  {
   "cell_type": "code",
   "execution_count": 7,
   "metadata": {
    "ExecuteTime": {
     "end_time": "2022-12-08T21:41:21.785150Z",
     "start_time": "2022-12-08T21:41:21.775441Z"
    }
   },
   "outputs": [
    {
     "name": "stdout",
     "output_type": "stream",
     "text": [
      "34 34 32\n"
     ]
    }
   ],
   "source": [
    "label_cnt_test_dup = Counter(labels_dup)\n",
    "print(label_cnt_test_dup[62], label_cnt_test_dup[119], label_cnt_test_dup[200])"
   ]
  },
  {
   "cell_type": "code",
   "execution_count": 9,
   "metadata": {
    "ExecuteTime": {
     "end_time": "2022-12-08T21:45:08.495258Z",
     "start_time": "2022-12-08T21:44:35.824190Z"
    }
   },
   "outputs": [
    {
     "name": "stdout",
     "output_type": "stream",
     "text": [
      "49 49 0\n",
      "33 29 36\n"
     ]
    }
   ],
   "source": [
    "labels_truth = []\n",
    "labels_dup = []\n",
    "test_size = len(mydata.valid_loader.dataset)\n",
    "for i in range(test_size):\n",
    "    labels_truth.append(mydata.valid_loader.dataset[i][1])\n",
    "    labels_dup.append(mydata.valid_loader.dataset[i][2])\n",
    "\n",
    "label_cnt_valid_truth = Counter(labels_truth)\n",
    "print(label_cnt_valid_truth[62], label_cnt_valid_truth[119], label_cnt_valid_truth[200])\n",
    "\n",
    "label_cnt_valid_dup = Counter(labels_dup)\n",
    "print(label_cnt_valid_dup[62], label_cnt_valid_dup[119], label_cnt_valid_dup[200])"
   ]
  },
  {
   "cell_type": "code",
   "execution_count": 15,
   "metadata": {
    "ExecuteTime": {
     "end_time": "2022-12-08T22:05:05.113115Z",
     "start_time": "2022-12-08T21:59:57.577773Z"
    }
   },
   "outputs": [
    {
     "name": "stdout",
     "output_type": "stream",
     "text": [
      "601 597 0\n",
      "597 601 0\n"
     ]
    }
   ],
   "source": [
    "labels_truth = []\n",
    "labels_dup = []\n",
    "size = len(mydata.train_loader.dataset)\n",
    "for i in range(size):\n",
    "    labels_truth.append(mydata.train_loader.dataset[i][1])\n",
    "    labels_dup.append(mydata.train_loader.dataset[i][2])\n",
    "\n",
    "label_cnt_train_truth = Counter(labels_truth)\n",
    "print(label_cnt_train_truth[62], label_cnt_train_truth[119], label_cnt_train_truth[200])\n",
    "\n",
    "label_cnt_train_dup = Counter(labels_dup)\n",
    "print(label_cnt_train_dup[62], label_cnt_train_dup[119], label_cnt_train_dup[200])"
   ]
  },
  {
   "cell_type": "code",
   "execution_count": 12,
   "metadata": {
    "ExecuteTime": {
     "end_time": "2022-12-08T21:52:47.506057Z",
     "start_time": "2022-12-08T21:52:47.491780Z"
    }
   },
   "outputs": [
    {
     "name": "stdout",
     "output_type": "stream",
     "text": [
      "597 601 0\n"
     ]
    }
   ],
   "source": [
    "label_cnt_train_dup = Counter(labels_dup)\n",
    "print(label_cnt_train_dup[62], label_cnt_train_dup[119], label_cnt_train_dup[200])"
   ]
  },
  {
   "cell_type": "code",
   "execution_count": 13,
   "metadata": {
    "ExecuteTime": {
     "end_time": "2022-12-08T21:53:24.908540Z",
     "start_time": "2022-12-08T21:53:24.899250Z"
    }
   },
   "outputs": [
    {
     "data": {
      "text/plain": [
       "90496"
      ]
     },
     "execution_count": 13,
     "metadata": {},
     "output_type": "execute_result"
    }
   ],
   "source": [
    "test_size"
   ]
  },
  {
   "cell_type": "code",
   "execution_count": null,
   "metadata": {},
   "outputs": [],
   "source": [
    "import random\n",
    "\n",
    "test_samples = [[1,2,3,4,5],\n",
    "                [5,6,7,8,3],\n",
    "                [3,6,8,2,1]]\n",
    "\n",
    "for sample in test_samples:\n",
    "    select = random.sample(sample, 2)\n",
    "    print(select)"
   ]
  },
  {
   "cell_type": "code",
   "execution_count": null,
   "metadata": {},
   "outputs": [],
   "source": [
    "random.seed(10)\n",
    "for sample in test_samples:\n",
    "    select = random.sample(sample, 2)\n",
    "    print(select)"
   ]
  },
  {
   "cell_type": "code",
   "execution_count": null,
   "metadata": {},
   "outputs": [],
   "source": [
    "random.seed(10)\n",
    "for sample in test_samples:\n",
    "    select = random.sample(sample, 2)\n",
    "    print(select)"
   ]
  },
  {
   "cell_type": "code",
   "execution_count": null,
   "metadata": {},
   "outputs": [],
   "source": []
  },
  {
   "cell_type": "code",
   "execution_count": null,
   "metadata": {},
   "outputs": [],
   "source": []
  },
  {
   "cell_type": "code",
   "execution_count": 12,
   "metadata": {},
   "outputs": [
    {
     "name": "stdout",
     "output_type": "stream",
     "text": [
      "119 62\n",
      "119 62\n",
      "119 62\n",
      "119 62\n",
      "119 62\n",
      "119 62\n",
      "119 62\n",
      "119 62\n",
      "119 62\n",
      "119 62\n",
      "119 62\n",
      "119 62\n",
      "119 62\n",
      "119 62\n",
      "119 62\n",
      "119 62\n",
      "119 62\n",
      "119 62\n",
      "119 62\n",
      "119 62\n",
      "119 62\n",
      "119 62\n",
      "119 62\n",
      "119 62\n",
      "119 62\n",
      "119 62\n",
      "119 62\n",
      "119 62\n",
      "119 62\n",
      "119 62\n",
      "119 62\n",
      "119 62\n",
      "119 62\n",
      "119 62\n",
      "119 62\n",
      "119 62\n",
      "119 62\n",
      "119 62\n",
      "119 62\n",
      "119 62\n",
      "119 62\n",
      "119 62\n",
      "119 62\n",
      "119 62\n",
      "119 62\n",
      "119 62\n",
      "119 62\n",
      "119 62\n",
      "119 62\n",
      "119 62\n",
      "119 62\n",
      "119 62\n",
      "119 62\n",
      "119 62\n",
      "119 62\n",
      "119 62\n",
      "119 62\n",
      "119 62\n",
      "119 62\n",
      "119 62\n",
      "119 62\n",
      "119 62\n",
      "119 62\n",
      "119 62\n",
      "119 62\n",
      "119 62\n",
      "119 62\n",
      "119 62\n",
      "119 62\n",
      "119 62\n",
      "119 62\n",
      "119 62\n",
      "119 62\n",
      "119 62\n",
      "119 62\n",
      "119 62\n",
      "119 62\n",
      "119 62\n",
      "119 62\n",
      "119 62\n",
      "119 62\n",
      "119 62\n",
      "119 62\n",
      "119 62\n",
      "119 62\n",
      "119 62\n",
      "119 62\n",
      "119 62\n",
      "119 62\n",
      "119 62\n",
      "119 62\n",
      "119 62\n",
      "119 62\n",
      "119 62\n",
      "119 62\n",
      "119 62\n",
      "119 62\n",
      "119 62\n",
      "119 62\n",
      "119 62\n",
      "119 62\n",
      "119 62\n",
      "119 62\n",
      "119 62\n",
      "119 62\n",
      "119 62\n",
      "119 62\n",
      "119 62\n",
      "119 62\n",
      "119 62\n",
      "119 62\n",
      "119 62\n",
      "119 62\n",
      "119 62\n",
      "119 62\n",
      "119 62\n",
      "119 62\n",
      "119 62\n",
      "119 62\n",
      "119 62\n",
      "119 62\n",
      "119 62\n",
      "119 62\n",
      "119 62\n",
      "119 62\n",
      "119 62\n",
      "119 62\n",
      "119 62\n",
      "119 62\n",
      "119 62\n",
      "119 62\n",
      "119 62\n",
      "119 62\n",
      "119 62\n",
      "119 62\n",
      "119 62\n",
      "119 62\n",
      "119 62\n",
      "119 62\n",
      "119 62\n",
      "119 62\n",
      "119 62\n",
      "119 62\n",
      "119 62\n",
      "119 62\n",
      "119 62\n",
      "119 62\n",
      "119 62\n",
      "119 62\n",
      "62 119\n",
      "62 119\n",
      "62 119\n",
      "62 119\n",
      "62 119\n",
      "62 119\n",
      "62 119\n",
      "62 119\n",
      "62 119\n",
      "62 119\n",
      "62 119\n",
      "62 119\n",
      "62 119\n",
      "62 119\n",
      "62 119\n",
      "62 119\n",
      "62 119\n",
      "62 119\n",
      "62 119\n",
      "62 119\n",
      "62 119\n",
      "62 119\n",
      "62 119\n",
      "62 119\n",
      "62 119\n",
      "62 119\n",
      "62 119\n",
      "62 119\n",
      "62 119\n",
      "62 119\n",
      "62 119\n",
      "62 119\n",
      "62 119\n",
      "62 119\n",
      "62 119\n",
      "62 119\n",
      "62 119\n",
      "62 119\n",
      "62 119\n",
      "62 119\n",
      "62 119\n",
      "62 119\n",
      "62 119\n",
      "62 119\n",
      "62 119\n",
      "62 119\n",
      "62 119\n",
      "62 119\n",
      "62 119\n",
      "62 119\n",
      "62 119\n",
      "62 119\n",
      "62 119\n",
      "62 119\n",
      "62 119\n",
      "62 119\n",
      "62 119\n",
      "62 119\n",
      "62 119\n",
      "62 119\n",
      "62 119\n",
      "62 119\n",
      "62 119\n",
      "62 119\n",
      "62 119\n",
      "62 119\n",
      "62 119\n",
      "62 119\n",
      "62 119\n",
      "62 119\n",
      "62 119\n",
      "62 119\n",
      "62 119\n",
      "62 119\n",
      "62 119\n",
      "62 119\n",
      "62 119\n",
      "62 119\n",
      "62 119\n",
      "62 119\n",
      "62 119\n",
      "62 119\n",
      "62 119\n",
      "62 119\n",
      "62 119\n",
      "62 119\n",
      "62 119\n",
      "62 119\n",
      "62 119\n",
      "62 119\n",
      "62 119\n",
      "62 119\n",
      "62 119\n",
      "62 119\n",
      "62 119\n",
      "62 119\n",
      "62 119\n",
      "62 119\n",
      "62 119\n",
      "62 119\n",
      "62 119\n",
      "62 119\n",
      "62 119\n",
      "62 119\n",
      "62 119\n",
      "62 119\n",
      "62 119\n",
      "62 119\n",
      "62 119\n",
      "62 119\n",
      "62 119\n",
      "62 119\n",
      "62 119\n",
      "62 119\n",
      "62 119\n",
      "62 119\n",
      "62 119\n",
      "62 119\n",
      "62 119\n",
      "62 119\n",
      "62 119\n",
      "62 119\n",
      "62 119\n",
      "62 119\n",
      "62 119\n",
      "62 119\n",
      "62 119\n",
      "62 119\n",
      "62 119\n",
      "62 119\n",
      "62 119\n",
      "62 119\n",
      "62 119\n",
      "62 119\n",
      "62 119\n",
      "62 119\n",
      "62 119\n",
      "62 119\n",
      "62 119\n",
      "62 119\n",
      "62 119\n",
      "62 119\n",
      "62 119\n",
      "62 119\n",
      "62 119\n",
      "62 119\n",
      "62 119\n",
      "62 119\n"
     ]
    }
   ],
   "source": [
    "for i in range(89909, len(labels_truth)):\n",
    "    label1 = mydata.train_loader.dataset[i][1]\n",
    "    label2 = mydata.train_loader.dataset[i][2]\n",
    "    if label1 != label2:\n",
    "        print(label1, label2)"
   ]
  },
  {
   "cell_type": "code",
   "execution_count": 11,
   "metadata": {},
   "outputs": [
    {
     "name": "stdout",
     "output_type": "stream",
     "text": [
      "62 200\n",
      "62 200\n",
      "62 200\n",
      "62 200\n",
      "62 200\n",
      "62 200\n",
      "62 200\n",
      "62 200\n",
      "62 200\n",
      "62 200\n",
      "62 200\n",
      "62 200\n",
      "62 200\n",
      "62 200\n",
      "62 200\n",
      "62 200\n",
      "119 200\n",
      "119 200\n",
      "119 200\n",
      "119 200\n",
      "119 200\n",
      "119 200\n",
      "119 200\n",
      "119 200\n",
      "119 200\n",
      "119 200\n",
      "119 200\n",
      "119 200\n",
      "119 200\n",
      "119 200\n",
      "119 200\n",
      "119 200\n"
     ]
    }
   ],
   "source": [
    "for i in range(10000):\n",
    "    label1 = mydata.test_loader.dataset[i][1]\n",
    "    label2 = mydata.test_loader.dataset[i][2]\n",
    "    if label1 != label2:\n",
    "        print(label1, label2)\n"
   ]
  }
 ],
 "metadata": {
  "kernelspec": {
   "display_name": "Python 3 (ipykernel)",
   "language": "python",
   "name": "python3"
  },
  "language_info": {
   "codemirror_mode": {
    "name": "ipython",
    "version": 3
   },
   "file_extension": ".py",
   "mimetype": "text/x-python",
   "name": "python",
   "nbconvert_exporter": "python",
   "pygments_lexer": "ipython3",
   "version": "3.9.13"
  },
  "toc": {
   "base_numbering": 1,
   "nav_menu": {},
   "number_sections": true,
   "sideBar": true,
   "skip_h1_title": false,
   "title_cell": "Table of Contents",
   "title_sidebar": "Contents",
   "toc_cell": false,
   "toc_position": {},
   "toc_section_display": true,
   "toc_window_display": false
  },
  "varInspector": {
   "cols": {
    "lenName": 16,
    "lenType": 16,
    "lenVar": 40
   },
   "kernels_config": {
    "python": {
     "delete_cmd_postfix": "",
     "delete_cmd_prefix": "del ",
     "library": "var_list.py",
     "varRefreshCmd": "print(var_dic_list())"
    },
    "r": {
     "delete_cmd_postfix": ") ",
     "delete_cmd_prefix": "rm(",
     "library": "var_list.r",
     "varRefreshCmd": "cat(var_dic_list()) "
    }
   },
   "types_to_exclude": [
    "module",
    "function",
    "builtin_function_or_method",
    "instance",
    "_Feature"
   ],
   "window_display": false
  },
  "vscode": {
   "interpreter": {
    "hash": "d7f76c134df65c5573318e989b45a1c1bdfcc683504c05e694022f95b8f93cf0"
   }
  }
 },
 "nbformat": 4,
 "nbformat_minor": 2
}
