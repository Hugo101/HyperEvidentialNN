{
  "cells": [
    {
      "cell_type": "code",
      "source": [
        "from google.colab import drive\n",
        "drive.mount('/content/drive')"
      ],
      "metadata": {
        "colab": {
          "base_uri": "https://localhost:8080/"
        },
        "id": "gzm2_G3sgZBH",
        "outputId": "94481565-8deb-48e6-d4ac-48323a76ecc8"
      },
      "execution_count": null,
      "outputs": [
        {
          "output_type": "stream",
          "name": "stdout",
          "text": [
            "Mounted at /content/drive\n"
          ]
        }
      ]
    },
    {
      "cell_type": "code",
      "execution_count": null,
      "metadata": {
        "colab": {
          "base_uri": "https://localhost:8080/"
        },
        "id": "teCFNob3zjjF",
        "outputId": "8c652579-702f-4342-8731-71ace7024eb8"
      },
      "outputs": [
        {
          "output_type": "stream",
          "name": "stdout",
          "text": [
            "Looking in indexes: https://pypi.org/simple, https://us-python.pkg.dev/colab-wheels/public/simple/\n",
            "Collecting pytorch-ignite\n",
            "  Downloading pytorch_ignite-0.4.10-py3-none-any.whl (264 kB)\n",
            "\u001b[K     |████████████████████████████████| 264 kB 5.1 MB/s \n",
            "\u001b[?25hCollecting efficientnet-pytorch\n",
            "  Downloading efficientnet_pytorch-0.7.1.tar.gz (21 kB)\n",
            "Requirement already satisfied: torch<2,>=1.3 in /usr/local/lib/python3.7/dist-packages (from pytorch-ignite) (1.12.1+cu113)\n",
            "Requirement already satisfied: packaging in /usr/local/lib/python3.7/dist-packages (from pytorch-ignite) (21.3)\n",
            "Requirement already satisfied: typing-extensions in /usr/local/lib/python3.7/dist-packages (from torch<2,>=1.3->pytorch-ignite) (4.1.1)\n",
            "Requirement already satisfied: pyparsing!=3.0.5,>=2.0.2 in /usr/local/lib/python3.7/dist-packages (from packaging->pytorch-ignite) (3.0.9)\n",
            "Building wheels for collected packages: efficientnet-pytorch\n",
            "  Building wheel for efficientnet-pytorch (setup.py) ... \u001b[?25l\u001b[?25hdone\n",
            "  Created wheel for efficientnet-pytorch: filename=efficientnet_pytorch-0.7.1-py3-none-any.whl size=16446 sha256=089855f7c860e6d51fe25b95a8feb7a5daf6972c7355ab99909bc6a306c827dc\n",
            "  Stored in directory: /root/.cache/pip/wheels/0e/cc/b2/49e74588263573ff778da58cc99b9c6349b496636a7e165be6\n",
            "Successfully built efficientnet-pytorch\n",
            "Installing collected packages: pytorch-ignite, efficientnet-pytorch\n",
            "Successfully installed efficientnet-pytorch-0.7.1 pytorch-ignite-0.4.10\n"
          ]
        }
      ],
      "source": [
        "# Install Python packages\n",
        "!pip install pytorch-ignite efficientnet-pytorch"
      ]
    },
    {
      "cell_type": "code",
      "execution_count": null,
      "metadata": {
        "id": "3M8pt004bKNw"
      },
      "outputs": [],
      "source": [
        "# Import libraries\n",
        "import numpy as np\n",
        "import pandas as pd\n",
        "import matplotlib.pyplot as plt\n",
        "import random\n",
        "from datetime import datetime as dt\n",
        "import time\n",
        "\n",
        "import torch\n",
        "from torch import optim, nn\n",
        "from torch.utils.data import DataLoader, TensorDataset, Dataset\n",
        "from torchvision.utils import make_grid\n",
        "from torchvision import transforms as T\n",
        "from torchvision import models, datasets\n",
        "from efficientnet_pytorch import EfficientNet\n",
        "import torch.nn.functional as F\n",
        "import argparse\n",
        "\n",
        "import os\n",
        "from random import randint\n",
        "from sklearn import metrics\n",
        "import urllib\n",
        "import zipfile\n",
        "import csv\n",
        "\n",
        "import math\n",
        "from torch.utils.data import Subset\n",
        "from torch.utils.data import random_split"
      ]
    },
    {
      "cell_type": "code",
      "source": [
        "parser = argparse.ArgumentParser(description='Process some integers.')\n",
        "\n",
        "parser.add_argument('-gpu', default=-1, type=int, help='The index of the gpu used')\n",
        "parser.add_argument('-num_comp', default=1, type=int,\n",
        "                    help='The number of composite elements')\n",
        "parser.add_argument('-save_dir', default='.', type=str, help='set save directory')\n",
        "parser.add_argument('-seed', default=123, type=int, help='set random seed')\n",
        "\n",
        "args = parser.parse_args(\"\")\n",
        "print(args)"
      ],
      "metadata": {
        "colab": {
          "base_uri": "https://localhost:8080/"
        },
        "id": "1zMWUxBNyUtz",
        "outputId": "e300c19d-193a-4186-d88c-3ede868f7831"
      },
      "execution_count": null,
      "outputs": [
        {
          "output_type": "stream",
          "name": "stdout",
          "text": [
            "Namespace(gpu=-1, num_comp=1, save_dir='.', seed=123)\n"
          ]
        }
      ]
    },
    {
      "cell_type": "code",
      "source": [
        "num_comp = args.num_comp\n",
        "save_dir = args.save_dir\n",
        "model_save_dir = os.path.join(save_dir, \"models\")\n",
        "if not os.path.exists(model_save_dir):\n",
        "    os.makedirs(model_save_dir)\n",
        "\n",
        "if args.seed is not None:\n",
        "    torch.manual_seed(args.seed)\n",
        "    torch.cuda.manual_seed(args.seed)"
      ],
      "metadata": {
        "id": "JsSUadUR2PYK"
      },
      "execution_count": null,
      "outputs": []
    },
    {
      "cell_type": "code",
      "source": [
        "!ls"
      ],
      "metadata": {
        "colab": {
          "base_uri": "https://localhost:8080/"
        },
        "id": "LheleuQF-4Rg",
        "outputId": "8750e944-01f2-47cf-9efb-00a5acfc059a"
      },
      "execution_count": null,
      "outputs": [
        {
          "output_type": "stream",
          "name": "stdout",
          "text": [
            "drive  models  sample_data\n"
          ]
        }
      ]
    },
    {
      "cell_type": "markdown",
      "metadata": {
        "id": "qUHs-8AHLRIq"
      },
      "source": [
        "# **Get the hierarchy**"
      ]
    },
    {
      "cell_type": "code",
      "execution_count": null,
      "metadata": {
        "colab": {
          "base_uri": "https://localhost:8080/"
        },
        "id": "t2NibeRCbik0",
        "outputId": "4042735d-62ab-4e2e-d354-09570786848e"
      },
      "outputs": [
        {
          "output_type": "stream",
          "name": "stdout",
          "text": [
            "--2022-09-06 20:40:00--  http://cs231n.stanford.edu/tiny-imagenet-200.zip\n",
            "Resolving cs231n.stanford.edu (cs231n.stanford.edu)... 171.64.68.10\n",
            "Connecting to cs231n.stanford.edu (cs231n.stanford.edu)|171.64.68.10|:80... connected.\n",
            "HTTP request sent, awaiting response... 200 OK\n",
            "Length: 248100043 (237M) [application/zip]\n",
            "Saving to: ‘tiny-imagenet-200.zip’\n",
            "\n",
            "tiny-imagenet-200.z 100%[===================>] 236.61M  52.3MB/s    in 6.4s    \n",
            "\n",
            "2022-09-06 20:40:06 (36.8 MB/s) - ‘tiny-imagenet-200.zip’ saved [248100043/248100043]\n",
            "\n"
          ]
        }
      ],
      "source": [
        "# # Retrieve data directly from Stanford data source\n",
        "!wget http://cs231n.stanford.edu/tiny-imagenet-200.zip\n",
        "  \n",
        "# # Unzip raw zip file\n",
        "!unzip -qq 'tiny-imagenet-200.zip'\n",
        "\n",
        "# Define main data directory\n",
        "DATA_DIR = 'tiny-imagenet-200' # Original images come in shapes of [3,64,64]\n",
        "\n",
        "# Define training and validation data paths\n",
        "TRAIN_DIR = os.path.join(DATA_DIR, 'train') \n",
        "VALID_DIR = os.path.join(DATA_DIR, 'val')"
      ]
    },
    {
      "cell_type": "code",
      "source": [
        "TRAIN_DIR"
      ],
      "metadata": {
        "colab": {
          "base_uri": "https://localhost:8080/",
          "height": 35
        },
        "id": "NL-YNDAq_N1g",
        "outputId": "94060553-4d5d-4730-dbf5-2f8d4c0dfabf"
      },
      "execution_count": null,
      "outputs": [
        {
          "output_type": "execute_result",
          "data": {
            "text/plain": [
              "'tiny-imagenet-200/train'"
            ],
            "application/vnd.google.colaboratory.intrinsic+json": {
              "type": "string"
            }
          },
          "metadata": {},
          "execution_count": 8
        }
      ]
    },
    {
      "cell_type": "code",
      "source": [
        "!ls"
      ],
      "metadata": {
        "colab": {
          "base_uri": "https://localhost:8080/"
        },
        "id": "CSIPLWju_Q38",
        "outputId": "7fe75c64-1df2-4a8e-c4a7-68249877e499"
      },
      "execution_count": null,
      "outputs": [
        {
          "output_type": "stream",
          "name": "stdout",
          "text": [
            "drive  models  sample_data  tiny-imagenet-200  tiny-imagenet-200.zip\n"
          ]
        }
      ]
    },
    {
      "cell_type": "code",
      "execution_count": null,
      "metadata": {
        "id": "rFwO6eX5bkJd"
      },
      "outputs": [],
      "source": [
        "tinyImageNet_class_wnids = set()\n",
        "for subclass in os.listdir(TRAIN_DIR):\n",
        "    tinyImageNet_class_wnids.add(subclass)\n"
      ]
    },
    {
      "cell_type": "code",
      "source": [
        "tinyImageNet_class_wnids"
      ],
      "metadata": {
        "colab": {
          "base_uri": "https://localhost:8080/"
        },
        "id": "kFP69L2H_kL4",
        "outputId": "6450022e-7ccf-4c97-962e-cd0caf427430"
      },
      "execution_count": null,
      "outputs": [
        {
          "output_type": "execute_result",
          "data": {
            "text/plain": [
              "{'n01443537',\n",
              " 'n01629819',\n",
              " 'n01641577',\n",
              " 'n01644900',\n",
              " 'n01698640',\n",
              " 'n01742172',\n",
              " 'n01768244',\n",
              " 'n01770393',\n",
              " 'n01774384',\n",
              " 'n01774750',\n",
              " 'n01784675',\n",
              " 'n01855672',\n",
              " 'n01882714',\n",
              " 'n01910747',\n",
              " 'n01917289',\n",
              " 'n01944390',\n",
              " 'n01945685',\n",
              " 'n01950731',\n",
              " 'n01983481',\n",
              " 'n01984695',\n",
              " 'n02002724',\n",
              " 'n02056570',\n",
              " 'n02058221',\n",
              " 'n02074367',\n",
              " 'n02085620',\n",
              " 'n02094433',\n",
              " 'n02099601',\n",
              " 'n02099712',\n",
              " 'n02106662',\n",
              " 'n02113799',\n",
              " 'n02123045',\n",
              " 'n02123394',\n",
              " 'n02124075',\n",
              " 'n02125311',\n",
              " 'n02129165',\n",
              " 'n02132136',\n",
              " 'n02165456',\n",
              " 'n02190166',\n",
              " 'n02206856',\n",
              " 'n02226429',\n",
              " 'n02231487',\n",
              " 'n02233338',\n",
              " 'n02236044',\n",
              " 'n02268443',\n",
              " 'n02279972',\n",
              " 'n02281406',\n",
              " 'n02321529',\n",
              " 'n02364673',\n",
              " 'n02395406',\n",
              " 'n02403003',\n",
              " 'n02410509',\n",
              " 'n02415577',\n",
              " 'n02423022',\n",
              " 'n02437312',\n",
              " 'n02480495',\n",
              " 'n02481823',\n",
              " 'n02486410',\n",
              " 'n02504458',\n",
              " 'n02509815',\n",
              " 'n02666196',\n",
              " 'n02669723',\n",
              " 'n02699494',\n",
              " 'n02730930',\n",
              " 'n02769748',\n",
              " 'n02788148',\n",
              " 'n02791270',\n",
              " 'n02793495',\n",
              " 'n02795169',\n",
              " 'n02802426',\n",
              " 'n02808440',\n",
              " 'n02814533',\n",
              " 'n02814860',\n",
              " 'n02815834',\n",
              " 'n02823428',\n",
              " 'n02837789',\n",
              " 'n02841315',\n",
              " 'n02843684',\n",
              " 'n02883205',\n",
              " 'n02892201',\n",
              " 'n02906734',\n",
              " 'n02909870',\n",
              " 'n02917067',\n",
              " 'n02927161',\n",
              " 'n02948072',\n",
              " 'n02950826',\n",
              " 'n02963159',\n",
              " 'n02977058',\n",
              " 'n02988304',\n",
              " 'n02999410',\n",
              " 'n03014705',\n",
              " 'n03026506',\n",
              " 'n03042490',\n",
              " 'n03085013',\n",
              " 'n03089624',\n",
              " 'n03100240',\n",
              " 'n03126707',\n",
              " 'n03160309',\n",
              " 'n03179701',\n",
              " 'n03201208',\n",
              " 'n03250847',\n",
              " 'n03255030',\n",
              " 'n03355925',\n",
              " 'n03388043',\n",
              " 'n03393912',\n",
              " 'n03400231',\n",
              " 'n03404251',\n",
              " 'n03424325',\n",
              " 'n03444034',\n",
              " 'n03447447',\n",
              " 'n03544143',\n",
              " 'n03584254',\n",
              " 'n03599486',\n",
              " 'n03617480',\n",
              " 'n03637318',\n",
              " 'n03649909',\n",
              " 'n03662601',\n",
              " 'n03670208',\n",
              " 'n03706229',\n",
              " 'n03733131',\n",
              " 'n03763968',\n",
              " 'n03770439',\n",
              " 'n03796401',\n",
              " 'n03804744',\n",
              " 'n03814639',\n",
              " 'n03837869',\n",
              " 'n03838899',\n",
              " 'n03854065',\n",
              " 'n03891332',\n",
              " 'n03902125',\n",
              " 'n03930313',\n",
              " 'n03937543',\n",
              " 'n03970156',\n",
              " 'n03976657',\n",
              " 'n03977966',\n",
              " 'n03980874',\n",
              " 'n03983396',\n",
              " 'n03992509',\n",
              " 'n04008634',\n",
              " 'n04023962',\n",
              " 'n04067472',\n",
              " 'n04070727',\n",
              " 'n04074963',\n",
              " 'n04099969',\n",
              " 'n04118538',\n",
              " 'n04133789',\n",
              " 'n04146614',\n",
              " 'n04149813',\n",
              " 'n04179913',\n",
              " 'n04251144',\n",
              " 'n04254777',\n",
              " 'n04259630',\n",
              " 'n04265275',\n",
              " 'n04275548',\n",
              " 'n04285008',\n",
              " 'n04311004',\n",
              " 'n04328186',\n",
              " 'n04356056',\n",
              " 'n04366367',\n",
              " 'n04371430',\n",
              " 'n04376876',\n",
              " 'n04398044',\n",
              " 'n04399382',\n",
              " 'n04417672',\n",
              " 'n04456115',\n",
              " 'n04465501',\n",
              " 'n04486054',\n",
              " 'n04487081',\n",
              " 'n04501370',\n",
              " 'n04507155',\n",
              " 'n04532106',\n",
              " 'n04532670',\n",
              " 'n04540053',\n",
              " 'n04560804',\n",
              " 'n04562935',\n",
              " 'n04596742',\n",
              " 'n04597913',\n",
              " 'n06596364',\n",
              " 'n07579787',\n",
              " 'n07583066',\n",
              " 'n07614500',\n",
              " 'n07615774',\n",
              " 'n07695742',\n",
              " 'n07711569',\n",
              " 'n07715103',\n",
              " 'n07720875',\n",
              " 'n07734744',\n",
              " 'n07747607',\n",
              " 'n07749582',\n",
              " 'n07753592',\n",
              " 'n07768694',\n",
              " 'n07871810',\n",
              " 'n07873807',\n",
              " 'n07875152',\n",
              " 'n07920052',\n",
              " 'n09193705',\n",
              " 'n09246464',\n",
              " 'n09256479',\n",
              " 'n09332890',\n",
              " 'n09428293',\n",
              " 'n12267677'}"
            ]
          },
          "metadata": {},
          "execution_count": 11
        }
      ]
    },
    {
      "cell_type": "code",
      "execution_count": null,
      "metadata": {
        "colab": {
          "base_uri": "https://localhost:8080/"
        },
        "id": "lAgygKX3bk4S",
        "outputId": "7a06f0cb-bcc3-4e46-a1dc-6a7951a739d5"
      },
      "outputs": [
        {
          "output_type": "stream",
          "name": "stdout",
          "text": [
            "number of singleton classes:  200\n"
          ]
        }
      ],
      "source": [
        "K = len(tinyImageNet_class_wnids)\n",
        "print('number of singleton classes: ',K)"
      ]
    },
    {
      "cell_type": "code",
      "execution_count": null,
      "metadata": {
        "id": "PLIihL2gFHCM"
      },
      "outputs": [],
      "source": [
        "def have_dummy(row):\n",
        "    s = row[0]+row[1]\n",
        "    return ('dummy' in s)\n",
        "\n",
        "def remove_dummy(tab):\n",
        "    new_tab = []\n",
        "    for row in tab:\n",
        "        if have_dummy(row)==False:\n",
        "            new_tab.append(row)\n",
        "    return new_tab\n",
        "\n",
        "imagenet_hierarchy_path = \"drive/MyDrive/Projects/HyperEvidentialNN/TinyImageNet/\"\n",
        "with open(imagenet_hierarchy_path+'ImageNetHierarchy.txt') as f:\n",
        "    reader = csv.reader(f, delimiter=' ')\n",
        "    hierarchy = [line for line in reader]\n",
        "##### hierarchy:size 1327*2 each row contains the information [superclass, subclass]\n",
        "hierarchy = remove_dummy(hierarchy)"
      ]
    },
    {
      "cell_type": "code",
      "source": [
        "print(type(hierarchy), len(hierarchy))"
      ],
      "metadata": {
        "colab": {
          "base_uri": "https://localhost:8080/"
        },
        "id": "1vxFGJABigFq",
        "outputId": "05db32ba-6675-493f-f3b5-635d6d0ebb3b"
      },
      "execution_count": null,
      "outputs": [
        {
          "output_type": "stream",
          "name": "stdout",
          "text": [
            "<class 'list'> 1224\n"
          ]
        }
      ]
    },
    {
      "cell_type": "code",
      "execution_count": null,
      "metadata": {
        "id": "j93CCo1yGARM",
        "colab": {
          "base_uri": "https://localhost:8080/"
        },
        "outputId": "a1ddbf80-a137-4f20-e1f8-167ccf4f9e2b"
      },
      "outputs": [
        {
          "output_type": "stream",
          "name": "stdout",
          "text": [
            "length of parent_to_subclass:  107\n",
            "n04230808 :  ['n03770439']\n",
            "n04370048 :  ['n02963159']\n",
            "n04371563 :  ['n02837789', 'n04371430']\n",
            "n03419014 :  ['n02730930', 'n03763968']\n",
            "n03057021 :  ['n03404251', 'n02669723', 'n04532106', 'n03980874', 'n03617480']\n",
            "n03314378 :  ['n03424325']\n",
            "n04272054 :  ['n04356056']\n",
            "n03815615 :  ['n02883205']\n",
            "n02887209 :  ['n03814639']\n",
            "n03381126 :  ['n04254777']\n",
            "n04323819 :  ['n03026506']\n",
            "n04199027 :  ['n04133789']\n",
            "n03497657 :  ['n04259630']\n",
            "n02773037 :  ['n02769748']\n",
            "n02958343 :  ['n02814533', 'n03100240', 'n03670208', 'n04285008', 'n03444034', 'n03977966']\n",
            "n04490091 :  ['n04465501', 'n03796401']\n",
            "n02924116 :  ['n04146614', 'n04487081']\n",
            "n03896233 :  ['n02917067']\n",
            "n02959942 :  ['n03393912']\n",
            "n02970849 :  ['n03599486']\n",
            "n02858304 :  ['n03447447', 'n03662601']\n",
            "n04379243 :  ['n03179701', 'n03201208']\n",
            "n03001627 :  ['n04099969']\n",
            "n03636649 :  ['n03637318']\n",
            "n07681926 :  ['n07695742']\n",
            "n07557434 :  ['n07871810', 'n07873807', 'n07875152']\n",
            "n07710616 :  ['n07711569']\n",
            "n07611358 :  ['n07614500', 'n07615774']\n",
            "n07582609 :  ['n07583066']\n",
            "n07707451 :  ['n07734744', 'n07715103']\n",
            "n07720615 :  ['n07720875']\n",
            "n13134947 :  ['n12267677', 'n07753592', 'n07768694', 'n07747607', 'n07749582']\n",
            "n07929519 :  ['n07920052']\n",
            "n03859280 :  ['n02793495']\n",
            "n03748162 :  ['n02791270', 'n02927161', 'n03089624']\n",
            "n04460130 :  ['n02814860']\n",
            "n03259505 :  ['n03042490', 'n02843684']\n",
            "n04105068 :  ['n04417672']\n",
            "n04078574 :  ['n04562935']\n",
            "n04217882 :  ['n04149813']\n",
            "n02898711 :  ['n04311004', 'n04366367', 'n04532670']\n",
            "n03743902 :  ['n02892201', 'n04486054']\n",
            "n03074380 :  ['n03837869']\n",
            "n02796623 :  ['n02788148', 'n03160309']\n",
            "n03327234 :  ['n03930313']\n",
            "n03427296 :  ['n04501370']\n",
            "n09433442 :  ['n09332890', 'n09428293']\n",
            "n09359803 :  ['n09193705']\n",
            "n09406793 :  ['n09256479']\n",
            "n03528263 :  ['n04179913', 'n04265275', 'n03649909', 'n04070727']\n",
            "n03278248 :  ['n02988304', 'n03085013', 'n04074963']\n",
            "n04401088 :  ['n03902125']\n",
            "n02757462 :  ['n03584254']\n",
            "n04571292 :  ['n03255030']\n",
            "n02778669 :  ['n02802426', 'n04023962', 'n04118538', 'n04540053']\n",
            "n04285146 :  ['n04251144']\n",
            "n04438304 :  ['n03891332', 'n04328186']\n",
            "n04134632 :  ['n03544143']\n",
            "n03080497 :  ['n03706229']\n",
            "n04147495 :  ['n02666196', 'n02841315']\n",
            "n03614532 :  ['n03854065']\n",
            "n04586932 :  ['n03838899']\n",
            "n04451818 :  ['n03804744', 'n04067472', 'n04456115', 'n03970156']\n",
            "n03739693 :  ['n04376876']\n",
            "n04565375 :  ['n04008634', 'n02950826']\n",
            "n03990474 :  ['n04398044']\n",
            "n03880531 :  ['n03400231', 'n04596742']\n",
            "n04381994 :  ['n07579787']\n",
            "n04284002 :  ['n04597913']\n",
            "n02876657 :  ['n02823428', 'n03983396']\n",
            "n03603722 :  ['n04560804']\n",
            "n01767661 :  ['n01768244', 'n01784675']\n",
            "n01769347 :  ['n01770393']\n",
            "n01772222 :  ['n01774384', 'n01774750']\n",
            "n01982650 :  ['n01984695']\n",
            "n01983048 :  ['n01983481']\n",
            "n02164464 :  ['n02165456']\n",
            "n02159955 :  ['n02226429', 'n02233338', 'n02236044', 'n02206856', 'n02190166', 'n02231487', 'n02268443']\n",
            "n02274259 :  ['n02281406']\n",
            "n02279637 :  ['n02279972']\n",
            "n01942177 :  ['n01944390', 'n01945685', 'n01950731']\n",
            "n01915811 :  ['n01917289']\n",
            "n02329401 :  ['n02364673']\n",
            "n02073250 :  ['n02074367']\n",
            "n02503517 :  ['n02504458']\n",
            "n02484322 :  ['n02486410']\n",
            "n02470325 :  ['n02480495', 'n02481823']\n",
            "n02437136 :  ['n02437312']\n",
            "n02370806 :  ['n02395406', 'n02410509']\n",
            "n02419796 :  ['n02423022']\n",
            "n02415435 :  ['n02415577']\n",
            "n02402425 :  ['n02403003']\n",
            "n02131653 :  ['n02132136']\n",
            "n02075296 :  ['n02129165', 'n02509815', 'n02125311']\n",
            "n02121808 :  ['n02123045', 'n02123394', 'n02124075']\n",
            "n02113335 :  ['n02113799']\n",
            "n02084071 :  ['n02106662', 'n02085620', 'n02094433', 'n02099601', 'n02099712']\n",
            "n01881171 :  ['n01882714']\n",
            "n01844917 :  ['n02058221', 'n01855672']\n",
            "n02002075 :  ['n02002724']\n",
            "n02055803 :  ['n02056570']\n",
            "n01698434 :  ['n01698640']\n",
            "n01726692 :  ['n01742172']\n",
            "n01639765 :  ['n01644900']\n",
            "n01640846 :  ['n01641577']\n",
            "n01629276 :  ['n01629819']\n",
            "n02514825 :  ['n01443537']\n"
          ]
        }
      ],
      "source": [
        "parent_to_subclass = {}\n",
        "for superclass, subclass in hierarchy:\n",
        "    if subclass in tinyImageNet_class_wnids:\n",
        "        if superclass not in parent_to_subclass.keys():\n",
        "            parent_to_subclass[superclass] = [subclass]\n",
        "        else:\n",
        "            parent_to_subclass[superclass].append(subclass)\n",
        "\n",
        "print(\"length of parent_to_subclass: \", len(parent_to_subclass))\n",
        "for superClass in parent_to_subclass:\n",
        "    print(superClass, ': ', parent_to_subclass[superClass])"
      ]
    },
    {
      "cell_type": "code",
      "execution_count": null,
      "metadata": {
        "id": "E5Yev9r2bqrf"
      },
      "outputs": [],
      "source": [
        "word_mapping = DATA_DIR + '/' + 'words.txt'\n",
        "with open(word_mapping) as f:\n",
        "    tab_raw = f.readlines()\n",
        "ID_to_names = {}\n",
        "for row in tab_raw:\n",
        "    row = row.replace('\\n','').split('\\t')\n",
        "    WNID = row[0]\n",
        "    ImageLabels = row[1].split(', ')\n",
        "    if WNID in tinyImageNet_class_wnids or WNID in parent_to_subclass:\n",
        "        ID_to_names[WNID] = ImageLabels"
      ]
    },
    {
      "cell_type": "code",
      "execution_count": null,
      "metadata": {
        "colab": {
          "base_uri": "https://localhost:8080/"
        },
        "id": "y8DRljscHNYs",
        "outputId": "0015051c-6f67-4a14-833a-0b7387810cc2"
      },
      "outputs": [
        {
          "output_type": "stream",
          "name": "stdout",
          "text": [
            "number of WNIDs:  307\n"
          ]
        }
      ],
      "source": [
        "print('number of WNIDs: ', len(ID_to_names.keys()))"
      ]
    },
    {
      "cell_type": "code",
      "execution_count": null,
      "metadata": {
        "id": "WsdNxRlYHkDQ",
        "colab": {
          "base_uri": "https://localhost:8080/"
        },
        "outputId": "75cf77c1-9ba2-4578-a73b-90454bf0b381"
      },
      "outputs": [
        {
          "output_type": "stream",
          "name": "stdout",
          "text": [
            "n01443537 :  ['goldfish', 'Carassius auratus']\n",
            "n01629276 :  ['salamander']\n",
            "n01629819 :  ['European fire salamander', 'Salamandra salamandra']\n",
            "n01639765 :  ['frog', 'toad', 'toad frog', 'anuran', 'batrachian', 'salientian']\n",
            "n01640846 :  ['true frog', 'ranid']\n",
            "n01641577 :  ['bullfrog', 'Rana catesbeiana']\n",
            "n01644900 :  ['tailed frog', 'bell toad', 'ribbed toad', 'tailed toad', 'Ascaphus trui']\n",
            "n01698434 :  ['alligator', 'gator']\n",
            "n01698640 :  ['American alligator', 'Alligator mississipiensis']\n",
            "n01726692 :  ['snake', 'serpent', 'ophidian']\n",
            "n01742172 :  ['boa constrictor', 'Constrictor constrictor']\n",
            "n01767661 :  ['arthropod']\n",
            "n01768244 :  ['trilobite']\n",
            "n01769347 :  ['arachnid', 'arachnoid']\n",
            "n01770393 :  ['scorpion']\n",
            "n01772222 :  ['spider']\n",
            "n01774384 :  ['black widow', 'Latrodectus mactans']\n",
            "n01774750 :  ['tarantula']\n",
            "n01784675 :  ['centipede']\n",
            "n01844917 :  ['aquatic bird']\n",
            "n01855672 :  ['goose']\n",
            "n01881171 :  ['phalanger', 'opossum', 'possum']\n",
            "n01882714 :  ['koala', 'koala bear', 'kangaroo bear', 'native bear', 'Phascolarctos cinereus']\n",
            "n01910747 :  ['jellyfish']\n",
            "n01915811 :  ['coral']\n",
            "n01917289 :  ['brain coral']\n",
            "n01942177 :  ['gastropod', 'univalve']\n",
            "n01944390 :  ['snail']\n",
            "n01945685 :  ['slug']\n",
            "n01950731 :  ['sea slug', 'nudibranch']\n",
            "n01982650 :  ['lobster']\n",
            "n01983048 :  ['true lobster']\n",
            "n01983481 :  ['American lobster', 'Northern lobster', 'Maine lobster', 'Homarus americanus']\n",
            "n01984695 :  ['spiny lobster', 'langouste', 'rock lobster', 'crawfish', 'crayfish', 'sea crawfish']\n",
            "n02002075 :  ['stork']\n",
            "n02002724 :  ['black stork', 'Ciconia nigra']\n",
            "n02055803 :  ['penguin']\n",
            "n02056570 :  ['king penguin', 'Aptenodytes patagonica']\n",
            "n02058221 :  ['albatross', 'mollymawk']\n",
            "n02073250 :  ['sea cow', 'sirenian mammal', 'sirenian']\n",
            "n02074367 :  ['dugong', 'Dugong dugon']\n",
            "n02075296 :  ['carnivore']\n",
            "n02084071 :  ['dog', 'domestic dog', 'Canis familiaris']\n",
            "n02085620 :  ['Chihuahua']\n",
            "n02094433 :  ['Yorkshire terrier']\n",
            "n02099601 :  ['golden retriever']\n",
            "n02099712 :  ['Labrador retriever']\n",
            "n02106662 :  ['German shepherd', 'German shepherd dog', 'German police dog', 'alsatian']\n",
            "n02113335 :  ['poodle', 'poodle dog']\n",
            "n02113799 :  ['standard poodle']\n",
            "n02121808 :  ['domestic cat', 'house cat', 'Felis domesticus', 'Felis catus']\n",
            "n02123045 :  ['tabby', 'tabby cat']\n",
            "n02123394 :  ['Persian cat']\n",
            "n02124075 :  ['Egyptian cat']\n",
            "n02125311 :  ['cougar', 'puma', 'catamount', 'mountain lion', 'painter', 'panther', 'Felis concolor']\n",
            "n02129165 :  ['lion', 'king of beasts', 'Panthera leo']\n",
            "n02131653 :  ['bear']\n",
            "n02132136 :  ['brown bear', 'bruin', 'Ursus arctos']\n",
            "n02159955 :  ['insect']\n",
            "n02164464 :  ['beetle']\n",
            "n02165456 :  ['ladybug', 'ladybeetle', 'lady beetle', 'ladybird', 'ladybird beetle']\n",
            "n02190166 :  ['fly']\n",
            "n02206856 :  ['bee']\n",
            "n02226429 :  ['grasshopper', 'hopper']\n",
            "n02231487 :  ['walking stick', 'walkingstick', 'stick insect']\n",
            "n02233338 :  ['cockroach', 'roach']\n",
            "n02236044 :  ['mantis', 'mantid']\n",
            "n02268443 :  ['dragonfly', 'darning needle', \"devil's darning needle\", 'sewing needle', 'snake feeder', 'snake doctor', 'mosquito hawk', 'skeeter hawk']\n",
            "n02274259 :  ['butterfly']\n",
            "n02279637 :  ['danaid', 'danaid butterfly']\n",
            "n02279972 :  ['monarch', 'monarch butterfly', 'milkweed butterfly', 'Danaus plexippus']\n",
            "n02281406 :  ['sulphur butterfly', 'sulfur butterfly']\n",
            "n02321529 :  ['sea cucumber', 'holothurian']\n",
            "n02329401 :  ['rodent', 'gnawer']\n",
            "n02364673 :  ['guinea pig', 'Cavia cobaya']\n",
            "n02370806 :  ['ungulate', 'hoofed mammal']\n",
            "n02395406 :  ['hog', 'pig', 'grunter', 'squealer', 'Sus scrofa']\n",
            "n02402425 :  ['cattle', 'cows', 'kine', 'oxen', 'Bos taurus']\n",
            "n02403003 :  ['ox']\n",
            "n02410509 :  ['bison']\n",
            "n02415435 :  ['mountain sheep']\n",
            "n02415577 :  ['bighorn', 'bighorn sheep', 'cimarron', 'Rocky Mountain bighorn', 'Rocky Mountain sheep', 'Ovis canadensis']\n",
            "n02419796 :  ['antelope']\n",
            "n02423022 :  ['gazelle']\n",
            "n02437136 :  ['camel']\n",
            "n02437312 :  ['Arabian camel', 'dromedary', 'Camelus dromedarius']\n",
            "n02470325 :  ['ape']\n",
            "n02480495 :  ['orangutan', 'orang', 'orangutang', 'Pongo pygmaeus']\n",
            "n02481823 :  ['chimpanzee', 'chimp', 'Pan troglodytes']\n",
            "n02484322 :  ['monkey']\n",
            "n02486410 :  ['baboon']\n",
            "n02503517 :  ['elephant']\n",
            "n02504458 :  ['African elephant', 'Loxodonta africana']\n",
            "n02509815 :  ['lesser panda', 'red panda', 'panda', 'bear cat', 'cat bear', 'Ailurus fulgens']\n",
            "n02514825 :  ['bony fish']\n",
            "n02666196 :  ['abacus']\n",
            "n02669723 :  ['academic gown', 'academic robe', \"judge's robe\"]\n",
            "n02699494 :  ['altar']\n",
            "n02730930 :  ['apron']\n",
            "n02757462 :  ['audio system', 'sound system']\n",
            "n02769748 :  ['backpack', 'back pack', 'knapsack', 'packsack', 'rucksack', 'haversack']\n",
            "n02773037 :  ['bag']\n",
            "n02778669 :  ['ball']\n",
            "n02788148 :  ['bannister', 'banister', 'balustrade', 'balusters', 'handrail']\n",
            "n02791270 :  ['barbershop']\n",
            "n02793495 :  ['barn']\n",
            "n02795169 :  ['barrel', 'cask']\n",
            "n02796623 :  ['barrier']\n",
            "n02802426 :  ['basketball']\n",
            "n02808440 :  ['bathtub', 'bathing tub', 'bath', 'tub']\n",
            "n02814533 :  ['beach wagon', 'station wagon', 'wagon', 'estate car', 'beach waggon', 'station waggon', 'waggon']\n",
            "n02814860 :  ['beacon', 'lighthouse', 'beacon light', 'pharos']\n",
            "n02815834 :  ['beaker']\n",
            "n02823428 :  ['beer bottle']\n",
            "n02837789 :  ['bikini', 'two-piece']\n",
            "n02841315 :  ['binoculars', 'field glasses', 'opera glasses']\n",
            "n02843684 :  ['birdhouse']\n",
            "n02858304 :  ['boat']\n",
            "n02876657 :  ['bottle']\n",
            "n02883205 :  ['bow tie', 'bow-tie', 'bowtie']\n",
            "n02887209 :  ['brace']\n",
            "n02892201 :  ['brass', 'memorial tablet', 'plaque']\n",
            "n02898711 :  ['bridge', 'span']\n",
            "n02906734 :  ['broom']\n",
            "n02909870 :  ['bucket', 'pail']\n",
            "n02917067 :  ['bullet train', 'bullet']\n",
            "n02924116 :  ['bus', 'autobus', 'coach', 'charabanc', 'double-decker', 'jitney', 'motorbus', 'motorcoach', 'omnibus', 'passenger vehicle']\n",
            "n02927161 :  ['butcher shop', 'meat market']\n",
            "n02948072 :  ['candle', 'taper', 'wax light']\n",
            "n02950826 :  ['cannon']\n",
            "n02958343 :  ['car', 'auto', 'automobile', 'machine', 'motorcar']\n",
            "n02959942 :  ['car', 'railcar', 'railway car', 'railroad car']\n",
            "n02963159 :  ['cardigan']\n",
            "n02970849 :  ['cart']\n",
            "n02977058 :  ['cash machine', 'cash dispenser', 'automated teller machine', 'automatic teller machine', 'automated teller', 'automatic teller', 'ATM']\n",
            "n02988304 :  ['CD player']\n",
            "n02999410 :  ['chain']\n",
            "n03001627 :  ['chair']\n",
            "n03014705 :  ['chest']\n",
            "n03026506 :  ['Christmas stocking']\n",
            "n03042490 :  ['cliff dwelling']\n",
            "n03057021 :  ['coat']\n",
            "n03074380 :  ['column', 'pillar']\n",
            "n03080497 :  ['compass']\n",
            "n03085013 :  ['computer keyboard', 'keypad']\n",
            "n03089624 :  ['confectionery', 'confectionary', 'candy store']\n",
            "n03100240 :  ['convertible']\n",
            "n03126707 :  ['crane']\n",
            "n03160309 :  ['dam', 'dike', 'dyke']\n",
            "n03179701 :  ['desk']\n",
            "n03201208 :  ['dining table', 'board']\n",
            "n03250847 :  ['drumstick']\n",
            "n03255030 :  ['dumbbell']\n",
            "n03259505 :  ['dwelling', 'home', 'domicile', 'abode', 'habitation', 'dwelling house']\n",
            "n03278248 :  ['electronic equipment']\n",
            "n03314378 :  ['face mask']\n",
            "n03327234 :  ['fence', 'fencing']\n",
            "n03355925 :  ['flagpole', 'flagstaff']\n",
            "n03381126 :  ['footwear']\n",
            "n03388043 :  ['fountain']\n",
            "n03393912 :  ['freight car']\n",
            "n03400231 :  ['frying pan', 'frypan', 'skillet']\n",
            "n03404251 :  ['fur coat']\n",
            "n03419014 :  ['garment']\n",
            "n03424325 :  ['gasmask', 'respirator', 'gas helmet']\n",
            "n03427296 :  ['gate']\n",
            "n03444034 :  ['go-kart']\n",
            "n03447447 :  ['gondola']\n",
            "n03497657 :  ['hat', 'chapeau', 'lid']\n",
            "n03528263 :  ['home appliance', 'household appliance']\n",
            "n03544143 :  ['hourglass']\n",
            "n03584254 :  ['iPod']\n",
            "n03599486 :  ['jinrikisha', 'ricksha', 'rickshaw']\n",
            "n03603722 :  ['jug']\n",
            "n03614532 :  ['keyboard instrument']\n",
            "n03617480 :  ['kimono']\n",
            "n03636649 :  ['lamp']\n",
            "n03637318 :  ['lampshade', 'lamp shade']\n",
            "n03649909 :  ['lawn mower', 'mower']\n",
            "n03662601 :  ['lifeboat']\n",
            "n03670208 :  ['limousine', 'limo']\n",
            "n03706229 :  ['magnetic compass']\n",
            "n03733131 :  ['maypole']\n",
            "n03739693 :  ['medical instrument']\n",
            "n03743902 :  ['memorial', 'monument']\n",
            "n03748162 :  ['mercantile establishment', 'retail store', 'sales outlet', 'outlet']\n",
            "n03763968 :  ['military uniform']\n",
            "n03770439 :  ['miniskirt', 'mini']\n",
            "n03796401 :  ['moving van']\n",
            "n03804744 :  ['nail']\n",
            "n03814639 :  ['neck brace']\n",
            "n03815615 :  ['necktie', 'tie']\n",
            "n03837869 :  ['obelisk']\n",
            "n03838899 :  ['oboe', 'hautboy', 'hautbois']\n",
            "n03854065 :  ['organ', 'pipe organ']\n",
            "n03859280 :  ['outbuilding']\n",
            "n03880531 :  ['pan', 'cooking pan']\n",
            "n03891332 :  ['parking meter']\n",
            "n03896233 :  ['passenger train']\n",
            "n03902125 :  ['pay-phone', 'pay-station']\n",
            "n03930313 :  ['picket fence', 'paling']\n",
            "n03937543 :  ['pill bottle']\n",
            "n03970156 :  ['plunger', \"plumber's helper\"]\n",
            "n03976657 :  ['pole']\n",
            "n03977966 :  ['police van', 'police wagon', 'paddy wagon', 'patrol wagon', 'wagon', 'black Maria']\n",
            "n03980874 :  ['poncho']\n",
            "n03983396 :  ['pop bottle', 'soda bottle']\n",
            "n03990474 :  ['pot']\n",
            "n03992509 :  [\"potter's wheel\"]\n",
            "n04008634 :  ['projectile', 'missile']\n",
            "n04023962 :  ['punching bag', 'punch bag', 'punching ball', 'punchball']\n",
            "n04067472 :  ['reel']\n",
            "n04070727 :  ['refrigerator', 'icebox']\n",
            "n04074963 :  ['remote control', 'remote']\n",
            "n04078574 :  ['reservoir']\n",
            "n04099969 :  ['rocking chair', 'rocker']\n",
            "n04105068 :  ['roof']\n",
            "n04118538 :  ['rugby ball']\n",
            "n04133789 :  ['sandal']\n",
            "n04134632 :  ['sandglass']\n",
            "n04146614 :  ['school bus']\n",
            "n04147495 :  ['scientific instrument']\n",
            "n04149813 :  ['scoreboard']\n",
            "n04179913 :  ['sewing machine']\n",
            "n04199027 :  ['shoe']\n",
            "n04217882 :  ['signboard', 'sign']\n",
            "n04230808 :  ['skirt']\n",
            "n04251144 :  ['snorkel']\n",
            "n04254777 :  ['sock']\n",
            "n04259630 :  ['sombrero']\n",
            "n04265275 :  ['space heater']\n",
            "n04272054 :  ['spectacles', 'specs', 'eyeglasses', 'glasses']\n",
            "n04275548 :  ['spider web', \"spider's web\"]\n",
            "n04284002 :  ['spoon']\n",
            "n04285008 :  ['sports car', 'sport car']\n",
            "n04285146 :  ['sports equipment']\n",
            "n04311004 :  ['steel arch bridge']\n",
            "n04323819 :  ['stocking']\n",
            "n04328186 :  ['stopwatch', 'stop watch']\n",
            "n04356056 :  ['sunglasses', 'dark glasses', 'shades']\n",
            "n04366367 :  ['suspension bridge']\n",
            "n04370048 :  ['sweater', 'jumper']\n",
            "n04371430 :  ['swimming trunks', 'bathing trunks']\n",
            "n04371563 :  ['swimsuit', 'swimwear', 'bathing suit', 'swimming costume', 'bathing costume']\n",
            "n04376876 :  ['syringe']\n",
            "n04379243 :  ['table']\n",
            "n04381994 :  ['tableware']\n",
            "n04398044 :  ['teapot']\n",
            "n04399382 :  ['teddy', 'teddy bear']\n",
            "n04401088 :  ['telephone', 'phone', 'telephone set']\n",
            "n04417672 :  ['thatch', 'thatched roof']\n",
            "n04438304 :  ['timer']\n",
            "n04451818 :  ['tool']\n",
            "n04456115 :  ['torch']\n",
            "n04460130 :  ['tower']\n",
            "n04465501 :  ['tractor']\n",
            "n04486054 :  ['triumphal arch']\n",
            "n04487081 :  ['trolleybus', 'trolley coach', 'trackless trolley']\n",
            "n04490091 :  ['truck', 'motortruck']\n",
            "n04501370 :  ['turnstile']\n",
            "n04507155 :  ['umbrella']\n",
            "n04532106 :  ['vestment']\n",
            "n04532670 :  ['viaduct']\n",
            "n04540053 :  ['volleyball']\n",
            "n04560804 :  ['water jug']\n",
            "n04562935 :  ['water tower']\n",
            "n04565375 :  ['weapon', 'arm', 'weapon system']\n",
            "n04571292 :  ['weight', 'free weight', 'exercising weight']\n",
            "n04586932 :  ['wind instrument', 'wind']\n",
            "n04596742 :  ['wok']\n",
            "n04597913 :  ['wooden spoon']\n",
            "n06596364 :  ['comic book']\n",
            "n07557434 :  ['dish']\n",
            "n07579787 :  ['plate']\n",
            "n07582609 :  ['dip']\n",
            "n07583066 :  ['guacamole']\n",
            "n07611358 :  ['frozen dessert']\n",
            "n07614500 :  ['ice cream', 'icecream']\n",
            "n07615774 :  ['ice lolly', 'lolly', 'lollipop', 'popsicle']\n",
            "n07681926 :  ['cracker']\n",
            "n07695742 :  ['pretzel']\n",
            "n07707451 :  ['vegetable', 'veggie', 'veg']\n",
            "n07710616 :  ['potato', 'white potato', 'Irish potato', 'murphy', 'spud', 'tater']\n",
            "n07711569 :  ['mashed potato']\n",
            "n07715103 :  ['cauliflower']\n",
            "n07720615 :  ['sweet pepper']\n",
            "n07720875 :  ['bell pepper']\n",
            "n07734744 :  ['mushroom']\n",
            "n07747607 :  ['orange']\n",
            "n07749582 :  ['lemon']\n",
            "n07753592 :  ['banana']\n",
            "n07768694 :  ['pomegranate']\n",
            "n07871810 :  ['meat loaf', 'meatloaf']\n",
            "n07873807 :  ['pizza', 'pizza pie']\n",
            "n07875152 :  ['potpie']\n",
            "n07920052 :  ['espresso']\n",
            "n07929519 :  ['coffee', 'java']\n",
            "n09193705 :  ['alp']\n",
            "n09246464 :  ['cliff', 'drop', 'drop-off']\n",
            "n09256479 :  ['coral reef']\n",
            "n09332890 :  ['lakeside', 'lakeshore']\n",
            "n09359803 :  ['mountain', 'mount']\n",
            "n09406793 :  ['reef']\n",
            "n09428293 :  ['seashore', 'coast', 'seacoast', 'sea-coast']\n",
            "n09433442 :  ['shore']\n",
            "n12267677 :  ['acorn']\n",
            "n13134947 :  ['fruit']\n"
          ]
        }
      ],
      "source": [
        "for superClass in ID_to_names:\n",
        "    print(superClass, ': ', ID_to_names[superClass])"
      ]
    },
    {
      "cell_type": "code",
      "execution_count": null,
      "metadata": {
        "id": "EfTjj_GEb5Q3",
        "colab": {
          "base_uri": "https://localhost:8080/"
        },
        "outputId": "d6e8618e-6b5b-4991-b6fc-ebd4126e9f23"
      },
      "outputs": [
        {
          "output_type": "stream",
          "name": "stdout",
          "text": [
            "['skirt'] : ['miniskirt', 'mini']\n",
            "['sweater', 'jumper'] : ['cardigan']\n",
            "['swimsuit', 'swimwear', 'bathing suit', 'swimming costume', 'bathing costume'] : ['bikini', 'two-piece']['swimming trunks', 'bathing trunks']\n",
            "['garment'] : ['apron']['military uniform']\n",
            "['coat'] : ['fur coat']['academic gown', 'academic robe', \"judge's robe\"]['vestment']['poncho']['kimono']\n",
            "['face mask'] : ['gasmask', 'respirator', 'gas helmet']\n",
            "['spectacles', 'specs', 'eyeglasses', 'glasses'] : ['sunglasses', 'dark glasses', 'shades']\n",
            "['necktie', 'tie'] : ['bow tie', 'bow-tie', 'bowtie']\n",
            "['brace'] : ['neck brace']\n",
            "['footwear'] : ['sock']\n",
            "['stocking'] : ['Christmas stocking']\n",
            "['shoe'] : ['sandal']\n",
            "['hat', 'chapeau', 'lid'] : ['sombrero']\n",
            "['bag'] : ['backpack', 'back pack', 'knapsack', 'packsack', 'rucksack', 'haversack']\n",
            "['car', 'auto', 'automobile', 'machine', 'motorcar'] : ['beach wagon', 'station wagon', 'wagon', 'estate car', 'beach waggon', 'station waggon', 'waggon']['convertible']['limousine', 'limo']['sports car', 'sport car']['go-kart']['police van', 'police wagon', 'paddy wagon', 'patrol wagon', 'wagon', 'black Maria']\n",
            "['truck', 'motortruck'] : ['tractor']['moving van']\n",
            "['bus', 'autobus', 'coach', 'charabanc', 'double-decker', 'jitney', 'motorbus', 'motorcoach', 'omnibus', 'passenger vehicle'] : ['school bus']['trolleybus', 'trolley coach', 'trackless trolley']\n",
            "['passenger train'] : ['bullet train', 'bullet']\n",
            "['car', 'railcar', 'railway car', 'railroad car'] : ['freight car']\n",
            "['cart'] : ['jinrikisha', 'ricksha', 'rickshaw']\n",
            "['boat'] : ['gondola']['lifeboat']\n",
            "['table'] : ['desk']['dining table', 'board']\n",
            "['chair'] : ['rocking chair', 'rocker']\n",
            "['lamp'] : ['lampshade', 'lamp shade']\n",
            "['cracker'] : ['pretzel']\n",
            "['dish'] : ['meat loaf', 'meatloaf']['pizza', 'pizza pie']['potpie']\n",
            "['potato', 'white potato', 'Irish potato', 'murphy', 'spud', 'tater'] : ['mashed potato']\n",
            "['frozen dessert'] : ['ice cream', 'icecream']['ice lolly', 'lolly', 'lollipop', 'popsicle']\n",
            "['dip'] : ['guacamole']\n",
            "['vegetable', 'veggie', 'veg'] : ['mushroom']['cauliflower']\n",
            "['sweet pepper'] : ['bell pepper']\n",
            "['fruit'] : ['acorn']['banana']['pomegranate']['orange']['lemon']\n",
            "['coffee', 'java'] : ['espresso']\n",
            "['outbuilding'] : ['barn']\n",
            "['mercantile establishment', 'retail store', 'sales outlet', 'outlet'] : ['barbershop']['butcher shop', 'meat market']['confectionery', 'confectionary', 'candy store']\n",
            "['tower'] : ['beacon', 'lighthouse', 'beacon light', 'pharos']\n",
            "['dwelling', 'home', 'domicile', 'abode', 'habitation', 'dwelling house'] : ['cliff dwelling']['birdhouse']\n",
            "['roof'] : ['thatch', 'thatched roof']\n",
            "['reservoir'] : ['water tower']\n",
            "['signboard', 'sign'] : ['scoreboard']\n",
            "['bridge', 'span'] : ['steel arch bridge']['suspension bridge']['viaduct']\n",
            "['memorial', 'monument'] : ['brass', 'memorial tablet', 'plaque']['triumphal arch']\n",
            "['column', 'pillar'] : ['obelisk']\n",
            "['barrier'] : ['bannister', 'banister', 'balustrade', 'balusters', 'handrail']['dam', 'dike', 'dyke']\n",
            "['fence', 'fencing'] : ['picket fence', 'paling']\n",
            "['gate'] : ['turnstile']\n",
            "['shore'] : ['lakeside', 'lakeshore']['seashore', 'coast', 'seacoast', 'sea-coast']\n",
            "['mountain', 'mount'] : ['alp']\n",
            "['reef'] : ['coral reef']\n",
            "['home appliance', 'household appliance'] : ['sewing machine']['space heater']['lawn mower', 'mower']['refrigerator', 'icebox']\n",
            "['electronic equipment'] : ['CD player']['computer keyboard', 'keypad']['remote control', 'remote']\n",
            "['telephone', 'phone', 'telephone set'] : ['pay-phone', 'pay-station']\n",
            "['audio system', 'sound system'] : ['iPod']\n",
            "['weight', 'free weight', 'exercising weight'] : ['dumbbell']\n",
            "['ball'] : ['basketball']['punching bag', 'punch bag', 'punching ball', 'punchball']['rugby ball']['volleyball']\n",
            "['sports equipment'] : ['snorkel']\n",
            "['timer'] : ['parking meter']['stopwatch', 'stop watch']\n",
            "['sandglass'] : ['hourglass']\n",
            "['compass'] : ['magnetic compass']\n",
            "['scientific instrument'] : ['abacus']['binoculars', 'field glasses', 'opera glasses']\n",
            "['keyboard instrument'] : ['organ', 'pipe organ']\n",
            "['wind instrument', 'wind'] : ['oboe', 'hautboy', 'hautbois']\n",
            "['tool'] : ['nail']['reel']['torch']['plunger', \"plumber's helper\"]\n",
            "['medical instrument'] : ['syringe']\n",
            "['weapon', 'arm', 'weapon system'] : ['projectile', 'missile']['cannon']\n",
            "['pot'] : ['teapot']\n",
            "['pan', 'cooking pan'] : ['frying pan', 'frypan', 'skillet']['wok']\n",
            "['tableware'] : ['plate']\n",
            "['spoon'] : ['wooden spoon']\n",
            "['bottle'] : ['beer bottle']['pop bottle', 'soda bottle']\n",
            "['jug'] : ['water jug']\n",
            "['arthropod'] : ['trilobite']['centipede']\n",
            "['arachnid', 'arachnoid'] : ['scorpion']\n",
            "['spider'] : ['black widow', 'Latrodectus mactans']['tarantula']\n",
            "['lobster'] : ['spiny lobster', 'langouste', 'rock lobster', 'crawfish', 'crayfish', 'sea crawfish']\n",
            "['true lobster'] : ['American lobster', 'Northern lobster', 'Maine lobster', 'Homarus americanus']\n",
            "['beetle'] : ['ladybug', 'ladybeetle', 'lady beetle', 'ladybird', 'ladybird beetle']\n",
            "['insect'] : ['grasshopper', 'hopper']['cockroach', 'roach']['mantis', 'mantid']['bee']['fly']['walking stick', 'walkingstick', 'stick insect']['dragonfly', 'darning needle', \"devil's darning needle\", 'sewing needle', 'snake feeder', 'snake doctor', 'mosquito hawk', 'skeeter hawk']\n",
            "['butterfly'] : ['sulphur butterfly', 'sulfur butterfly']\n",
            "['danaid', 'danaid butterfly'] : ['monarch', 'monarch butterfly', 'milkweed butterfly', 'Danaus plexippus']\n",
            "['gastropod', 'univalve'] : ['snail']['slug']['sea slug', 'nudibranch']\n",
            "['coral'] : ['brain coral']\n",
            "['rodent', 'gnawer'] : ['guinea pig', 'Cavia cobaya']\n",
            "['sea cow', 'sirenian mammal', 'sirenian'] : ['dugong', 'Dugong dugon']\n",
            "['elephant'] : ['African elephant', 'Loxodonta africana']\n",
            "['monkey'] : ['baboon']\n",
            "['ape'] : ['orangutan', 'orang', 'orangutang', 'Pongo pygmaeus']['chimpanzee', 'chimp', 'Pan troglodytes']\n",
            "['camel'] : ['Arabian camel', 'dromedary', 'Camelus dromedarius']\n",
            "['ungulate', 'hoofed mammal'] : ['hog', 'pig', 'grunter', 'squealer', 'Sus scrofa']['bison']\n",
            "['antelope'] : ['gazelle']\n",
            "['mountain sheep'] : ['bighorn', 'bighorn sheep', 'cimarron', 'Rocky Mountain bighorn', 'Rocky Mountain sheep', 'Ovis canadensis']\n",
            "['cattle', 'cows', 'kine', 'oxen', 'Bos taurus'] : ['ox']\n",
            "['bear'] : ['brown bear', 'bruin', 'Ursus arctos']\n",
            "['carnivore'] : ['lion', 'king of beasts', 'Panthera leo']['lesser panda', 'red panda', 'panda', 'bear cat', 'cat bear', 'Ailurus fulgens']['cougar', 'puma', 'catamount', 'mountain lion', 'painter', 'panther', 'Felis concolor']\n",
            "['domestic cat', 'house cat', 'Felis domesticus', 'Felis catus'] : ['tabby', 'tabby cat']['Persian cat']['Egyptian cat']\n",
            "['poodle', 'poodle dog'] : ['standard poodle']\n",
            "['dog', 'domestic dog', 'Canis familiaris'] : ['German shepherd', 'German shepherd dog', 'German police dog', 'alsatian']['Chihuahua']['Yorkshire terrier']['golden retriever']['Labrador retriever']\n",
            "['phalanger', 'opossum', 'possum'] : ['koala', 'koala bear', 'kangaroo bear', 'native bear', 'Phascolarctos cinereus']\n",
            "['aquatic bird'] : ['albatross', 'mollymawk']['goose']\n",
            "['stork'] : ['black stork', 'Ciconia nigra']\n",
            "['penguin'] : ['king penguin', 'Aptenodytes patagonica']\n",
            "['alligator', 'gator'] : ['American alligator', 'Alligator mississipiensis']\n",
            "['snake', 'serpent', 'ophidian'] : ['boa constrictor', 'Constrictor constrictor']\n",
            "['frog', 'toad', 'toad frog', 'anuran', 'batrachian', 'salientian'] : ['tailed frog', 'bell toad', 'ribbed toad', 'tailed toad', 'Ascaphus trui']\n",
            "['true frog', 'ranid'] : ['bullfrog', 'Rana catesbeiana']\n",
            "['salamander'] : ['European fire salamander', 'Salamandra salamandra']\n",
            "['bony fish'] : ['goldfish', 'Carassius auratus']\n"
          ]
        }
      ],
      "source": [
        "for superClass in parent_to_subclass:\n",
        "  print(ID_to_names[superClass], \": \", end=\"\")\n",
        "  for subclass in parent_to_subclass[superClass]:\n",
        "    print(ID_to_names[subclass], end=\"\")\n",
        "  print(\"\")"
      ]
    },
    {
      "cell_type": "code",
      "execution_count": null,
      "metadata": {
        "id": "xbSdOEVpb-Tr"
      },
      "outputs": [],
      "source": [
        "for superClass in parent_to_subclass:\n",
        "  if superClass in tinyImageNet_class_wnids:\n",
        "    print(\"Leaf node\")"
      ]
    },
    {
      "cell_type": "code",
      "execution_count": null,
      "metadata": {
        "colab": {
          "base_uri": "https://localhost:8080/"
        },
        "id": "4hcicFcwcAwt",
        "outputId": "2a57c0ab-c942-4b36-ee12-c7004ee0af7b"
      },
      "outputs": [
        {
          "output_type": "stream",
          "name": "stdout",
          "text": [
            "['swimsuit', 'swimwear', 'bathing suit', 'swimming costume', 'bathing costume'] : ['bikini', 'two-piece']['swimming trunks', 'bathing trunks'], Num of subclasses:  2\n",
            "['garment'] : ['apron']['military uniform'], Num of subclasses:  2\n",
            "['truck', 'motortruck'] : ['tractor']['moving van'], Num of subclasses:  2\n",
            "['bus', 'autobus', 'coach', 'charabanc', 'double-decker', 'jitney', 'motorbus', 'motorcoach', 'omnibus', 'passenger vehicle'] : ['school bus']['trolleybus', 'trolley coach', 'trackless trolley'], Num of subclasses:  2\n",
            "['boat'] : ['gondola']['lifeboat'], Num of subclasses:  2\n",
            "['table'] : ['desk']['dining table', 'board'], Num of subclasses:  2\n",
            "['dish'] : ['meat loaf', 'meatloaf']['pizza', 'pizza pie']['potpie'], Num of subclasses:  3\n",
            "['frozen dessert'] : ['ice cream', 'icecream']['ice lolly', 'lolly', 'lollipop', 'popsicle'], Num of subclasses:  2\n",
            "['vegetable', 'veggie', 'veg'] : ['mushroom']['cauliflower'], Num of subclasses:  2\n",
            "['mercantile establishment', 'retail store', 'sales outlet', 'outlet'] : ['barbershop']['butcher shop', 'meat market']['confectionery', 'confectionary', 'candy store'], Num of subclasses:  3\n",
            "['dwelling', 'home', 'domicile', 'abode', 'habitation', 'dwelling house'] : ['cliff dwelling']['birdhouse'], Num of subclasses:  2\n",
            "['bridge', 'span'] : ['steel arch bridge']['suspension bridge']['viaduct'], Num of subclasses:  3\n",
            "['memorial', 'monument'] : ['brass', 'memorial tablet', 'plaque']['triumphal arch'], Num of subclasses:  2\n",
            "['barrier'] : ['bannister', 'banister', 'balustrade', 'balusters', 'handrail']['dam', 'dike', 'dyke'], Num of subclasses:  2\n",
            "['shore'] : ['lakeside', 'lakeshore']['seashore', 'coast', 'seacoast', 'sea-coast'], Num of subclasses:  2\n",
            "['electronic equipment'] : ['CD player']['computer keyboard', 'keypad']['remote control', 'remote'], Num of subclasses:  3\n",
            "['timer'] : ['parking meter']['stopwatch', 'stop watch'], Num of subclasses:  2\n",
            "['scientific instrument'] : ['abacus']['binoculars', 'field glasses', 'opera glasses'], Num of subclasses:  2\n",
            "['weapon', 'arm', 'weapon system'] : ['projectile', 'missile']['cannon'], Num of subclasses:  2\n",
            "['pan', 'cooking pan'] : ['frying pan', 'frypan', 'skillet']['wok'], Num of subclasses:  2\n",
            "['bottle'] : ['beer bottle']['pop bottle', 'soda bottle'], Num of subclasses:  2\n",
            "['arthropod'] : ['trilobite']['centipede'], Num of subclasses:  2\n",
            "['spider'] : ['black widow', 'Latrodectus mactans']['tarantula'], Num of subclasses:  2\n",
            "['gastropod', 'univalve'] : ['snail']['slug']['sea slug', 'nudibranch'], Num of subclasses:  3\n",
            "['ape'] : ['orangutan', 'orang', 'orangutang', 'Pongo pygmaeus']['chimpanzee', 'chimp', 'Pan troglodytes'], Num of subclasses:  2\n",
            "['ungulate', 'hoofed mammal'] : ['hog', 'pig', 'grunter', 'squealer', 'Sus scrofa']['bison'], Num of subclasses:  2\n",
            "['carnivore'] : ['lion', 'king of beasts', 'Panthera leo']['lesser panda', 'red panda', 'panda', 'bear cat', 'cat bear', 'Ailurus fulgens']['cougar', 'puma', 'catamount', 'mountain lion', 'painter', 'panther', 'Felis concolor'], Num of subclasses:  3\n",
            "['domestic cat', 'house cat', 'Felis domesticus', 'Felis catus'] : ['tabby', 'tabby cat']['Persian cat']['Egyptian cat'], Num of subclasses:  3\n",
            "['aquatic bird'] : ['albatross', 'mollymawk']['goose'], Num of subclasses:  2\n",
            "number of candidate superclasses (for making vague samples):  29\n"
          ]
        }
      ],
      "source": [
        "count = 0\n",
        "superclasses_multiple = []\n",
        "for superClass in parent_to_subclass:\n",
        "    if len(parent_to_subclass[superClass]) == 2 or len(parent_to_subclass[superClass]) == 3:\n",
        "        superclasses_multiple.append(superClass)\n",
        "        count += 1\n",
        "        print(ID_to_names[superClass], \": \", end=\"\")\n",
        "        for subclass in parent_to_subclass[superClass]:\n",
        "            print(ID_to_names[subclass], end=\"\")\n",
        "        print(\", Num of subclasses: \", len(parent_to_subclass[superClass]))\n",
        "print('number of candidate superclasses (for making vague samples): ', count)"
      ]
    },
    {
      "cell_type": "code",
      "execution_count": null,
      "metadata": {
        "id": "UItbw0pmcF7D",
        "colab": {
          "base_uri": "https://localhost:8080/"
        },
        "outputId": "6a46d851-ba70-4aaa-cc20-7032e09f1b7e"
      },
      "outputs": [
        {
          "output_type": "stream",
          "name": "stdout",
          "text": [
            "175\n",
            "175\n"
          ]
        }
      ],
      "source": [
        "subclasses = []\n",
        "for superclass in parent_to_subclass:\n",
        "    subclasses += parent_to_subclass[superclass]\n",
        "### check if there is a subclasses with more than one superclass\n",
        "print(len(subclasses))\n",
        "print(len(set(subclasses)))"
      ]
    },
    {
      "cell_type": "markdown",
      "metadata": {
        "id": "zot-6YvcLejc"
      },
      "source": [
        "# **Data Preprocessing**"
      ]
    },
    {
      "cell_type": "code",
      "execution_count": null,
      "metadata": {
        "colab": {
          "base_uri": "https://localhost:8080/"
        },
        "id": "zYqErAFAcIVP",
        "outputId": "c93f6bdf-bd92-44cf-99ca-d8083daa0d3b"
      },
      "outputs": [
        {
          "output_type": "execute_result",
          "data": {
            "text/plain": [
              "{'val_0.JPEG': 'n03444034',\n",
              " 'val_1.JPEG': 'n04067472',\n",
              " 'val_2.JPEG': 'n04070727',\n",
              " 'val_3.JPEG': 'n02808440',\n",
              " 'val_4.JPEG': 'n02808440',\n",
              " 'val_5.JPEG': 'n04399382',\n",
              " 'val_6.JPEG': 'n04179913',\n",
              " 'val_7.JPEG': 'n02823428',\n",
              " 'val_8.JPEG': 'n04146614',\n",
              " 'val_9.JPEG': 'n02226429'}"
            ]
          },
          "metadata": {},
          "execution_count": 26
        }
      ],
      "source": [
        "val_img_dir = os.path.join(VALID_DIR, 'images')\n",
        "fp = open(os.path.join(VALID_DIR, 'val_annotations.txt'), 'r')\n",
        "data = fp.readlines()\n",
        "\n",
        "val_img_dict = {}\n",
        "for line in data:\n",
        "    words = line.split('\\t')\n",
        "    val_img_dict[words[0]] = words[1]\n",
        "fp.close()\n",
        "\n",
        "{k: val_img_dict[k] for k in list(val_img_dict)[:10]}"
      ]
    },
    {
      "cell_type": "code",
      "execution_count": null,
      "metadata": {
        "id": "GPImNXoicLC4"
      },
      "outputs": [],
      "source": [
        "# Create subfolders (if not present) for validation images based on label,\n",
        "# and move images into the respective folders\n",
        "for img, folder in val_img_dict.items():\n",
        "    newpath = (os.path.join(val_img_dir, folder))\n",
        "    if not os.path.exists(newpath):\n",
        "        os.makedirs(newpath)\n",
        "    if os.path.exists(os.path.join(val_img_dir, img)):\n",
        "        os.rename(os.path.join(val_img_dir, img), os.path.join(newpath, img))"
      ]
    },
    {
      "cell_type": "code",
      "execution_count": null,
      "metadata": {
        "id": "rWm2d1hNC8gB"
      },
      "outputs": [],
      "source": [
        "preprocess_transform_pretrain = T.Compose([\n",
        "                T.Resize(256), # Resize images to 256 x 256\n",
        "                T.CenterCrop(224), # Center crop image\n",
        "                T.RandomHorizontalFlip()\n",
        "])"
      ]
    },
    {
      "cell_type": "code",
      "execution_count": null,
      "metadata": {
        "id": "sInGkYoXcM98"
      },
      "outputs": [],
      "source": [
        "train_ds = datasets.ImageFolder(TRAIN_DIR, transform=preprocess_transform_pretrain)\n",
        "test_ds = datasets.ImageFolder(val_img_dir, transform=preprocess_transform_pretrain)"
      ]
    },
    {
      "cell_type": "code",
      "execution_count": null,
      "metadata": {
        "colab": {
          "base_uri": "https://localhost:8080/"
        },
        "id": "uIWWuYC8cPLQ",
        "outputId": "c049abab-0920-4a8d-a20c-35d1032dba44"
      },
      "outputs": [
        {
          "output_type": "stream",
          "name": "stdout",
          "text": [
            "200 {'n01443537': 0, 'n01629819': 1, 'n01641577': 2, 'n01644900': 3, 'n01698640': 4, 'n01742172': 5, 'n01768244': 6, 'n01770393': 7, 'n01774384': 8, 'n01774750': 9, 'n01784675': 10, 'n01855672': 11, 'n01882714': 12, 'n01910747': 13, 'n01917289': 14, 'n01944390': 15, 'n01945685': 16, 'n01950731': 17, 'n01983481': 18, 'n01984695': 19, 'n02002724': 20, 'n02056570': 21, 'n02058221': 22, 'n02074367': 23, 'n02085620': 24, 'n02094433': 25, 'n02099601': 26, 'n02099712': 27, 'n02106662': 28, 'n02113799': 29, 'n02123045': 30, 'n02123394': 31, 'n02124075': 32, 'n02125311': 33, 'n02129165': 34, 'n02132136': 35, 'n02165456': 36, 'n02190166': 37, 'n02206856': 38, 'n02226429': 39, 'n02231487': 40, 'n02233338': 41, 'n02236044': 42, 'n02268443': 43, 'n02279972': 44, 'n02281406': 45, 'n02321529': 46, 'n02364673': 47, 'n02395406': 48, 'n02403003': 49, 'n02410509': 50, 'n02415577': 51, 'n02423022': 52, 'n02437312': 53, 'n02480495': 54, 'n02481823': 55, 'n02486410': 56, 'n02504458': 57, 'n02509815': 58, 'n02666196': 59, 'n02669723': 60, 'n02699494': 61, 'n02730930': 62, 'n02769748': 63, 'n02788148': 64, 'n02791270': 65, 'n02793495': 66, 'n02795169': 67, 'n02802426': 68, 'n02808440': 69, 'n02814533': 70, 'n02814860': 71, 'n02815834': 72, 'n02823428': 73, 'n02837789': 74, 'n02841315': 75, 'n02843684': 76, 'n02883205': 77, 'n02892201': 78, 'n02906734': 79, 'n02909870': 80, 'n02917067': 81, 'n02927161': 82, 'n02948072': 83, 'n02950826': 84, 'n02963159': 85, 'n02977058': 86, 'n02988304': 87, 'n02999410': 88, 'n03014705': 89, 'n03026506': 90, 'n03042490': 91, 'n03085013': 92, 'n03089624': 93, 'n03100240': 94, 'n03126707': 95, 'n03160309': 96, 'n03179701': 97, 'n03201208': 98, 'n03250847': 99, 'n03255030': 100, 'n03355925': 101, 'n03388043': 102, 'n03393912': 103, 'n03400231': 104, 'n03404251': 105, 'n03424325': 106, 'n03444034': 107, 'n03447447': 108, 'n03544143': 109, 'n03584254': 110, 'n03599486': 111, 'n03617480': 112, 'n03637318': 113, 'n03649909': 114, 'n03662601': 115, 'n03670208': 116, 'n03706229': 117, 'n03733131': 118, 'n03763968': 119, 'n03770439': 120, 'n03796401': 121, 'n03804744': 122, 'n03814639': 123, 'n03837869': 124, 'n03838899': 125, 'n03854065': 126, 'n03891332': 127, 'n03902125': 128, 'n03930313': 129, 'n03937543': 130, 'n03970156': 131, 'n03976657': 132, 'n03977966': 133, 'n03980874': 134, 'n03983396': 135, 'n03992509': 136, 'n04008634': 137, 'n04023962': 138, 'n04067472': 139, 'n04070727': 140, 'n04074963': 141, 'n04099969': 142, 'n04118538': 143, 'n04133789': 144, 'n04146614': 145, 'n04149813': 146, 'n04179913': 147, 'n04251144': 148, 'n04254777': 149, 'n04259630': 150, 'n04265275': 151, 'n04275548': 152, 'n04285008': 153, 'n04311004': 154, 'n04328186': 155, 'n04356056': 156, 'n04366367': 157, 'n04371430': 158, 'n04376876': 159, 'n04398044': 160, 'n04399382': 161, 'n04417672': 162, 'n04456115': 163, 'n04465501': 164, 'n04486054': 165, 'n04487081': 166, 'n04501370': 167, 'n04507155': 168, 'n04532106': 169, 'n04532670': 170, 'n04540053': 171, 'n04560804': 172, 'n04562935': 173, 'n04596742': 174, 'n04597913': 175, 'n06596364': 176, 'n07579787': 177, 'n07583066': 178, 'n07614500': 179, 'n07615774': 180, 'n07695742': 181, 'n07711569': 182, 'n07715103': 183, 'n07720875': 184, 'n07734744': 185, 'n07747607': 186, 'n07749582': 187, 'n07753592': 188, 'n07768694': 189, 'n07871810': 190, 'n07873807': 191, 'n07875152': 192, 'n07920052': 193, 'n09193705': 194, 'n09246464': 195, 'n09256479': 196, 'n09332890': 197, 'n09428293': 198, 'n12267677': 199}\n"
          ]
        }
      ],
      "source": [
        "classes_to_idx = train_ds.class_to_idx\n",
        "idx_to_class = {value:key for key, value in classes_to_idx.items()}\n",
        "K = len(classes_to_idx)\n",
        "# print(\"Num of Singleton Classes: {}\".format(K))\n",
        "print(len(classes_to_idx), classes_to_idx)"
      ]
    },
    {
      "cell_type": "code",
      "execution_count": null,
      "metadata": {
        "id": "X991tn5fcQ66",
        "colab": {
          "base_uri": "https://localhost:8080/"
        },
        "outputId": "c2ba4589-f1c7-4393-d64b-75cfba1f0cbf"
      },
      "outputs": [
        {
          "output_type": "stream",
          "name": "stdout",
          "text": [
            "randomly selecting 1 vague classes from 29 candidate superclasses:\n",
            "['n02121808']\n"
          ]
        }
      ],
      "source": [
        "# num_comp = 1\n",
        "print(f'randomly selecting %d vague classes from %d candidate superclasses:'%(num_comp, count))\n",
        "vague_classes = random.sample(superclasses_multiple, num_comp)\n",
        "print(vague_classes)"
      ]
    },
    {
      "cell_type": "code",
      "source": [
        "# vague_classes = ['n02121808']"
      ],
      "metadata": {
        "id": "RZCL5nJ2IJSC"
      },
      "execution_count": null,
      "outputs": []
    },
    {
      "cell_type": "code",
      "execution_count": null,
      "metadata": {
        "colab": {
          "base_uri": "https://localhost:8080/"
        },
        "id": "1JfPEO_vcTHt",
        "outputId": "e9b46984-13d3-45d9-b914-29ffb39cce74"
      },
      "outputs": [
        {
          "output_type": "stream",
          "name": "stdout",
          "text": [
            "Composite set interget labels:\n",
            "[[30, 31, 32]]\n"
          ]
        }
      ],
      "source": [
        "C = [[classes_to_idx[sub_class] for sub_class in parent_to_subclass[super_class]] for super_class in vague_classes]\n",
        "kappa = K + len(C)\n",
        "print('Composite set interget labels:')\n",
        "print(C)"
      ]
    },
    {
      "cell_type": "code",
      "execution_count": null,
      "metadata": {
        "colab": {
          "base_uri": "https://localhost:8080/"
        },
        "id": "oMnEHRJ_cUKp",
        "outputId": "93f11ccb-b5a0-444c-c583-5589e725ab61"
      },
      "outputs": [
        {
          "output_type": "stream",
          "name": "stdout",
          "text": [
            "Interger class label to WNIDs:\n",
            "{0: 'n01443537', 1: 'n01629819', 2: 'n01641577', 3: 'n01644900', 4: 'n01698640', 5: 'n01742172', 6: 'n01768244', 7: 'n01770393', 8: 'n01774384', 9: 'n01774750', 10: 'n01784675', 11: 'n01855672', 12: 'n01882714', 13: 'n01910747', 14: 'n01917289', 15: 'n01944390', 16: 'n01945685', 17: 'n01950731', 18: 'n01983481', 19: 'n01984695', 20: 'n02002724', 21: 'n02056570', 22: 'n02058221', 23: 'n02074367', 24: 'n02085620', 25: 'n02094433', 26: 'n02099601', 27: 'n02099712', 28: 'n02106662', 29: 'n02113799', 30: 'n02123045', 31: 'n02123394', 32: 'n02124075', 33: 'n02125311', 34: 'n02129165', 35: 'n02132136', 36: 'n02165456', 37: 'n02190166', 38: 'n02206856', 39: 'n02226429', 40: 'n02231487', 41: 'n02233338', 42: 'n02236044', 43: 'n02268443', 44: 'n02279972', 45: 'n02281406', 46: 'n02321529', 47: 'n02364673', 48: 'n02395406', 49: 'n02403003', 50: 'n02410509', 51: 'n02415577', 52: 'n02423022', 53: 'n02437312', 54: 'n02480495', 55: 'n02481823', 56: 'n02486410', 57: 'n02504458', 58: 'n02509815', 59: 'n02666196', 60: 'n02669723', 61: 'n02699494', 62: 'n02730930', 63: 'n02769748', 64: 'n02788148', 65: 'n02791270', 66: 'n02793495', 67: 'n02795169', 68: 'n02802426', 69: 'n02808440', 70: 'n02814533', 71: 'n02814860', 72: 'n02815834', 73: 'n02823428', 74: 'n02837789', 75: 'n02841315', 76: 'n02843684', 77: 'n02883205', 78: 'n02892201', 79: 'n02906734', 80: 'n02909870', 81: 'n02917067', 82: 'n02927161', 83: 'n02948072', 84: 'n02950826', 85: 'n02963159', 86: 'n02977058', 87: 'n02988304', 88: 'n02999410', 89: 'n03014705', 90: 'n03026506', 91: 'n03042490', 92: 'n03085013', 93: 'n03089624', 94: 'n03100240', 95: 'n03126707', 96: 'n03160309', 97: 'n03179701', 98: 'n03201208', 99: 'n03250847', 100: 'n03255030', 101: 'n03355925', 102: 'n03388043', 103: 'n03393912', 104: 'n03400231', 105: 'n03404251', 106: 'n03424325', 107: 'n03444034', 108: 'n03447447', 109: 'n03544143', 110: 'n03584254', 111: 'n03599486', 112: 'n03617480', 113: 'n03637318', 114: 'n03649909', 115: 'n03662601', 116: 'n03670208', 117: 'n03706229', 118: 'n03733131', 119: 'n03763968', 120: 'n03770439', 121: 'n03796401', 122: 'n03804744', 123: 'n03814639', 124: 'n03837869', 125: 'n03838899', 126: 'n03854065', 127: 'n03891332', 128: 'n03902125', 129: 'n03930313', 130: 'n03937543', 131: 'n03970156', 132: 'n03976657', 133: 'n03977966', 134: 'n03980874', 135: 'n03983396', 136: 'n03992509', 137: 'n04008634', 138: 'n04023962', 139: 'n04067472', 140: 'n04070727', 141: 'n04074963', 142: 'n04099969', 143: 'n04118538', 144: 'n04133789', 145: 'n04146614', 146: 'n04149813', 147: 'n04179913', 148: 'n04251144', 149: 'n04254777', 150: 'n04259630', 151: 'n04265275', 152: 'n04275548', 153: 'n04285008', 154: 'n04311004', 155: 'n04328186', 156: 'n04356056', 157: 'n04366367', 158: 'n04371430', 159: 'n04376876', 160: 'n04398044', 161: 'n04399382', 162: 'n04417672', 163: 'n04456115', 164: 'n04465501', 165: 'n04486054', 166: 'n04487081', 167: 'n04501370', 168: 'n04507155', 169: 'n04532106', 170: 'n04532670', 171: 'n04540053', 172: 'n04560804', 173: 'n04562935', 174: 'n04596742', 175: 'n04597913', 176: 'n06596364', 177: 'n07579787', 178: 'n07583066', 179: 'n07614500', 180: 'n07615774', 181: 'n07695742', 182: 'n07711569', 183: 'n07715103', 184: 'n07720875', 185: 'n07734744', 186: 'n07747607', 187: 'n07749582', 188: 'n07753592', 189: 'n07768694', 190: 'n07871810', 191: 'n07873807', 192: 'n07875152', 193: 'n07920052', 194: 'n09193705', 195: 'n09246464', 196: 'n09256479', 197: 'n09332890', 198: 'n09428293', 199: 'n12267677', 200: ['n02123045', 'n02123394', 'n02124075']}\n"
          ]
        }
      ],
      "source": [
        "for i in range(len(C)):\n",
        "    idx_to_class[K + i] = [idx_to_class[k] for k in C[i]]\n",
        "print('Interger class label to WNIDs:')\n",
        "print(idx_to_class)"
      ]
    },
    {
      "cell_type": "code",
      "execution_count": null,
      "metadata": {
        "id": "Kr6jeBn_cVQ8"
      },
      "outputs": [],
      "source": [
        "class CustomDataset(Dataset):\n",
        "    def __init__(self, subset, class_num=None, transform=None):\n",
        "        self.subset = subset\n",
        "        self.transform = transform\n",
        "        self.class_num = class_num\n",
        "        \n",
        "    def __getitem__(self, index):\n",
        "        x, y = self.subset[index]\n",
        "        if self.transform:\n",
        "            x = self.transform(x)\n",
        "        if self.class_num is not None:\n",
        "          return x, self.class_num\n",
        "        else:\n",
        "          return x, y\n",
        "        \n",
        "    def __len__(self):\n",
        "        return len(self.subset)"
      ]
    },
    {
      "cell_type": "code",
      "execution_count": null,
      "metadata": {
        "colab": {
          "base_uri": "https://localhost:8080/"
        },
        "id": "VclBWCUZcVx-",
        "outputId": "a2fbaba0-7b11-438e-daa3-5cf1a87d6f17"
      },
      "outputs": [
        {
          "output_type": "stream",
          "name": "stdout",
          "text": [
            "Vague class: 200 , Num of Subclasses: 3\n"
          ]
        }
      ],
      "source": [
        "for vague_class in range(K, kappa):\n",
        "    print(\"Vague class:\", vague_class, \", Num of Subclasses:\", len(parent_to_subclass[vague_classes[vague_class-K]]))"
      ]
    },
    {
      "cell_type": "code",
      "execution_count": null,
      "metadata": {
        "id": "mDepPG7EcYYF"
      },
      "outputs": [],
      "source": [
        "def get_sample_idx_by_class(dataset, num_classes):\n",
        "    sample_idx_by_class = [[] for i in range(num_classes)]\n",
        "    for i in range(len(dataset)):\n",
        "        sample_idx_by_class[dataset[i][1]].append(i)\n",
        "    return sample_idx_by_class\n",
        "\n",
        "def make_valid_ds(dataset, perc=0):\n",
        "    valid_list = []\n",
        "    train_list = []\n",
        "    valid_class_indices = []\n",
        "    train_class_indices = []\n",
        "    sample_idx_by_class = get_sample_idx_by_class(dataset, kappa)\n",
        "    for samples in sample_idx_by_class:\n",
        "        valid_samples = random.sample(samples, int(len(samples)*perc))\n",
        "        valid_class_indices.append(valid_samples)\n",
        "        train_class_indices.append(list(set(samples)-set(valid_samples)))\n",
        "    valid_ds = Subset(dataset, valid_class_indices[0])\n",
        "    train_ds = Subset(dataset, train_class_indices[0])\n",
        "    for k in range(1, kappa):\n",
        "        valid_ds += Subset(dataset, valid_class_indices[k])\n",
        "        train_ds += Subset(dataset, train_class_indices[k])\n",
        "    return train_ds, valid_ds\n",
        "    \n",
        "\n",
        "def make_vague_samples(dataset, guass_blur_sigma = 15):\n",
        "    num_samples_subclass = len([i for i in range(len(dataset)) if dataset[i][1] == 0])  \n",
        "    for k in range(K, kappa):\n",
        "        num_vague_samples_subclass = math.floor(num_samples_subclass / (len(idx_to_class[k]) + 1.0))\n",
        "        num_nonvague_samples_subclass = num_samples_subclass - num_vague_samples_subclass\n",
        "        sample_indices = [i for i in range(len(dataset))]\n",
        "        for subclass in C[k - K]:\n",
        "            idx_candidates = [i for i in range(len(dataset)) if dataset[i][1] == subclass]\n",
        "            ### idx_candidates = [i for i in sample_indices_by_class[subclass] if dataset[i][1]==subclass]\n",
        "            idx_non_candidates = list(set(sample_indices)-set(idx_candidates))\n",
        "            subset1 = Subset(dataset, idx_non_candidates)\n",
        "            subset2 = Subset(dataset, idx_candidates)\n",
        "\n",
        "            nonvague_samples, vague_samples = random_split(subset2, [num_nonvague_samples_subclass, num_vague_samples_subclass])\n",
        "            vague_samples = CustomDataset(subset=vague_samples, class_num=k, transform=T.GaussianBlur(kernel_size=(35, 45), sigma = guass_blur_sigma))\n",
        "                                                            \n",
        "            dataset = subset1 + nonvague_samples + vague_samples\n",
        "            ### can we avoid changing the order of samples in dataset?\n",
        "    return dataset\n"
      ]
    },
    {
      "cell_type": "code",
      "execution_count": null,
      "metadata": {
        "id": "39j1Yfx5cajy",
        "colab": {
          "base_uri": "https://localhost:8080/"
        },
        "outputId": "07f35292-dc93-4280-8895-4d2b9c0d8536"
      },
      "outputs": [
        {
          "output_type": "stream",
          "name": "stdout",
          "text": [
            "making vague samples for whole dataset ...\n",
            "Total processing time: 485.86382246017456 seconds\n"
          ]
        }
      ],
      "source": [
        "print('making vague samples for whole dataset ...')\n",
        "start = time.time()\n",
        "train_ds = make_vague_samples(train_ds)\n",
        "test_ds = make_vague_samples(test_ds)\n",
        "end = time.time()\n",
        "print(f'Total processing time: %s seconds'%str(end-start))"
      ]
    },
    {
      "cell_type": "code",
      "execution_count": null,
      "metadata": {
        "id": "qMiGSExqjZxV",
        "colab": {
          "base_uri": "https://localhost:8080/"
        },
        "outputId": "ee7f0007-c80b-4e56-f1ae-8d1df48d13f2"
      },
      "outputs": [
        {
          "output_type": "stream",
          "name": "stdout",
          "text": [
            "Training set Size: 100000 (unsplitted)\n",
            "Testing set Size: 10000\n"
          ]
        }
      ],
      "source": [
        "print(\"Training set Size:\", len(train_ds), '(unsplitted)')\n",
        "print(\"Testing set Size:\", len(test_ds))"
      ]
    },
    {
      "cell_type": "code",
      "execution_count": null,
      "metadata": {
        "id": "X_FtEE28cdNV"
      },
      "outputs": [],
      "source": [
        "def printImage(image, label):\n",
        "  plt.imshow(image)\n",
        "  if label < K:\n",
        "   print('Label: {} ({})'.format(ID_to_names[idx_to_class[label]], label))\n",
        "  else:\n",
        "    subclass_names = []\n",
        "    for subclass in idx_to_class[label]:\n",
        "      subclass_names.append(ID_to_names[subclass])\n",
        "    print('Label: {} ({})'.format(subclass_names, label))"
      ]
    },
    {
      "cell_type": "code",
      "execution_count": null,
      "metadata": {
        "id": "ugi1NcMDcd2f",
        "colab": {
          "base_uri": "https://localhost:8080/"
        },
        "outputId": "9d0d183b-20ce-4c83-9a84-0345c79358d7"
      },
      "outputs": [
        {
          "output_type": "stream",
          "name": "stdout",
          "text": [
            "Total number of non-vague training samples per subclass in 'n02121808': 375\n"
          ]
        }
      ],
      "source": [
        "indexes = [i for i in range(len(train_ds)) if train_ds[i][1] == C[0][1]]\n",
        "print(\"Total number of non-vague training samples per subclass in \\'{}\\': {}\".format(vague_classes[0], len(indexes)))"
      ]
    },
    {
      "cell_type": "code",
      "execution_count": null,
      "metadata": {
        "id": "BsbreBOKcfJG",
        "colab": {
          "base_uri": "https://localhost:8080/",
          "height": 286
        },
        "outputId": "88e46f67-2761-472f-ba52-435ed7c5bcd1"
      },
      "outputs": [
        {
          "output_type": "stream",
          "name": "stdout",
          "text": [
            "Label: ['Persian cat'] (31)\n"
          ]
        },
        {
          "output_type": "display_data",
          "data": {
            "text/plain": [
              "<Figure size 432x288 with 1 Axes>"
            ],
            "image/png": "[encoded data removed]"
          },
          "metadata": {
            "needs_background": "light"
          }
        }
      ],
      "source": [
        "idx = indexes[2]\n",
        "printImage(train_ds[idx][0], train_ds[idx][1])"
      ]
    },
    {
      "cell_type": "code",
      "execution_count": null,
      "metadata": {
        "id": "fiffvs0XAR00",
        "colab": {
          "base_uri": "https://localhost:8080/",
          "height": 286
        },
        "outputId": "10bc8376-6785-4c49-d6a6-9fea918a0f9c"
      },
      "outputs": [
        {
          "output_type": "stream",
          "name": "stdout",
          "text": [
            "Label: ['tabby', 'tabby cat'] (30)\n"
          ]
        },
        {
          "output_type": "display_data",
          "data": {
            "text/plain": [
              "<Figure size 432x288 with 1 Axes>"
            ],
            "image/png": "[encoded data removed]"
          },
          "metadata": {
            "needs_background": "light"
          }
        }
      ],
      "source": [
        "indexes = [i for i in range(len(train_ds)) if train_ds[i][1] == C[0][0]]\n",
        "idx = indexes[2]\n",
        "printImage(train_ds[idx][0], train_ds[idx][1])"
      ]
    },
    {
      "cell_type": "code",
      "execution_count": null,
      "metadata": {
        "id": "CA4J1z8KchOs",
        "colab": {
          "base_uri": "https://localhost:8080/"
        },
        "outputId": "062bf353-7a0a-4415-e407-21123dc6128f"
      },
      "outputs": [
        {
          "output_type": "stream",
          "name": "stdout",
          "text": [
            "Total number of vague training samples in 'n02121808': 375\n"
          ]
        }
      ],
      "source": [
        "vague_indexes = [i for i in range(len(train_ds)) if train_ds[i][1] == K]\n",
        "print(\"Total number of vague training samples in \\'{}\\': {}\".format(vague_classes[0], len(vague_indexes)))"
      ]
    },
    {
      "cell_type": "code",
      "execution_count": null,
      "metadata": {
        "id": "piyNtSU7cizR",
        "colab": {
          "base_uri": "https://localhost:8080/",
          "height": 286
        },
        "outputId": "2176d00b-7f0a-4f4e-c520-0f0c19d9f621"
      },
      "outputs": [
        {
          "output_type": "stream",
          "name": "stdout",
          "text": [
            "Label: [['tabby', 'tabby cat'], ['Persian cat'], ['Egyptian cat']] (200)\n"
          ]
        },
        {
          "output_type": "display_data",
          "data": {
            "text/plain": [
              "<Figure size 432x288 with 1 Axes>"
            ],
            "image/png": "[encoded data removed]"
          },
          "metadata": {
            "needs_background": "light"
          }
        }
      ],
      "source": [
        "vague_idx = vague_indexes[8]\n",
        "printImage(train_ds[vague_idx][0], train_ds[vague_idx][1])"
      ]
    },
    {
      "cell_type": "code",
      "execution_count": null,
      "metadata": {
        "id": "HQVQNkCOuldP",
        "colab": {
          "base_uri": "https://localhost:8080/"
        },
        "outputId": "e4923807-4efe-4e0b-fa48-501c08bc57bd"
      },
      "outputs": [
        {
          "output_type": "stream",
          "name": "stdout",
          "text": [
            "Total number of non-vague test samples per subclass in 'n02121808': 38\n"
          ]
        }
      ],
      "source": [
        "indexes = [i for i in range(len(test_ds)) if test_ds[i][1] == C[0][1]]\n",
        "print(\"Total number of non-vague test samples per subclass in \\'{}\\': {}\".format(vague_classes[0], len(indexes)))"
      ]
    },
    {
      "cell_type": "code",
      "execution_count": null,
      "metadata": {
        "id": "cGWdlUcUvEik",
        "colab": {
          "base_uri": "https://localhost:8080/",
          "height": 286
        },
        "outputId": "13f66707-aec6-4479-d05d-067ab4819ddf"
      },
      "outputs": [
        {
          "output_type": "stream",
          "name": "stdout",
          "text": [
            "Label: ['Persian cat'] (31)\n"
          ]
        },
        {
          "output_type": "display_data",
          "data": {
            "text/plain": [
              "<Figure size 432x288 with 1 Axes>"
            ],
            "image/png": "[encoded data removed]"
          },
          "metadata": {
            "needs_background": "light"
          }
        }
      ],
      "source": [
        "idx = indexes[2]\n",
        "printImage(test_ds[idx][0], test_ds[idx][1])"
      ]
    },
    {
      "cell_type": "code",
      "execution_count": null,
      "metadata": {
        "id": "b2XwipqwvN3o",
        "colab": {
          "base_uri": "https://localhost:8080/"
        },
        "outputId": "f999c839-4419-4e73-eecb-f16ab12b0bb7"
      },
      "outputs": [
        {
          "output_type": "stream",
          "name": "stdout",
          "text": [
            "Total number of vague training samples in 'n02121808': 36\n"
          ]
        }
      ],
      "source": [
        "vague_indexes = [i for i in range(len(test_ds)) if test_ds[i][1] == K]\n",
        "print(\"Total number of vague training samples in \\'{}\\': {}\".format(vague_classes[0], len(vague_indexes)))"
      ]
    },
    {
      "cell_type": "code",
      "execution_count": null,
      "metadata": {
        "id": "FxeBem5TvQl5",
        "colab": {
          "base_uri": "https://localhost:8080/",
          "height": 286
        },
        "outputId": "e15432d7-bb14-4546-b93b-c4f95e76f932"
      },
      "outputs": [
        {
          "output_type": "stream",
          "name": "stdout",
          "text": [
            "Label: [['tabby', 'tabby cat'], ['Persian cat'], ['Egyptian cat']] (200)\n"
          ]
        },
        {
          "output_type": "display_data",
          "data": {
            "text/plain": [
              "<Figure size 432x288 with 1 Axes>"
            ],
            "image/png": "[encoded data removed]"
          },
          "metadata": {
            "needs_background": "light"
          }
        }
      ],
      "source": [
        "vague_idx = vague_indexes[8]\n",
        "printImage(test_ds[vague_idx][0], test_ds[vague_idx][1])"
      ]
    },
    {
      "cell_type": "code",
      "execution_count": null,
      "metadata": {
        "id": "cBtmNkV5Si1F",
        "colab": {
          "base_uri": "https://localhost:8080/"
        },
        "outputId": "6eb932dd-30e0-48b9-dbd4-5aa96977bff4"
      },
      "outputs": [
        {
          "output_type": "stream",
          "name": "stdout",
          "text": [
            "Data splitted. training size: 90002, validation size: 9998, test size: 10000\n",
            "Splitting time: 134.4446063041687 seconds.\n"
          ]
        }
      ],
      "source": [
        "start = time.time()\n",
        "train_ds, valid_ds = make_valid_ds(train_ds, perc=0.1)\n",
        "end = time.time()\n",
        "print(f'Data splitted. training size: %d, validation size: %d, test size: %d'%(len(train_ds), len(valid_ds), len(test_ds)))\n",
        "print(f'Splitting time: %s seconds.'%str(end-start))"
      ]
    },
    {
      "cell_type": "code",
      "source": [
        "start = time.time()\n",
        "preprocess_normalization = T.Compose([T.ToTensor(),\n",
        "                                      T.Normalize(mean=[0.485, 0.456, 0.406], \n",
        "                                                  std=[0.229, 0.224, 0.225])])\n",
        "\n",
        "train_ds = CustomDataset(subset=train_ds, transform=preprocess_normalization)\n",
        "valid_ds = CustomDataset(subset=valid_ds, transform=preprocess_normalization)\n",
        "test_ds = CustomDataset(subset=test_ds, transform=preprocess_normalization)\n",
        "end = time.time()\n",
        "print(f'Image preprocessed, total time: %s seconds'%str(end-start))"
      ],
      "metadata": {
        "colab": {
          "base_uri": "https://localhost:8080/"
        },
        "id": "hgojMlgT1eoN",
        "outputId": "c6de1b1e-7537-464d-eb2b-ca1956abe61a"
      },
      "execution_count": null,
      "outputs": [
        {
          "output_type": "stream",
          "name": "stdout",
          "text": [
            "Image preprocessed, total time: 0.00040650367736816406 seconds\n"
          ]
        }
      ]
    },
    {
      "cell_type": "code",
      "execution_count": null,
      "metadata": {
        "id": "RR0SPE9DzNH4",
        "colab": {
          "base_uri": "https://localhost:8080/"
        },
        "outputId": "9da65926-64f7-4b96-88c1-a31ea9b911c4"
      },
      "outputs": [
        {
          "output_type": "stream",
          "name": "stdout",
          "text": [
            "using batch_size = 64\n"
          ]
        }
      ],
      "source": [
        "batch_size = 64\n",
        "print(f'using batch_size = %d'%batch_size)\n",
        "n_batches = float(len(train_ds)/batch_size)"
      ]
    },
    {
      "cell_type": "code",
      "execution_count": null,
      "metadata": {
        "id": "tUYVtQ75Rs4M"
      },
      "outputs": [],
      "source": [
        "def get_default_device():\n",
        "    \"\"\"Pick GPU if available, else CPU\"\"\"\n",
        "    device = torch.device('cuda:'+str(args.gpu)) if args.gpu in range(8) else torch.device('cpu')\n",
        "    return device\n",
        "\n",
        "def to_device(data, device):\n",
        "    \"\"\"Move tensor(s) to chosen device\"\"\"\n",
        "    if isinstance(data, (list,tuple)):\n",
        "        return [to_device(x, device) for x in data]\n",
        "    return data.to(device, non_blocking=True)\n",
        "\n",
        "class DeviceDataLoader():\n",
        "    \"\"\"Wrap a dataloader to move data to a device\"\"\"\n",
        "    def __init__(self, dl, device):\n",
        "        self.dl = dl\n",
        "        self.device = device\n",
        "        \n",
        "    def __iter__(self):\n",
        "        \"\"\"Yield a batch of data after moving it to device\"\"\"\n",
        "        for b in self.dl: \n",
        "            yield to_device(b, self.device)\n",
        "\n",
        "    def __len__(self):\n",
        "        \"\"\"Number of batches\"\"\"\n",
        "        return len(self.dl)"
      ]
    },
    {
      "cell_type": "code",
      "execution_count": null,
      "metadata": {
        "colab": {
          "base_uri": "https://localhost:8080/"
        },
        "id": "7_xnuJuceqkb",
        "outputId": "f04396ee-0880-4b1c-865e-84a4fc1d52d9"
      },
      "outputs": [
        {
          "output_type": "stream",
          "name": "stdout",
          "text": [
            "cpu\n"
          ]
        }
      ],
      "source": [
        "# device = torch.device('cuda:0')\n",
        "device = get_default_device()\n",
        "print(device)"
      ]
    },
    {
      "cell_type": "code",
      "execution_count": null,
      "metadata": {
        "id": "3WEV-VjuRsMa"
      },
      "outputs": [],
      "source": [
        "valid_dl = DataLoader(valid_ds, batch_size=batch_size, num_workers=1, pin_memory=True)\n",
        "valid_dl = DeviceDataLoader(valid_dl, device)"
      ]
    },
    {
      "cell_type": "code",
      "execution_count": null,
      "metadata": {
        "id": "cVD0ltXCJWKP"
      },
      "outputs": [],
      "source": [
        "test_dl = DataLoader(test_ds, batch_size=batch_size, num_workers=1, pin_memory=True)\n",
        "test_dl = DeviceDataLoader(test_dl, device)"
      ]
    },
    {
      "cell_type": "code",
      "execution_count": null,
      "metadata": {
        "id": "wYMVI8WA1t17"
      },
      "outputs": [],
      "source": [
        "W = K\n",
        "a = torch.div(torch.ones(K), K).to(device)\n",
        "\n",
        "a_copy = a\n",
        "for element in range(len(C)):\n",
        "    sum_base_rates = torch.zeros(1).to(device)\n",
        "    for l in C[element]:\n",
        "        sum_base_rates = sum_base_rates + a[l]\n",
        "    a_copy = torch.cat((a_copy, sum_base_rates.view(1)))\n",
        "\n",
        "R = [[el] for el in range(K)]\n",
        "for el in C:\n",
        "    R.append(el)"
      ]
    },
    {
      "cell_type": "markdown",
      "metadata": {
        "id": "rzLFjEWHvgPx"
      },
      "source": [
        "# **HENN Training**"
      ]
    },
    {
      "cell_type": "code",
      "execution_count": null,
      "metadata": {
        "id": "CyAt6_ApJfCr"
      },
      "outputs": [],
      "source": [
        "train_dl = DataLoader(train_ds, batch_size, shuffle=True, num_workers=1, pin_memory=True)\n",
        "train_dl = DeviceDataLoader(train_dl, device)"
      ]
    },
    {
      "cell_type": "code",
      "execution_count": null,
      "metadata": {
        "id": "TWF8HweTRR5o"
      },
      "outputs": [],
      "source": [
        "def get_partitions():\n",
        "    remaining_indices = list(range(0, K))\n",
        "    partitions = []\n",
        "    for l in range(len(C)):\n",
        "        partitions.append(C[l])\n",
        "        for k in C[l]:\n",
        "            remaining_indices.remove(k) \n",
        "    if len(remaining_indices):\n",
        "        partitions.append(remaining_indices)\n",
        "    return partitions"
      ]
    },
    {
      "cell_type": "code",
      "execution_count": null,
      "metadata": {
        "colab": {
          "base_uri": "https://localhost:8080/"
        },
        "id": "cBTE-MkUR25R",
        "outputId": "892d06d7-d5ee-4a28-e8d3-a2c10b2b58a1"
      },
      "outputs": [
        {
          "output_type": "stream",
          "name": "stdout",
          "text": [
            "partition for GDD:\n",
            "[[30, 31, 32], [0, 1, 2, 3, 4, 5, 6, 7, 8, 9, 10, 11, 12, 13, 14, 15, 16, 17, 18, 19, 20, 21, 22, 23, 24, 25, 26, 27, 28, 29, 33, 34, 35, 36, 37, 38, 39, 40, 41, 42, 43, 44, 45, 46, 47, 48, 49, 50, 51, 52, 53, 54, 55, 56, 57, 58, 59, 60, 61, 62, 63, 64, 65, 66, 67, 68, 69, 70, 71, 72, 73, 74, 75, 76, 77, 78, 79, 80, 81, 82, 83, 84, 85, 86, 87, 88, 89, 90, 91, 92, 93, 94, 95, 96, 97, 98, 99, 100, 101, 102, 103, 104, 105, 106, 107, 108, 109, 110, 111, 112, 113, 114, 115, 116, 117, 118, 119, 120, 121, 122, 123, 124, 125, 126, 127, 128, 129, 130, 131, 132, 133, 134, 135, 136, 137, 138, 139, 140, 141, 142, 143, 144, 145, 146, 147, 148, 149, 150, 151, 152, 153, 154, 155, 156, 157, 158, 159, 160, 161, 162, 163, 164, 165, 166, 167, 168, 169, 170, 171, 172, 173, 174, 175, 176, 177, 178, 179, 180, 181, 182, 183, 184, 185, 186, 187, 188, 189, 190, 191, 192, 193, 194, 195, 196, 197, 198, 199]]\n"
          ]
        }
      ],
      "source": [
        "partitions = get_partitions()\n",
        "print('partition for GDD:')\n",
        "print(partitions)"
      ]
    },
    {
      "cell_type": "code",
      "execution_count": null,
      "metadata": {
        "id": "iJRTo5ZLJul2"
      },
      "outputs": [],
      "source": [
        "def squaredLoss(alpha, one_hot_vectors):\n",
        "    alpha_sum = torch.sum(alpha, dim=1)\n",
        "    p_exp = torch.div(alpha, alpha_sum[:, None])\n",
        "\n",
        "    num_classes = alpha.size(dim=1)\n",
        "    num_samples = len(alpha)\n",
        "\n",
        "    losses_term_1 = (one_hot_vectors - p_exp)**2\n",
        "    losses_term_2 = (p_exp * (torch.ones(num_samples, num_classes).to(device) - p_exp) / ((alpha_sum + 1.0)[:, None]))                   \n",
        "                        \n",
        "    losses = torch.sum(losses_term_1 + losses_term_2, dim=1)\n",
        "\n",
        "    return losses\n",
        "\n",
        "def KL(alpha):\n",
        "    num_classes = alpha.size(dim=1)\n",
        "    beta = torch.ones(1, num_classes).to(device)\n",
        "    S_beta = torch.sum(beta)\n",
        "    S_alpha = torch.sum(alpha, dim=1) \n",
        "    lnB = torch.lgamma(S_alpha) - torch.sum(torch.lgamma(alpha),dim=1)\n",
        "    lnB_uni = torch.sum(torch.lgamma(beta),dim=1) - torch.lgamma(S_beta)\n",
        "\n",
        "    dg0 = torch.digamma(S_alpha)\n",
        "    dg1 = torch.digamma(alpha)\n",
        "\n",
        "    kl = torch.sum((alpha - beta)*(dg1-dg0[:, None]),dim=1) + lnB + lnB_uni\n",
        "\n",
        "    return kl\n",
        "\n",
        "def lossFunc(r, one_hot_labels, base_rate, annealing_coefficient):\n",
        "    alpha = torch.add(r, torch.mul(W, base_rate))\n",
        "    squared_loss = squaredLoss(alpha, one_hot_labels)\n",
        "    # kl = KL(alpha)\n",
        "    # return torch.mean(squared_loss + (annealing_coefficient * kl))\n",
        "    # return squared_loss + (annealing_coefficient * kl), squared_loss, kl\n",
        "    return torch.mean(squared_loss)"
      ]
    },
    {
      "cell_type": "code",
      "execution_count": null,
      "metadata": {
        "colab": {
          "base_uri": "https://localhost:8080/",
          "height": 84,
          "referenced_widgets": [
            "e7f409cf5aae45c4bb68c4a349887ba2",
            "95bcbd0a82234317b2c40187b987548c",
            "72e9ecd5839c4c3d90d019f3097a17f1",
            "2b4b217926a5409f86ae14fc25dcf4c1",
            "a01d4d91ff204e90b2da3d88248f95e7",
            "72534c27f2a44a6cbebf1ac8ebe8bf3c",
            "30da1f71af6142a2bf21672b23815f8b",
            "b2843a184ade4e69b9889b3f4aadac30",
            "5eb2017c395b402fb929ebd43ad51b66",
            "effd032a30294282a9b60c9c1e54e7be",
            "fb758345739d49ae8e67396d20482ed7"
          ]
        },
        "id": "-wE8gcM5PiID",
        "outputId": "a614ee40-6ed9-4496-db0d-742dda1e037e"
      },
      "outputs": [
        {
          "output_type": "stream",
          "name": "stderr",
          "text": [
            "Downloading: \"https://github.com/lukemelas/EfficientNet-PyTorch/releases/download/1.0/efficientnet-b3-5fb5a3c3.pth\" to /root/.cache/torch/hub/checkpoints/efficientnet-b3-5fb5a3c3.pth\n"
          ]
        },
        {
          "output_type": "display_data",
          "data": {
            "text/plain": [
              "  0%|          | 0.00/47.1M [00:00<?, ?B/s]"
            ],
            "application/vnd.jupyter.widget-view+json": {
              "version_major": 2,
              "version_minor": 0,
              "model_id": "e7f409cf5aae45c4bb68c4a349887ba2"
            }
          },
          "metadata": {}
        },
        {
          "output_type": "stream",
          "name": "stdout",
          "text": [
            "Loaded pretrained weights for efficientnet-b3\n"
          ]
        }
      ],
      "source": [
        "class TinyImagenetEfficientNet(nn.Module):\n",
        "    def __init__(self):\n",
        "        super().__init__()\n",
        "\n",
        "        # EfficientNet\n",
        "        self.network = EfficientNet.from_pretrained(\"efficientnet-b3\", num_classes=kappa)\n",
        "        self.output = nn.Softplus()\n",
        "        \n",
        "    def forward(self, x):\n",
        "        logits = self.network(x)\n",
        "        logits = self.output(logits)\n",
        "        return logits\n",
        "\n",
        "model = to_device(TinyImagenetEfficientNet(), device)"
      ]
    },
    {
      "cell_type": "code",
      "execution_count": null,
      "metadata": {
        "id": "QcylQw1KQzvz"
      },
      "outputs": [],
      "source": [
        "def meanGDD(alpha, r):  \n",
        "    num_partitions = len(partitions)\n",
        "\n",
        "    beta = torch.zeros(len(alpha), num_partitions).to(device)\n",
        "    alpha_sum = torch.zeros(len(alpha), len(C)).to(device)\n",
        "\n",
        "    for l in range(len(C)):\n",
        "        alpha_sum[:, l] = torch.sum(torch.index_select(alpha, 1, torch.tensor(partitions[l]).to(device)), dim = 1)\n",
        "        beta[:, l] = alpha_sum[:, l] + r[:, K + l]\n",
        "\n",
        "    if num_partitions > len(C):\n",
        "        beta[:, len(C)] = torch.sum(torch.index_select(alpha, 1, torch.tensor(partitions[len(C)]).to(device)), dim = 1)\n",
        "\n",
        "    p = torch.zeros(len(alpha), K).to(device)\n",
        "\n",
        "    beta_sum = torch.sum(beta, dim=1)\n",
        "\n",
        "    for l in range(len(C)):\n",
        "        for k in partitions[l]:\n",
        "            p[:, k] = (alpha[:, k] / beta_sum) * (beta[:, l] / alpha_sum[:, l])\n",
        "\n",
        "    if num_partitions > len(C):\n",
        "        for k in partitions[len(C)]:\n",
        "            p[:, k] = alpha[:, k] / beta_sum\n",
        "\n",
        "    return p"
      ]
    },
    {
      "cell_type": "code",
      "execution_count": null,
      "metadata": {
        "id": "J69b3_3ASUE8"
      },
      "outputs": [],
      "source": [
        "def numAccurate(r, labels):\n",
        "    alpha = torch.add(r[:,:K], torch.mul(W, a))\n",
        "\n",
        "    # Get the predicted labels\n",
        "    p_exp = meanGDD(alpha, r)\n",
        "    predicted_labels = torch.argmax(p_exp, dim=1)\n",
        "\n",
        "    total_correct = 0.0\n",
        "    for i in range(len(labels)):\n",
        "        predicted_set = set(R[torch.argmax(r[i])])\n",
        "\n",
        "        if len(predicted_set) == 1:\n",
        "            predicted_set = set(R[predicted_labels[i].item()])\n",
        "\n",
        "        ground_truth_set = set(R[labels[i]])\n",
        "        total_correct += float(len(predicted_set.intersection(ground_truth_set))) / len(predicted_set.union(ground_truth_set))\n",
        "\n",
        "    return total_correct"
      ]
    },
    {
      "cell_type": "code",
      "source": [
        "PATH_HENN = os.path.join(model_save_dir, \"model_HENN.pt\")"
      ],
      "metadata": {
        "id": "IDlMvIy17hbB"
      },
      "execution_count": null,
      "outputs": []
    },
    {
      "cell_type": "code",
      "source": [
        "PATH_HENN"
      ],
      "metadata": {
        "colab": {
          "base_uri": "https://localhost:8080/",
          "height": 35
        },
        "id": "g2q6GhMSvvC5",
        "outputId": "874abf83-4211-4c0a-f588-9a53237eb1de"
      },
      "execution_count": null,
      "outputs": [
        {
          "output_type": "execute_result",
          "data": {
            "text/plain": [
              "'./models/model_HENN.pt'"
            ],
            "application/vnd.google.colaboratory.intrinsic+json": {
              "type": "string"
            }
          },
          "metadata": {},
          "execution_count": 68
        }
      ]
    },
    {
      "cell_type": "code",
      "execution_count": null,
      "metadata": {
        "id": "6UpZaWc6SWzW"
      },
      "outputs": [],
      "source": [
        "@torch.no_grad()\n",
        "def evaluate(model, val_loader, annealing_coefficient):\n",
        "    model.eval()\n",
        "    results = {\n",
        "        'accuracy': 0.0,\n",
        "        'mean_val_loss': 0.0\n",
        "    }\n",
        "    total_correct = 0.0\n",
        "    total_samples = 0\n",
        "    val_losses = []\n",
        "    for batch in val_loader:\n",
        "        images, labels = batch\n",
        "        one_hot_labels = torch.nn.functional.one_hot(labels, num_classes=kappa)\n",
        "        r = model(images)\n",
        "        loss = lossFunc(r, one_hot_labels, a_copy, annealing_coefficient)\n",
        "        # batch_loss, _, _ = lossFunc(r, one_hot_labels, a_copy, annealing_coefficient)\n",
        "        # loss = torch.mean(batch_loss)\n",
        "\n",
        "        total_correct += numAccurate(r, labels)\n",
        "        total_samples += len(labels)\n",
        "        val_loss = loss.detach()\n",
        "        val_losses.append(val_loss)\n",
        "    results['mean_val_loss'] = torch.stack(val_losses).mean().item()\n",
        "    results['accuracy'] = total_correct / total_samples\n",
        "    return results\n",
        "\n",
        "def fit(epochs, model, lr, train_loader, val_loader, weight_decay=0):\n",
        "    optimizer = torch.optim.Adam(model.parameters(), lr=lr, weight_decay=weight_decay)\n",
        "    global_step = 0\n",
        "    annealing_step = 1000.0 * n_batches\n",
        "    for epoch in range(epochs):\n",
        "        # Training Phase \n",
        "        model.train()\n",
        "        train_losses = []\n",
        "        squared_losses = []\n",
        "        kls = []\n",
        "        for batch in train_loader:\n",
        "            optimizer.zero_grad()\n",
        "            images, labels = batch\n",
        "            one_hot_labels = torch.nn.functional.one_hot(labels, num_classes=kappa)\n",
        "            r = model(images)\n",
        "            annealing_coefficient = min(1.0, global_step/annealing_step)\n",
        "            loss = lossFunc(r, one_hot_labels, a_copy, annealing_coefficient)\n",
        "            train_losses.append(loss)\n",
        "            loss.backward()\n",
        "            optimizer.step()\n",
        "            # batch_loss, squared_loss, kl = lossFunc(r, one_hot_labels, a_copy, annealing_coefficient)\n",
        "            # loss = torch.mean(batch_loss)\n",
        "            # train_losses.append(loss)\n",
        "            # squared_losses.append(torch.mean(squared_loss))\n",
        "            # kls.append(torch.mean(kl))\n",
        "            # loss.backward()\n",
        "            # optimizer.step()\n",
        "            global_step += 1\n",
        "        mean_train_loss = torch.stack(train_losses).mean().item()\n",
        "        # mean_squared_loss = torch.stack(squared_losses).mean().item()\n",
        "        # mean_kl_loss = torch.stack(kls).mean().item()\n",
        "        # Validation phase\n",
        "        results = evaluate(model, val_loader, annealing_coefficient)\n",
        "        print(\"Epoch [{}], Mean Training Loss: {:.4f}, Mean Validation Loss: {:.4f}, Validation Accuracy: {:.4f}\".format(epoch, mean_train_loss, results['mean_val_loss'], results['accuracy']))\n",
        "        # print(\"Epoch [{}], Mean Training Loss: {:.4f}, Mean Squared Loss: {:.4f}, Annealing Coefficient: {}, Mean KL: {:.4f}, Mean Validation Loss: {:.4f}, Validation Accuracy: {:.4f}\"\\\n",
        "        # .format(epoch, mean_train_loss, mean_squared_loss, annealing_coefficient, mean_kl_loss, results['mean_val_loss'], results['accuracy']))\n",
        "        if (epoch + 1) % 5 == 0:\n",
        "            torch.save(model.state_dict(), PATH_HENN)"
      ]
    },
    {
      "cell_type": "code",
      "execution_count": null,
      "metadata": {
        "colab": {
          "base_uri": "https://localhost:8080/"
        },
        "id": "ZrJKR1PWSxYt",
        "outputId": "337bd108-7366-4c71-ae54-eea1e5d791a6"
      },
      "outputs": [
        {
          "output_type": "stream",
          "name": "stdout",
          "text": [
            "learning rate: 0.001\n"
          ]
        }
      ],
      "source": [
        "start = time.time()\n",
        "for lr in [1e-3, 1e-4]:\n",
        "    print(\"learning rate: {}\".format(lr))\n",
        "\n",
        "    if lr == 1e-3:\n",
        "        num_epochs = 25\n",
        "    else:\n",
        "        num_epochs = 10\n",
        "\n",
        "    fit(num_epochs, model, lr, train_dl, valid_dl, 0)\n",
        "\n",
        "end = time.time()\n",
        "torch.save(model.state_dict(), PATH_HENN)\n",
        "print(f'Total training time for HENN: %s seconds.'%str(end-start))"
      ]
    },
    {
      "cell_type": "markdown",
      "metadata": {
        "id": "DW3fnZIXJ1d5"
      },
      "source": [
        "# **HENN Testing**"
      ]
    },
    {
      "cell_type": "code",
      "execution_count": null,
      "metadata": {
        "colab": {
          "base_uri": "https://localhost:8080/"
        },
        "id": "8NDiRGStJ_XH",
        "outputId": "c78d5cf4-0c59-4080-eaf8-95fd76e3eb90"
      },
      "outputs": [
        {
          "output_type": "stream",
          "name": "stdout",
          "text": [
            "Loaded pretrained weights for efficientnet-b3\n"
          ]
        },
        {
          "output_type": "execute_result",
          "data": {
            "text/plain": [
              "TinyImagenetEfficientNet(\n",
              "  (network): EfficientNet(\n",
              "    (_conv_stem): Conv2dStaticSamePadding(\n",
              "      3, 40, kernel_size=(3, 3), stride=(2, 2), bias=False\n",
              "      (static_padding): ZeroPad2d(padding=(0, 1, 0, 1), value=0.0)\n",
              "    )\n",
              "    (_bn0): BatchNorm2d(40, eps=0.001, momentum=0.010000000000000009, affine=True, track_running_stats=True)\n",
              "    (_blocks): ModuleList(\n",
              "      (0): MBConvBlock(\n",
              "        (_depthwise_conv): Conv2dStaticSamePadding(\n",
              "          40, 40, kernel_size=(3, 3), stride=[1, 1], groups=40, bias=False\n",
              "          (static_padding): ZeroPad2d(padding=(1, 1, 1, 1), value=0.0)\n",
              "        )\n",
              "        (_bn1): BatchNorm2d(40, eps=0.001, momentum=0.010000000000000009, affine=True, track_running_stats=True)\n",
              "        (_se_reduce): Conv2dStaticSamePadding(\n",
              "          40, 10, kernel_size=(1, 1), stride=(1, 1)\n",
              "          (static_padding): Identity()\n",
              "        )\n",
              "        (_se_expand): Conv2dStaticSamePadding(\n",
              "          10, 40, kernel_size=(1, 1), stride=(1, 1)\n",
              "          (static_padding): Identity()\n",
              "        )\n",
              "        (_project_conv): Conv2dStaticSamePadding(\n",
              "          40, 24, kernel_size=(1, 1), stride=(1, 1), bias=False\n",
              "          (static_padding): Identity()\n",
              "        )\n",
              "        (_bn2): BatchNorm2d(24, eps=0.001, momentum=0.010000000000000009, affine=True, track_running_stats=True)\n",
              "        (_swish): MemoryEfficientSwish()\n",
              "      )\n",
              "      (1): MBConvBlock(\n",
              "        (_depthwise_conv): Conv2dStaticSamePadding(\n",
              "          24, 24, kernel_size=(3, 3), stride=(1, 1), groups=24, bias=False\n",
              "          (static_padding): ZeroPad2d(padding=(1, 1, 1, 1), value=0.0)\n",
              "        )\n",
              "        (_bn1): BatchNorm2d(24, eps=0.001, momentum=0.010000000000000009, affine=True, track_running_stats=True)\n",
              "        (_se_reduce): Conv2dStaticSamePadding(\n",
              "          24, 6, kernel_size=(1, 1), stride=(1, 1)\n",
              "          (static_padding): Identity()\n",
              "        )\n",
              "        (_se_expand): Conv2dStaticSamePadding(\n",
              "          6, 24, kernel_size=(1, 1), stride=(1, 1)\n",
              "          (static_padding): Identity()\n",
              "        )\n",
              "        (_project_conv): Conv2dStaticSamePadding(\n",
              "          24, 24, kernel_size=(1, 1), stride=(1, 1), bias=False\n",
              "          (static_padding): Identity()\n",
              "        )\n",
              "        (_bn2): BatchNorm2d(24, eps=0.001, momentum=0.010000000000000009, affine=True, track_running_stats=True)\n",
              "        (_swish): MemoryEfficientSwish()\n",
              "      )\n",
              "      (2): MBConvBlock(\n",
              "        (_expand_conv): Conv2dStaticSamePadding(\n",
              "          24, 144, kernel_size=(1, 1), stride=(1, 1), bias=False\n",
              "          (static_padding): Identity()\n",
              "        )\n",
              "        (_bn0): BatchNorm2d(144, eps=0.001, momentum=0.010000000000000009, affine=True, track_running_stats=True)\n",
              "        (_depthwise_conv): Conv2dStaticSamePadding(\n",
              "          144, 144, kernel_size=(3, 3), stride=[2, 2], groups=144, bias=False\n",
              "          (static_padding): ZeroPad2d(padding=(0, 1, 0, 1), value=0.0)\n",
              "        )\n",
              "        (_bn1): BatchNorm2d(144, eps=0.001, momentum=0.010000000000000009, affine=True, track_running_stats=True)\n",
              "        (_se_reduce): Conv2dStaticSamePadding(\n",
              "          144, 6, kernel_size=(1, 1), stride=(1, 1)\n",
              "          (static_padding): Identity()\n",
              "        )\n",
              "        (_se_expand): Conv2dStaticSamePadding(\n",
              "          6, 144, kernel_size=(1, 1), stride=(1, 1)\n",
              "          (static_padding): Identity()\n",
              "        )\n",
              "        (_project_conv): Conv2dStaticSamePadding(\n",
              "          144, 32, kernel_size=(1, 1), stride=(1, 1), bias=False\n",
              "          (static_padding): Identity()\n",
              "        )\n",
              "        (_bn2): BatchNorm2d(32, eps=0.001, momentum=0.010000000000000009, affine=True, track_running_stats=True)\n",
              "        (_swish): MemoryEfficientSwish()\n",
              "      )\n",
              "      (3): MBConvBlock(\n",
              "        (_expand_conv): Conv2dStaticSamePadding(\n",
              "          32, 192, kernel_size=(1, 1), stride=(1, 1), bias=False\n",
              "          (static_padding): Identity()\n",
              "        )\n",
              "        (_bn0): BatchNorm2d(192, eps=0.001, momentum=0.010000000000000009, affine=True, track_running_stats=True)\n",
              "        (_depthwise_conv): Conv2dStaticSamePadding(\n",
              "          192, 192, kernel_size=(3, 3), stride=(1, 1), groups=192, bias=False\n",
              "          (static_padding): ZeroPad2d(padding=(1, 1, 1, 1), value=0.0)\n",
              "        )\n",
              "        (_bn1): BatchNorm2d(192, eps=0.001, momentum=0.010000000000000009, affine=True, track_running_stats=True)\n",
              "        (_se_reduce): Conv2dStaticSamePadding(\n",
              "          192, 8, kernel_size=(1, 1), stride=(1, 1)\n",
              "          (static_padding): Identity()\n",
              "        )\n",
              "        (_se_expand): Conv2dStaticSamePadding(\n",
              "          8, 192, kernel_size=(1, 1), stride=(1, 1)\n",
              "          (static_padding): Identity()\n",
              "        )\n",
              "        (_project_conv): Conv2dStaticSamePadding(\n",
              "          192, 32, kernel_size=(1, 1), stride=(1, 1), bias=False\n",
              "          (static_padding): Identity()\n",
              "        )\n",
              "        (_bn2): BatchNorm2d(32, eps=0.001, momentum=0.010000000000000009, affine=True, track_running_stats=True)\n",
              "        (_swish): MemoryEfficientSwish()\n",
              "      )\n",
              "      (4): MBConvBlock(\n",
              "        (_expand_conv): Conv2dStaticSamePadding(\n",
              "          32, 192, kernel_size=(1, 1), stride=(1, 1), bias=False\n",
              "          (static_padding): Identity()\n",
              "        )\n",
              "        (_bn0): BatchNorm2d(192, eps=0.001, momentum=0.010000000000000009, affine=True, track_running_stats=True)\n",
              "        (_depthwise_conv): Conv2dStaticSamePadding(\n",
              "          192, 192, kernel_size=(3, 3), stride=(1, 1), groups=192, bias=False\n",
              "          (static_padding): ZeroPad2d(padding=(1, 1, 1, 1), value=0.0)\n",
              "        )\n",
              "        (_bn1): BatchNorm2d(192, eps=0.001, momentum=0.010000000000000009, affine=True, track_running_stats=True)\n",
              "        (_se_reduce): Conv2dStaticSamePadding(\n",
              "          192, 8, kernel_size=(1, 1), stride=(1, 1)\n",
              "          (static_padding): Identity()\n",
              "        )\n",
              "        (_se_expand): Conv2dStaticSamePadding(\n",
              "          8, 192, kernel_size=(1, 1), stride=(1, 1)\n",
              "          (static_padding): Identity()\n",
              "        )\n",
              "        (_project_conv): Conv2dStaticSamePadding(\n",
              "          192, 32, kernel_size=(1, 1), stride=(1, 1), bias=False\n",
              "          (static_padding): Identity()\n",
              "        )\n",
              "        (_bn2): BatchNorm2d(32, eps=0.001, momentum=0.010000000000000009, affine=True, track_running_stats=True)\n",
              "        (_swish): MemoryEfficientSwish()\n",
              "      )\n",
              "      (5): MBConvBlock(\n",
              "        (_expand_conv): Conv2dStaticSamePadding(\n",
              "          32, 192, kernel_size=(1, 1), stride=(1, 1), bias=False\n",
              "          (static_padding): Identity()\n",
              "        )\n",
              "        (_bn0): BatchNorm2d(192, eps=0.001, momentum=0.010000000000000009, affine=True, track_running_stats=True)\n",
              "        (_depthwise_conv): Conv2dStaticSamePadding(\n",
              "          192, 192, kernel_size=(5, 5), stride=[2, 2], groups=192, bias=False\n",
              "          (static_padding): ZeroPad2d(padding=(2, 2, 2, 2), value=0.0)\n",
              "        )\n",
              "        (_bn1): BatchNorm2d(192, eps=0.001, momentum=0.010000000000000009, affine=True, track_running_stats=True)\n",
              "        (_se_reduce): Conv2dStaticSamePadding(\n",
              "          192, 8, kernel_size=(1, 1), stride=(1, 1)\n",
              "          (static_padding): Identity()\n",
              "        )\n",
              "        (_se_expand): Conv2dStaticSamePadding(\n",
              "          8, 192, kernel_size=(1, 1), stride=(1, 1)\n",
              "          (static_padding): Identity()\n",
              "        )\n",
              "        (_project_conv): Conv2dStaticSamePadding(\n",
              "          192, 48, kernel_size=(1, 1), stride=(1, 1), bias=False\n",
              "          (static_padding): Identity()\n",
              "        )\n",
              "        (_bn2): BatchNorm2d(48, eps=0.001, momentum=0.010000000000000009, affine=True, track_running_stats=True)\n",
              "        (_swish): MemoryEfficientSwish()\n",
              "      )\n",
              "      (6): MBConvBlock(\n",
              "        (_expand_conv): Conv2dStaticSamePadding(\n",
              "          48, 288, kernel_size=(1, 1), stride=(1, 1), bias=False\n",
              "          (static_padding): Identity()\n",
              "        )\n",
              "        (_bn0): BatchNorm2d(288, eps=0.001, momentum=0.010000000000000009, affine=True, track_running_stats=True)\n",
              "        (_depthwise_conv): Conv2dStaticSamePadding(\n",
              "          288, 288, kernel_size=(5, 5), stride=(1, 1), groups=288, bias=False\n",
              "          (static_padding): ZeroPad2d(padding=(2, 2, 2, 2), value=0.0)\n",
              "        )\n",
              "        (_bn1): BatchNorm2d(288, eps=0.001, momentum=0.010000000000000009, affine=True, track_running_stats=True)\n",
              "        (_se_reduce): Conv2dStaticSamePadding(\n",
              "          288, 12, kernel_size=(1, 1), stride=(1, 1)\n",
              "          (static_padding): Identity()\n",
              "        )\n",
              "        (_se_expand): Conv2dStaticSamePadding(\n",
              "          12, 288, kernel_size=(1, 1), stride=(1, 1)\n",
              "          (static_padding): Identity()\n",
              "        )\n",
              "        (_project_conv): Conv2dStaticSamePadding(\n",
              "          288, 48, kernel_size=(1, 1), stride=(1, 1), bias=False\n",
              "          (static_padding): Identity()\n",
              "        )\n",
              "        (_bn2): BatchNorm2d(48, eps=0.001, momentum=0.010000000000000009, affine=True, track_running_stats=True)\n",
              "        (_swish): MemoryEfficientSwish()\n",
              "      )\n",
              "      (7): MBConvBlock(\n",
              "        (_expand_conv): Conv2dStaticSamePadding(\n",
              "          48, 288, kernel_size=(1, 1), stride=(1, 1), bias=False\n",
              "          (static_padding): Identity()\n",
              "        )\n",
              "        (_bn0): BatchNorm2d(288, eps=0.001, momentum=0.010000000000000009, affine=True, track_running_stats=True)\n",
              "        (_depthwise_conv): Conv2dStaticSamePadding(\n",
              "          288, 288, kernel_size=(5, 5), stride=(1, 1), groups=288, bias=False\n",
              "          (static_padding): ZeroPad2d(padding=(2, 2, 2, 2), value=0.0)\n",
              "        )\n",
              "        (_bn1): BatchNorm2d(288, eps=0.001, momentum=0.010000000000000009, affine=True, track_running_stats=True)\n",
              "        (_se_reduce): Conv2dStaticSamePadding(\n",
              "          288, 12, kernel_size=(1, 1), stride=(1, 1)\n",
              "          (static_padding): Identity()\n",
              "        )\n",
              "        (_se_expand): Conv2dStaticSamePadding(\n",
              "          12, 288, kernel_size=(1, 1), stride=(1, 1)\n",
              "          (static_padding): Identity()\n",
              "        )\n",
              "        (_project_conv): Conv2dStaticSamePadding(\n",
              "          288, 48, kernel_size=(1, 1), stride=(1, 1), bias=False\n",
              "          (static_padding): Identity()\n",
              "        )\n",
              "        (_bn2): BatchNorm2d(48, eps=0.001, momentum=0.010000000000000009, affine=True, track_running_stats=True)\n",
              "        (_swish): MemoryEfficientSwish()\n",
              "      )\n",
              "      (8): MBConvBlock(\n",
              "        (_expand_conv): Conv2dStaticSamePadding(\n",
              "          48, 288, kernel_size=(1, 1), stride=(1, 1), bias=False\n",
              "          (static_padding): Identity()\n",
              "        )\n",
              "        (_bn0): BatchNorm2d(288, eps=0.001, momentum=0.010000000000000009, affine=True, track_running_stats=True)\n",
              "        (_depthwise_conv): Conv2dStaticSamePadding(\n",
              "          288, 288, kernel_size=(3, 3), stride=[2, 2], groups=288, bias=False\n",
              "          (static_padding): ZeroPad2d(padding=(0, 1, 0, 1), value=0.0)\n",
              "        )\n",
              "        (_bn1): BatchNorm2d(288, eps=0.001, momentum=0.010000000000000009, affine=True, track_running_stats=True)\n",
              "        (_se_reduce): Conv2dStaticSamePadding(\n",
              "          288, 12, kernel_size=(1, 1), stride=(1, 1)\n",
              "          (static_padding): Identity()\n",
              "        )\n",
              "        (_se_expand): Conv2dStaticSamePadding(\n",
              "          12, 288, kernel_size=(1, 1), stride=(1, 1)\n",
              "          (static_padding): Identity()\n",
              "        )\n",
              "        (_project_conv): Conv2dStaticSamePadding(\n",
              "          288, 96, kernel_size=(1, 1), stride=(1, 1), bias=False\n",
              "          (static_padding): Identity()\n",
              "        )\n",
              "        (_bn2): BatchNorm2d(96, eps=0.001, momentum=0.010000000000000009, affine=True, track_running_stats=True)\n",
              "        (_swish): MemoryEfficientSwish()\n",
              "      )\n",
              "      (9): MBConvBlock(\n",
              "        (_expand_conv): Conv2dStaticSamePadding(\n",
              "          96, 576, kernel_size=(1, 1), stride=(1, 1), bias=False\n",
              "          (static_padding): Identity()\n",
              "        )\n",
              "        (_bn0): BatchNorm2d(576, eps=0.001, momentum=0.010000000000000009, affine=True, track_running_stats=True)\n",
              "        (_depthwise_conv): Conv2dStaticSamePadding(\n",
              "          576, 576, kernel_size=(3, 3), stride=(1, 1), groups=576, bias=False\n",
              "          (static_padding): ZeroPad2d(padding=(1, 1, 1, 1), value=0.0)\n",
              "        )\n",
              "        (_bn1): BatchNorm2d(576, eps=0.001, momentum=0.010000000000000009, affine=True, track_running_stats=True)\n",
              "        (_se_reduce): Conv2dStaticSamePadding(\n",
              "          576, 24, kernel_size=(1, 1), stride=(1, 1)\n",
              "          (static_padding): Identity()\n",
              "        )\n",
              "        (_se_expand): Conv2dStaticSamePadding(\n",
              "          24, 576, kernel_size=(1, 1), stride=(1, 1)\n",
              "          (static_padding): Identity()\n",
              "        )\n",
              "        (_project_conv): Conv2dStaticSamePadding(\n",
              "          576, 96, kernel_size=(1, 1), stride=(1, 1), bias=False\n",
              "          (static_padding): Identity()\n",
              "        )\n",
              "        (_bn2): BatchNorm2d(96, eps=0.001, momentum=0.010000000000000009, affine=True, track_running_stats=True)\n",
              "        (_swish): MemoryEfficientSwish()\n",
              "      )\n",
              "      (10): MBConvBlock(\n",
              "        (_expand_conv): Conv2dStaticSamePadding(\n",
              "          96, 576, kernel_size=(1, 1), stride=(1, 1), bias=False\n",
              "          (static_padding): Identity()\n",
              "        )\n",
              "        (_bn0): BatchNorm2d(576, eps=0.001, momentum=0.010000000000000009, affine=True, track_running_stats=True)\n",
              "        (_depthwise_conv): Conv2dStaticSamePadding(\n",
              "          576, 576, kernel_size=(3, 3), stride=(1, 1), groups=576, bias=False\n",
              "          (static_padding): ZeroPad2d(padding=(1, 1, 1, 1), value=0.0)\n",
              "        )\n",
              "        (_bn1): BatchNorm2d(576, eps=0.001, momentum=0.010000000000000009, affine=True, track_running_stats=True)\n",
              "        (_se_reduce): Conv2dStaticSamePadding(\n",
              "          576, 24, kernel_size=(1, 1), stride=(1, 1)\n",
              "          (static_padding): Identity()\n",
              "        )\n",
              "        (_se_expand): Conv2dStaticSamePadding(\n",
              "          24, 576, kernel_size=(1, 1), stride=(1, 1)\n",
              "          (static_padding): Identity()\n",
              "        )\n",
              "        (_project_conv): Conv2dStaticSamePadding(\n",
              "          576, 96, kernel_size=(1, 1), stride=(1, 1), bias=False\n",
              "          (static_padding): Identity()\n",
              "        )\n",
              "        (_bn2): BatchNorm2d(96, eps=0.001, momentum=0.010000000000000009, affine=True, track_running_stats=True)\n",
              "        (_swish): MemoryEfficientSwish()\n",
              "      )\n",
              "      (11): MBConvBlock(\n",
              "        (_expand_conv): Conv2dStaticSamePadding(\n",
              "          96, 576, kernel_size=(1, 1), stride=(1, 1), bias=False\n",
              "          (static_padding): Identity()\n",
              "        )\n",
              "        (_bn0): BatchNorm2d(576, eps=0.001, momentum=0.010000000000000009, affine=True, track_running_stats=True)\n",
              "        (_depthwise_conv): Conv2dStaticSamePadding(\n",
              "          576, 576, kernel_size=(3, 3), stride=(1, 1), groups=576, bias=False\n",
              "          (static_padding): ZeroPad2d(padding=(1, 1, 1, 1), value=0.0)\n",
              "        )\n",
              "        (_bn1): BatchNorm2d(576, eps=0.001, momentum=0.010000000000000009, affine=True, track_running_stats=True)\n",
              "        (_se_reduce): Conv2dStaticSamePadding(\n",
              "          576, 24, kernel_size=(1, 1), stride=(1, 1)\n",
              "          (static_padding): Identity()\n",
              "        )\n",
              "        (_se_expand): Conv2dStaticSamePadding(\n",
              "          24, 576, kernel_size=(1, 1), stride=(1, 1)\n",
              "          (static_padding): Identity()\n",
              "        )\n",
              "        (_project_conv): Conv2dStaticSamePadding(\n",
              "          576, 96, kernel_size=(1, 1), stride=(1, 1), bias=False\n",
              "          (static_padding): Identity()\n",
              "        )\n",
              "        (_bn2): BatchNorm2d(96, eps=0.001, momentum=0.010000000000000009, affine=True, track_running_stats=True)\n",
              "        (_swish): MemoryEfficientSwish()\n",
              "      )\n",
              "      (12): MBConvBlock(\n",
              "        (_expand_conv): Conv2dStaticSamePadding(\n",
              "          96, 576, kernel_size=(1, 1), stride=(1, 1), bias=False\n",
              "          (static_padding): Identity()\n",
              "        )\n",
              "        (_bn0): BatchNorm2d(576, eps=0.001, momentum=0.010000000000000009, affine=True, track_running_stats=True)\n",
              "        (_depthwise_conv): Conv2dStaticSamePadding(\n",
              "          576, 576, kernel_size=(3, 3), stride=(1, 1), groups=576, bias=False\n",
              "          (static_padding): ZeroPad2d(padding=(1, 1, 1, 1), value=0.0)\n",
              "        )\n",
              "        (_bn1): BatchNorm2d(576, eps=0.001, momentum=0.010000000000000009, affine=True, track_running_stats=True)\n",
              "        (_se_reduce): Conv2dStaticSamePadding(\n",
              "          576, 24, kernel_size=(1, 1), stride=(1, 1)\n",
              "          (static_padding): Identity()\n",
              "        )\n",
              "        (_se_expand): Conv2dStaticSamePadding(\n",
              "          24, 576, kernel_size=(1, 1), stride=(1, 1)\n",
              "          (static_padding): Identity()\n",
              "        )\n",
              "        (_project_conv): Conv2dStaticSamePadding(\n",
              "          576, 96, kernel_size=(1, 1), stride=(1, 1), bias=False\n",
              "          (static_padding): Identity()\n",
              "        )\n",
              "        (_bn2): BatchNorm2d(96, eps=0.001, momentum=0.010000000000000009, affine=True, track_running_stats=True)\n",
              "        (_swish): MemoryEfficientSwish()\n",
              "      )\n",
              "      (13): MBConvBlock(\n",
              "        (_expand_conv): Conv2dStaticSamePadding(\n",
              "          96, 576, kernel_size=(1, 1), stride=(1, 1), bias=False\n",
              "          (static_padding): Identity()\n",
              "        )\n",
              "        (_bn0): BatchNorm2d(576, eps=0.001, momentum=0.010000000000000009, affine=True, track_running_stats=True)\n",
              "        (_depthwise_conv): Conv2dStaticSamePadding(\n",
              "          576, 576, kernel_size=(5, 5), stride=[1, 1], groups=576, bias=False\n",
              "          (static_padding): ZeroPad2d(padding=(2, 2, 2, 2), value=0.0)\n",
              "        )\n",
              "        (_bn1): BatchNorm2d(576, eps=0.001, momentum=0.010000000000000009, affine=True, track_running_stats=True)\n",
              "        (_se_reduce): Conv2dStaticSamePadding(\n",
              "          576, 24, kernel_size=(1, 1), stride=(1, 1)\n",
              "          (static_padding): Identity()\n",
              "        )\n",
              "        (_se_expand): Conv2dStaticSamePadding(\n",
              "          24, 576, kernel_size=(1, 1), stride=(1, 1)\n",
              "          (static_padding): Identity()\n",
              "        )\n",
              "        (_project_conv): Conv2dStaticSamePadding(\n",
              "          576, 136, kernel_size=(1, 1), stride=(1, 1), bias=False\n",
              "          (static_padding): Identity()\n",
              "        )\n",
              "        (_bn2): BatchNorm2d(136, eps=0.001, momentum=0.010000000000000009, affine=True, track_running_stats=True)\n",
              "        (_swish): MemoryEfficientSwish()\n",
              "      )\n",
              "      (14): MBConvBlock(\n",
              "        (_expand_conv): Conv2dStaticSamePadding(\n",
              "          136, 816, kernel_size=(1, 1), stride=(1, 1), bias=False\n",
              "          (static_padding): Identity()\n",
              "        )\n",
              "        (_bn0): BatchNorm2d(816, eps=0.001, momentum=0.010000000000000009, affine=True, track_running_stats=True)\n",
              "        (_depthwise_conv): Conv2dStaticSamePadding(\n",
              "          816, 816, kernel_size=(5, 5), stride=(1, 1), groups=816, bias=False\n",
              "          (static_padding): ZeroPad2d(padding=(2, 2, 2, 2), value=0.0)\n",
              "        )\n",
              "        (_bn1): BatchNorm2d(816, eps=0.001, momentum=0.010000000000000009, affine=True, track_running_stats=True)\n",
              "        (_se_reduce): Conv2dStaticSamePadding(\n",
              "          816, 34, kernel_size=(1, 1), stride=(1, 1)\n",
              "          (static_padding): Identity()\n",
              "        )\n",
              "        (_se_expand): Conv2dStaticSamePadding(\n",
              "          34, 816, kernel_size=(1, 1), stride=(1, 1)\n",
              "          (static_padding): Identity()\n",
              "        )\n",
              "        (_project_conv): Conv2dStaticSamePadding(\n",
              "          816, 136, kernel_size=(1, 1), stride=(1, 1), bias=False\n",
              "          (static_padding): Identity()\n",
              "        )\n",
              "        (_bn2): BatchNorm2d(136, eps=0.001, momentum=0.010000000000000009, affine=True, track_running_stats=True)\n",
              "        (_swish): MemoryEfficientSwish()\n",
              "      )\n",
              "      (15): MBConvBlock(\n",
              "        (_expand_conv): Conv2dStaticSamePadding(\n",
              "          136, 816, kernel_size=(1, 1), stride=(1, 1), bias=False\n",
              "          (static_padding): Identity()\n",
              "        )\n",
              "        (_bn0): BatchNorm2d(816, eps=0.001, momentum=0.010000000000000009, affine=True, track_running_stats=True)\n",
              "        (_depthwise_conv): Conv2dStaticSamePadding(\n",
              "          816, 816, kernel_size=(5, 5), stride=(1, 1), groups=816, bias=False\n",
              "          (static_padding): ZeroPad2d(padding=(2, 2, 2, 2), value=0.0)\n",
              "        )\n",
              "        (_bn1): BatchNorm2d(816, eps=0.001, momentum=0.010000000000000009, affine=True, track_running_stats=True)\n",
              "        (_se_reduce): Conv2dStaticSamePadding(\n",
              "          816, 34, kernel_size=(1, 1), stride=(1, 1)\n",
              "          (static_padding): Identity()\n",
              "        )\n",
              "        (_se_expand): Conv2dStaticSamePadding(\n",
              "          34, 816, kernel_size=(1, 1), stride=(1, 1)\n",
              "          (static_padding): Identity()\n",
              "        )\n",
              "        (_project_conv): Conv2dStaticSamePadding(\n",
              "          816, 136, kernel_size=(1, 1), stride=(1, 1), bias=False\n",
              "          (static_padding): Identity()\n",
              "        )\n",
              "        (_bn2): BatchNorm2d(136, eps=0.001, momentum=0.010000000000000009, affine=True, track_running_stats=True)\n",
              "        (_swish): MemoryEfficientSwish()\n",
              "      )\n",
              "      (16): MBConvBlock(\n",
              "        (_expand_conv): Conv2dStaticSamePadding(\n",
              "          136, 816, kernel_size=(1, 1), stride=(1, 1), bias=False\n",
              "          (static_padding): Identity()\n",
              "        )\n",
              "        (_bn0): BatchNorm2d(816, eps=0.001, momentum=0.010000000000000009, affine=True, track_running_stats=True)\n",
              "        (_depthwise_conv): Conv2dStaticSamePadding(\n",
              "          816, 816, kernel_size=(5, 5), stride=(1, 1), groups=816, bias=False\n",
              "          (static_padding): ZeroPad2d(padding=(2, 2, 2, 2), value=0.0)\n",
              "        )\n",
              "        (_bn1): BatchNorm2d(816, eps=0.001, momentum=0.010000000000000009, affine=True, track_running_stats=True)\n",
              "        (_se_reduce): Conv2dStaticSamePadding(\n",
              "          816, 34, kernel_size=(1, 1), stride=(1, 1)\n",
              "          (static_padding): Identity()\n",
              "        )\n",
              "        (_se_expand): Conv2dStaticSamePadding(\n",
              "          34, 816, kernel_size=(1, 1), stride=(1, 1)\n",
              "          (static_padding): Identity()\n",
              "        )\n",
              "        (_project_conv): Conv2dStaticSamePadding(\n",
              "          816, 136, kernel_size=(1, 1), stride=(1, 1), bias=False\n",
              "          (static_padding): Identity()\n",
              "        )\n",
              "        (_bn2): BatchNorm2d(136, eps=0.001, momentum=0.010000000000000009, affine=True, track_running_stats=True)\n",
              "        (_swish): MemoryEfficientSwish()\n",
              "      )\n",
              "      (17): MBConvBlock(\n",
              "        (_expand_conv): Conv2dStaticSamePadding(\n",
              "          136, 816, kernel_size=(1, 1), stride=(1, 1), bias=False\n",
              "          (static_padding): Identity()\n",
              "        )\n",
              "        (_bn0): BatchNorm2d(816, eps=0.001, momentum=0.010000000000000009, affine=True, track_running_stats=True)\n",
              "        (_depthwise_conv): Conv2dStaticSamePadding(\n",
              "          816, 816, kernel_size=(5, 5), stride=(1, 1), groups=816, bias=False\n",
              "          (static_padding): ZeroPad2d(padding=(2, 2, 2, 2), value=0.0)\n",
              "        )\n",
              "        (_bn1): BatchNorm2d(816, eps=0.001, momentum=0.010000000000000009, affine=True, track_running_stats=True)\n",
              "        (_se_reduce): Conv2dStaticSamePadding(\n",
              "          816, 34, kernel_size=(1, 1), stride=(1, 1)\n",
              "          (static_padding): Identity()\n",
              "        )\n",
              "        (_se_expand): Conv2dStaticSamePadding(\n",
              "          34, 816, kernel_size=(1, 1), stride=(1, 1)\n",
              "          (static_padding): Identity()\n",
              "        )\n",
              "        (_project_conv): Conv2dStaticSamePadding(\n",
              "          816, 136, kernel_size=(1, 1), stride=(1, 1), bias=False\n",
              "          (static_padding): Identity()\n",
              "        )\n",
              "        (_bn2): BatchNorm2d(136, eps=0.001, momentum=0.010000000000000009, affine=True, track_running_stats=True)\n",
              "        (_swish): MemoryEfficientSwish()\n",
              "      )\n",
              "      (18): MBConvBlock(\n",
              "        (_expand_conv): Conv2dStaticSamePadding(\n",
              "          136, 816, kernel_size=(1, 1), stride=(1, 1), bias=False\n",
              "          (static_padding): Identity()\n",
              "        )\n",
              "        (_bn0): BatchNorm2d(816, eps=0.001, momentum=0.010000000000000009, affine=True, track_running_stats=True)\n",
              "        (_depthwise_conv): Conv2dStaticSamePadding(\n",
              "          816, 816, kernel_size=(5, 5), stride=[2, 2], groups=816, bias=False\n",
              "          (static_padding): ZeroPad2d(padding=(2, 2, 2, 2), value=0.0)\n",
              "        )\n",
              "        (_bn1): BatchNorm2d(816, eps=0.001, momentum=0.010000000000000009, affine=True, track_running_stats=True)\n",
              "        (_se_reduce): Conv2dStaticSamePadding(\n",
              "          816, 34, kernel_size=(1, 1), stride=(1, 1)\n",
              "          (static_padding): Identity()\n",
              "        )\n",
              "        (_se_expand): Conv2dStaticSamePadding(\n",
              "          34, 816, kernel_size=(1, 1), stride=(1, 1)\n",
              "          (static_padding): Identity()\n",
              "        )\n",
              "        (_project_conv): Conv2dStaticSamePadding(\n",
              "          816, 232, kernel_size=(1, 1), stride=(1, 1), bias=False\n",
              "          (static_padding): Identity()\n",
              "        )\n",
              "        (_bn2): BatchNorm2d(232, eps=0.001, momentum=0.010000000000000009, affine=True, track_running_stats=True)\n",
              "        (_swish): MemoryEfficientSwish()\n",
              "      )\n",
              "      (19): MBConvBlock(\n",
              "        (_expand_conv): Conv2dStaticSamePadding(\n",
              "          232, 1392, kernel_size=(1, 1), stride=(1, 1), bias=False\n",
              "          (static_padding): Identity()\n",
              "        )\n",
              "        (_bn0): BatchNorm2d(1392, eps=0.001, momentum=0.010000000000000009, affine=True, track_running_stats=True)\n",
              "        (_depthwise_conv): Conv2dStaticSamePadding(\n",
              "          1392, 1392, kernel_size=(5, 5), stride=(1, 1), groups=1392, bias=False\n",
              "          (static_padding): ZeroPad2d(padding=(2, 2, 2, 2), value=0.0)\n",
              "        )\n",
              "        (_bn1): BatchNorm2d(1392, eps=0.001, momentum=0.010000000000000009, affine=True, track_running_stats=True)\n",
              "        (_se_reduce): Conv2dStaticSamePadding(\n",
              "          1392, 58, kernel_size=(1, 1), stride=(1, 1)\n",
              "          (static_padding): Identity()\n",
              "        )\n",
              "        (_se_expand): Conv2dStaticSamePadding(\n",
              "          58, 1392, kernel_size=(1, 1), stride=(1, 1)\n",
              "          (static_padding): Identity()\n",
              "        )\n",
              "        (_project_conv): Conv2dStaticSamePadding(\n",
              "          1392, 232, kernel_size=(1, 1), stride=(1, 1), bias=False\n",
              "          (static_padding): Identity()\n",
              "        )\n",
              "        (_bn2): BatchNorm2d(232, eps=0.001, momentum=0.010000000000000009, affine=True, track_running_stats=True)\n",
              "        (_swish): MemoryEfficientSwish()\n",
              "      )\n",
              "      (20): MBConvBlock(\n",
              "        (_expand_conv): Conv2dStaticSamePadding(\n",
              "          232, 1392, kernel_size=(1, 1), stride=(1, 1), bias=False\n",
              "          (static_padding): Identity()\n",
              "        )\n",
              "        (_bn0): BatchNorm2d(1392, eps=0.001, momentum=0.010000000000000009, affine=True, track_running_stats=True)\n",
              "        (_depthwise_conv): Conv2dStaticSamePadding(\n",
              "          1392, 1392, kernel_size=(5, 5), stride=(1, 1), groups=1392, bias=False\n",
              "          (static_padding): ZeroPad2d(padding=(2, 2, 2, 2), value=0.0)\n",
              "        )\n",
              "        (_bn1): BatchNorm2d(1392, eps=0.001, momentum=0.010000000000000009, affine=True, track_running_stats=True)\n",
              "        (_se_reduce): Conv2dStaticSamePadding(\n",
              "          1392, 58, kernel_size=(1, 1), stride=(1, 1)\n",
              "          (static_padding): Identity()\n",
              "        )\n",
              "        (_se_expand): Conv2dStaticSamePadding(\n",
              "          58, 1392, kernel_size=(1, 1), stride=(1, 1)\n",
              "          (static_padding): Identity()\n",
              "        )\n",
              "        (_project_conv): Conv2dStaticSamePadding(\n",
              "          1392, 232, kernel_size=(1, 1), stride=(1, 1), bias=False\n",
              "          (static_padding): Identity()\n",
              "        )\n",
              "        (_bn2): BatchNorm2d(232, eps=0.001, momentum=0.010000000000000009, affine=True, track_running_stats=True)\n",
              "        (_swish): MemoryEfficientSwish()\n",
              "      )\n",
              "      (21): MBConvBlock(\n",
              "        (_expand_conv): Conv2dStaticSamePadding(\n",
              "          232, 1392, kernel_size=(1, 1), stride=(1, 1), bias=False\n",
              "          (static_padding): Identity()\n",
              "        )\n",
              "        (_bn0): BatchNorm2d(1392, eps=0.001, momentum=0.010000000000000009, affine=True, track_running_stats=True)\n",
              "        (_depthwise_conv): Conv2dStaticSamePadding(\n",
              "          1392, 1392, kernel_size=(5, 5), stride=(1, 1), groups=1392, bias=False\n",
              "          (static_padding): ZeroPad2d(padding=(2, 2, 2, 2), value=0.0)\n",
              "        )\n",
              "        (_bn1): BatchNorm2d(1392, eps=0.001, momentum=0.010000000000000009, affine=True, track_running_stats=True)\n",
              "        (_se_reduce): Conv2dStaticSamePadding(\n",
              "          1392, 58, kernel_size=(1, 1), stride=(1, 1)\n",
              "          (static_padding): Identity()\n",
              "        )\n",
              "        (_se_expand): Conv2dStaticSamePadding(\n",
              "          58, 1392, kernel_size=(1, 1), stride=(1, 1)\n",
              "          (static_padding): Identity()\n",
              "        )\n",
              "        (_project_conv): Conv2dStaticSamePadding(\n",
              "          1392, 232, kernel_size=(1, 1), stride=(1, 1), bias=False\n",
              "          (static_padding): Identity()\n",
              "        )\n",
              "        (_bn2): BatchNorm2d(232, eps=0.001, momentum=0.010000000000000009, affine=True, track_running_stats=True)\n",
              "        (_swish): MemoryEfficientSwish()\n",
              "      )\n",
              "      (22): MBConvBlock(\n",
              "        (_expand_conv): Conv2dStaticSamePadding(\n",
              "          232, 1392, kernel_size=(1, 1), stride=(1, 1), bias=False\n",
              "          (static_padding): Identity()\n",
              "        )\n",
              "        (_bn0): BatchNorm2d(1392, eps=0.001, momentum=0.010000000000000009, affine=True, track_running_stats=True)\n",
              "        (_depthwise_conv): Conv2dStaticSamePadding(\n",
              "          1392, 1392, kernel_size=(5, 5), stride=(1, 1), groups=1392, bias=False\n",
              "          (static_padding): ZeroPad2d(padding=(2, 2, 2, 2), value=0.0)\n",
              "        )\n",
              "        (_bn1): BatchNorm2d(1392, eps=0.001, momentum=0.010000000000000009, affine=True, track_running_stats=True)\n",
              "        (_se_reduce): Conv2dStaticSamePadding(\n",
              "          1392, 58, kernel_size=(1, 1), stride=(1, 1)\n",
              "          (static_padding): Identity()\n",
              "        )\n",
              "        (_se_expand): Conv2dStaticSamePadding(\n",
              "          58, 1392, kernel_size=(1, 1), stride=(1, 1)\n",
              "          (static_padding): Identity()\n",
              "        )\n",
              "        (_project_conv): Conv2dStaticSamePadding(\n",
              "          1392, 232, kernel_size=(1, 1), stride=(1, 1), bias=False\n",
              "          (static_padding): Identity()\n",
              "        )\n",
              "        (_bn2): BatchNorm2d(232, eps=0.001, momentum=0.010000000000000009, affine=True, track_running_stats=True)\n",
              "        (_swish): MemoryEfficientSwish()\n",
              "      )\n",
              "      (23): MBConvBlock(\n",
              "        (_expand_conv): Conv2dStaticSamePadding(\n",
              "          232, 1392, kernel_size=(1, 1), stride=(1, 1), bias=False\n",
              "          (static_padding): Identity()\n",
              "        )\n",
              "        (_bn0): BatchNorm2d(1392, eps=0.001, momentum=0.010000000000000009, affine=True, track_running_stats=True)\n",
              "        (_depthwise_conv): Conv2dStaticSamePadding(\n",
              "          1392, 1392, kernel_size=(5, 5), stride=(1, 1), groups=1392, bias=False\n",
              "          (static_padding): ZeroPad2d(padding=(2, 2, 2, 2), value=0.0)\n",
              "        )\n",
              "        (_bn1): BatchNorm2d(1392, eps=0.001, momentum=0.010000000000000009, affine=True, track_running_stats=True)\n",
              "        (_se_reduce): Conv2dStaticSamePadding(\n",
              "          1392, 58, kernel_size=(1, 1), stride=(1, 1)\n",
              "          (static_padding): Identity()\n",
              "        )\n",
              "        (_se_expand): Conv2dStaticSamePadding(\n",
              "          58, 1392, kernel_size=(1, 1), stride=(1, 1)\n",
              "          (static_padding): Identity()\n",
              "        )\n",
              "        (_project_conv): Conv2dStaticSamePadding(\n",
              "          1392, 232, kernel_size=(1, 1), stride=(1, 1), bias=False\n",
              "          (static_padding): Identity()\n",
              "        )\n",
              "        (_bn2): BatchNorm2d(232, eps=0.001, momentum=0.010000000000000009, affine=True, track_running_stats=True)\n",
              "        (_swish): MemoryEfficientSwish()\n",
              "      )\n",
              "      (24): MBConvBlock(\n",
              "        (_expand_conv): Conv2dStaticSamePadding(\n",
              "          232, 1392, kernel_size=(1, 1), stride=(1, 1), bias=False\n",
              "          (static_padding): Identity()\n",
              "        )\n",
              "        (_bn0): BatchNorm2d(1392, eps=0.001, momentum=0.010000000000000009, affine=True, track_running_stats=True)\n",
              "        (_depthwise_conv): Conv2dStaticSamePadding(\n",
              "          1392, 1392, kernel_size=(3, 3), stride=[1, 1], groups=1392, bias=False\n",
              "          (static_padding): ZeroPad2d(padding=(1, 1, 1, 1), value=0.0)\n",
              "        )\n",
              "        (_bn1): BatchNorm2d(1392, eps=0.001, momentum=0.010000000000000009, affine=True, track_running_stats=True)\n",
              "        (_se_reduce): Conv2dStaticSamePadding(\n",
              "          1392, 58, kernel_size=(1, 1), stride=(1, 1)\n",
              "          (static_padding): Identity()\n",
              "        )\n",
              "        (_se_expand): Conv2dStaticSamePadding(\n",
              "          58, 1392, kernel_size=(1, 1), stride=(1, 1)\n",
              "          (static_padding): Identity()\n",
              "        )\n",
              "        (_project_conv): Conv2dStaticSamePadding(\n",
              "          1392, 384, kernel_size=(1, 1), stride=(1, 1), bias=False\n",
              "          (static_padding): Identity()\n",
              "        )\n",
              "        (_bn2): BatchNorm2d(384, eps=0.001, momentum=0.010000000000000009, affine=True, track_running_stats=True)\n",
              "        (_swish): MemoryEfficientSwish()\n",
              "      )\n",
              "      (25): MBConvBlock(\n",
              "        (_expand_conv): Conv2dStaticSamePadding(\n",
              "          384, 2304, kernel_size=(1, 1), stride=(1, 1), bias=False\n",
              "          (static_padding): Identity()\n",
              "        )\n",
              "        (_bn0): BatchNorm2d(2304, eps=0.001, momentum=0.010000000000000009, affine=True, track_running_stats=True)\n",
              "        (_depthwise_conv): Conv2dStaticSamePadding(\n",
              "          2304, 2304, kernel_size=(3, 3), stride=(1, 1), groups=2304, bias=False\n",
              "          (static_padding): ZeroPad2d(padding=(1, 1, 1, 1), value=0.0)\n",
              "        )\n",
              "        (_bn1): BatchNorm2d(2304, eps=0.001, momentum=0.010000000000000009, affine=True, track_running_stats=True)\n",
              "        (_se_reduce): Conv2dStaticSamePadding(\n",
              "          2304, 96, kernel_size=(1, 1), stride=(1, 1)\n",
              "          (static_padding): Identity()\n",
              "        )\n",
              "        (_se_expand): Conv2dStaticSamePadding(\n",
              "          96, 2304, kernel_size=(1, 1), stride=(1, 1)\n",
              "          (static_padding): Identity()\n",
              "        )\n",
              "        (_project_conv): Conv2dStaticSamePadding(\n",
              "          2304, 384, kernel_size=(1, 1), stride=(1, 1), bias=False\n",
              "          (static_padding): Identity()\n",
              "        )\n",
              "        (_bn2): BatchNorm2d(384, eps=0.001, momentum=0.010000000000000009, affine=True, track_running_stats=True)\n",
              "        (_swish): MemoryEfficientSwish()\n",
              "      )\n",
              "    )\n",
              "    (_conv_head): Conv2dStaticSamePadding(\n",
              "      384, 1536, kernel_size=(1, 1), stride=(1, 1), bias=False\n",
              "      (static_padding): Identity()\n",
              "    )\n",
              "    (_bn1): BatchNorm2d(1536, eps=0.001, momentum=0.010000000000000009, affine=True, track_running_stats=True)\n",
              "    (_avg_pooling): AdaptiveAvgPool2d(output_size=1)\n",
              "    (_dropout): Dropout(p=0.3, inplace=False)\n",
              "    (_fc): Linear(in_features=1536, out_features=203, bias=True)\n",
              "    (_swish): MemoryEfficientSwish()\n",
              "  )\n",
              "  (output): Softplus(beta=1, threshold=20)\n",
              ")"
            ]
          },
          "metadata": {},
          "execution_count": 187
        }
      ],
      "source": [
        "model = to_device(TinyImagenetEfficientNet(), device)\n",
        "model.load_state_dict(torch.load(PATH_HENN))\n",
        "model.eval()"
      ]
    },
    {
      "cell_type": "code",
      "execution_count": null,
      "metadata": {
        "id": "7Avoh9smMFpr"
      },
      "outputs": [],
      "source": [
        "def vague_belief_mass(b):\n",
        "    b_v = torch.zeros(len(b), K).to(device)\n",
        "    sum_beliefs = torch.zeros(len(b), K).to(device)\n",
        "\n",
        "    for k in range(K):\n",
        "        for l in range(len(C)):\n",
        "            relative_base_rate = torch.zeros(1).to(device)\n",
        "            intersection_set = set(R[k]).intersection(set(C[l]))\n",
        "            if len(intersection_set) > 0:\n",
        "                relative_base_rate = a_copy[R.index(list(intersection_set))] / a_copy[K + l]\n",
        "            sum_beliefs[:, k] = sum_beliefs[:, k] + relative_base_rate * b[:, K + l]\n",
        "        b_v[:, k] = sum_beliefs[:,k]\n",
        "    \n",
        "    return b_v"
      ]
    },
    {
      "cell_type": "code",
      "execution_count": null,
      "metadata": {
        "id": "vw95pFOzMH8z"
      },
      "outputs": [],
      "source": [
        "def calculate_metrics(r, labels):\n",
        "    correct_vague = 0.0\n",
        "    correct_nonvague = 0.0\n",
        "    vague_total = 0\n",
        "    nonvague_total = 0\n",
        "    \n",
        "    alpha = torch.add(r[:,:K], torch.mul(W, a))\n",
        "\n",
        "    # Get the predicted labels\n",
        "    p_exp = meanGDD(alpha, r)\n",
        "    predicted_labels = torch.argmax(p_exp, dim=1)\n",
        "\n",
        "    # Calculate vaguenesses\n",
        "    b = r / (torch.sum(r, dim=1) + W)[:, None]\n",
        "    total_vaguenesses = torch.sum(b[:, K:], dim=1)\n",
        "    b_v = vague_belief_mass(b)\n",
        "\n",
        "    for i in range(len(labels)):\n",
        "        k = labels[i].item()\n",
        "        predicted_set = set(R[torch.argmax(r[i])])\n",
        "\n",
        "        if len(predicted_set) == 1:\n",
        "            predicted_set = set(R[predicted_labels[i].item()])\n",
        "\n",
        "        ground_truth_set = set(R[k])\n",
        "\n",
        "        if len(predicted_set) == 1:\n",
        "            correct_nonvague += float(len(predicted_set.intersection(ground_truth_set))) / len(predicted_set.union(ground_truth_set))\n",
        "            nonvague_total += 1\n",
        "        else:\n",
        "            correct_vague += float(len(predicted_set.intersection(ground_truth_set))) / len(predicted_set.union(ground_truth_set))\n",
        "            vague_total += 1\n",
        "      \n",
        "    return [correct_nonvague, correct_vague, nonvague_total, vague_total]"
      ]
    },
    {
      "cell_type": "code",
      "execution_count": null,
      "metadata": {
        "id": "08FNOp9EKix6"
      },
      "outputs": [],
      "source": [
        "@torch.no_grad()\n",
        "def evaluate_vague_nonvague(model, val_loader):\n",
        "    model.eval()\n",
        "    correct_vague = 0.0\n",
        "    correct_nonvague = 0.0\n",
        "    vague_total = 0\n",
        "    nonvague_total = 0\n",
        "    for batch in val_loader:\n",
        "        images, labels = batch\n",
        "        one_hot_labels = torch.nn.functional.one_hot(labels, num_classes=kappa)\n",
        "        r = model(images)                  \n",
        "        results = calculate_metrics(r, labels)\n",
        "        correct_nonvague += results[0]\n",
        "        correct_vague += results[1]\n",
        "        nonvague_total += results[2]\n",
        "        vague_total += results[3]\n",
        "    return [correct_vague, correct_nonvague, vague_total, nonvague_total]"
      ]
    },
    {
      "cell_type": "code",
      "execution_count": null,
      "metadata": {
        "id": "HY6zFZgoKksJ"
      },
      "outputs": [],
      "source": [
        "results = evaluate_vague_nonvague(model, test_dl)"
      ]
    },
    {
      "cell_type": "code",
      "execution_count": null,
      "metadata": {
        "id": "iRnp6pjTKmZp",
        "colab": {
          "base_uri": "https://localhost:8080/"
        },
        "outputId": "49bf092d-2be4-4c33-a9cf-ef30d1fe9791"
      },
      "outputs": [
        {
          "output_type": "stream",
          "name": "stdout",
          "text": [
            "Average Jaccard Similarity Vague Classes: 0.16243654822335024, Average Jaccard Similarity Nonvague Classes: 0.14668978884015096\n"
          ]
        }
      ],
      "source": [
        "print(\"Average Jaccard Similarity Vague Classes: {}, Average Jaccard Similarity Nonvague Classes: {}\".format(results[0] / results[2], results[1] / results[3]))"
      ]
    },
    {
      "cell_type": "code",
      "execution_count": null,
      "metadata": {
        "id": "Oukrs1khKoMe",
        "colab": {
          "base_uri": "https://localhost:8080/"
        },
        "outputId": "97f0bc6f-4870-4cfe-989e-2221a85e8912"
      },
      "outputs": [
        {
          "output_type": "stream",
          "name": "stdout",
          "text": [
            "Overall Accuracy: 0.147\n"
          ]
        }
      ],
      "source": [
        "print(\"Overall Accuracy: {}\". format((results[0] + results[1])/(results[2] + results[3])))"
      ]
    },
    {
      "cell_type": "code",
      "execution_count": null,
      "metadata": {
        "id": "8ULJVSA8f6vZ"
      },
      "outputs": [],
      "source": [
        "# def evaluate_set(model, data_loader):\n",
        "#   vaguenesses = []\n",
        "#   is_vague = []\n",
        "#   for batch in data_loader:\n",
        "#       images, labels = batch\n",
        "#       r = model(images)\n",
        "#       b = r / (torch.sum(r, dim=1) + W)[:, None]\n",
        "#       total_vaguenesses = torch.sum(b[:, K:], dim=1)\n",
        "#       is_vague += [y >= K for y in labels.detach().cpu().numpy().tolist()]\n",
        "#       vaguenesses += total_vaguenesses.detach().cpu().numpy().tolist()\n",
        "#   return is_vague, vaguenesses         "
      ]
    },
    {
      "cell_type": "code",
      "execution_count": null,
      "metadata": {
        "id": "yyChX4gJf9X7"
      },
      "outputs": [],
      "source": [
        "# def draw_roc(model, data_loader):\n",
        "#   is_vague, vaguenesses = evaluate_set(model, data_loader)\n",
        "#   fpr, tpr, thresholds = metrics.roc_curve(is_vague, vaguenesses)\n",
        "#   plt.plot(fpr, tpr)\n",
        "#   plt.ylabel('True Positive Rate')\n",
        "#   plt.xlabel('false Positive Rate')\n",
        "#   plt.show()"
      ]
    },
    {
      "cell_type": "code",
      "execution_count": null,
      "metadata": {
        "id": "LFR8jJq4gAyL",
        "colab": {
          "base_uri": "https://localhost:8080/",
          "height": 346
        },
        "outputId": "accb8ac2-9f67-4a2a-c37d-9345bcd3e1e0"
      },
      "outputs": [
        {
          "output_type": "error",
          "ename": "RuntimeError",
          "evalue": "ignored",
          "traceback": [
            "\u001b[0;31m---------------------------------------------------------------------------\u001b[0m",
            "\u001b[0;31mRuntimeError\u001b[0m                              Traceback (most recent call last)",
            "\u001b[0;32m<ipython-input-199-eb1f5675db72>\u001b[0m in \u001b[0;36m<module>\u001b[0;34m()\u001b[0m\n\u001b[0;32m----> 1\u001b[0;31m \u001b[0mdraw_roc\u001b[0m\u001b[0;34m(\u001b[0m\u001b[0mmodel\u001b[0m\u001b[0;34m,\u001b[0m \u001b[0mtest_dl\u001b[0m\u001b[0;34m)\u001b[0m\u001b[0;34m\u001b[0m\u001b[0;34m\u001b[0m\u001b[0m\n\u001b[0m",
            "\u001b[0;32m<ipython-input-197-9e8e06cd34f2>\u001b[0m in \u001b[0;36mdraw_roc\u001b[0;34m(model, data_loader)\u001b[0m\n\u001b[1;32m      1\u001b[0m \u001b[0;32mdef\u001b[0m \u001b[0mdraw_roc\u001b[0m\u001b[0;34m(\u001b[0m\u001b[0mmodel\u001b[0m\u001b[0;34m,\u001b[0m \u001b[0mdata_loader\u001b[0m\u001b[0;34m)\u001b[0m\u001b[0;34m:\u001b[0m\u001b[0;34m\u001b[0m\u001b[0;34m\u001b[0m\u001b[0m\n\u001b[0;32m----> 2\u001b[0;31m   \u001b[0mis_vague\u001b[0m\u001b[0;34m,\u001b[0m \u001b[0mvaguenesses\u001b[0m \u001b[0;34m=\u001b[0m \u001b[0mevaluate_set\u001b[0m\u001b[0;34m(\u001b[0m\u001b[0mmodel\u001b[0m\u001b[0;34m,\u001b[0m \u001b[0mdata_loader\u001b[0m\u001b[0;34m)\u001b[0m\u001b[0;34m\u001b[0m\u001b[0;34m\u001b[0m\u001b[0m\n\u001b[0m\u001b[1;32m      3\u001b[0m   \u001b[0mfpr\u001b[0m\u001b[0;34m,\u001b[0m \u001b[0mtpr\u001b[0m\u001b[0;34m,\u001b[0m \u001b[0mthresholds\u001b[0m \u001b[0;34m=\u001b[0m \u001b[0mmetrics\u001b[0m\u001b[0;34m.\u001b[0m\u001b[0mroc_curve\u001b[0m\u001b[0;34m(\u001b[0m\u001b[0mis_vague\u001b[0m\u001b[0;34m,\u001b[0m \u001b[0mvaguenesses\u001b[0m\u001b[0;34m)\u001b[0m\u001b[0;34m\u001b[0m\u001b[0;34m\u001b[0m\u001b[0m\n\u001b[1;32m      4\u001b[0m   \u001b[0mplt\u001b[0m\u001b[0;34m.\u001b[0m\u001b[0mplot\u001b[0m\u001b[0;34m(\u001b[0m\u001b[0mfpr\u001b[0m\u001b[0;34m,\u001b[0m \u001b[0mtpr\u001b[0m\u001b[0;34m)\u001b[0m\u001b[0;34m\u001b[0m\u001b[0;34m\u001b[0m\u001b[0m\n\u001b[1;32m      5\u001b[0m   \u001b[0mplt\u001b[0m\u001b[0;34m.\u001b[0m\u001b[0mylabel\u001b[0m\u001b[0;34m(\u001b[0m\u001b[0;34m'True Positive Rate'\u001b[0m\u001b[0;34m)\u001b[0m\u001b[0;34m\u001b[0m\u001b[0;34m\u001b[0m\u001b[0m\n",
            "\u001b[0;32m<ipython-input-196-9c82cff5706b>\u001b[0m in \u001b[0;36mevaluate_set\u001b[0;34m(model, data_loader)\u001b[0m\n\u001b[1;32m      4\u001b[0m   \u001b[0;32mfor\u001b[0m \u001b[0mbatch\u001b[0m \u001b[0;32min\u001b[0m \u001b[0mdata_loader\u001b[0m\u001b[0;34m:\u001b[0m\u001b[0;34m\u001b[0m\u001b[0;34m\u001b[0m\u001b[0m\n\u001b[1;32m      5\u001b[0m       \u001b[0mimages\u001b[0m\u001b[0;34m,\u001b[0m \u001b[0mlabels\u001b[0m \u001b[0;34m=\u001b[0m \u001b[0mbatch\u001b[0m\u001b[0;34m\u001b[0m\u001b[0;34m\u001b[0m\u001b[0m\n\u001b[0;32m----> 6\u001b[0;31m       \u001b[0mr\u001b[0m \u001b[0;34m=\u001b[0m \u001b[0mmodel\u001b[0m\u001b[0;34m(\u001b[0m\u001b[0mimages\u001b[0m\u001b[0;34m)\u001b[0m\u001b[0;34m\u001b[0m\u001b[0;34m\u001b[0m\u001b[0m\n\u001b[0m\u001b[1;32m      7\u001b[0m       \u001b[0mb\u001b[0m \u001b[0;34m=\u001b[0m \u001b[0mr\u001b[0m \u001b[0;34m/\u001b[0m \u001b[0;34m(\u001b[0m\u001b[0mtorch\u001b[0m\u001b[0;34m.\u001b[0m\u001b[0msum\u001b[0m\u001b[0;34m(\u001b[0m\u001b[0mr\u001b[0m\u001b[0;34m,\u001b[0m \u001b[0mdim\u001b[0m\u001b[0;34m=\u001b[0m\u001b[0;36m1\u001b[0m\u001b[0;34m)\u001b[0m \u001b[0;34m+\u001b[0m \u001b[0mW\u001b[0m\u001b[0;34m)\u001b[0m\u001b[0;34m[\u001b[0m\u001b[0;34m:\u001b[0m\u001b[0;34m,\u001b[0m \u001b[0;32mNone\u001b[0m\u001b[0;34m]\u001b[0m\u001b[0;34m\u001b[0m\u001b[0;34m\u001b[0m\u001b[0m\n\u001b[1;32m      8\u001b[0m       \u001b[0mtotal_vaguenesses\u001b[0m \u001b[0;34m=\u001b[0m \u001b[0mtorch\u001b[0m\u001b[0;34m.\u001b[0m\u001b[0msum\u001b[0m\u001b[0;34m(\u001b[0m\u001b[0mb\u001b[0m\u001b[0;34m[\u001b[0m\u001b[0;34m:\u001b[0m\u001b[0;34m,\u001b[0m \u001b[0mK\u001b[0m\u001b[0;34m:\u001b[0m\u001b[0;34m]\u001b[0m\u001b[0;34m,\u001b[0m \u001b[0mdim\u001b[0m\u001b[0;34m=\u001b[0m\u001b[0;36m1\u001b[0m\u001b[0;34m)\u001b[0m\u001b[0;34m\u001b[0m\u001b[0;34m\u001b[0m\u001b[0m\n",
            "\u001b[0;32m/usr/local/lib/python3.7/dist-packages/torch/nn/modules/module.py\u001b[0m in \u001b[0;36m_call_impl\u001b[0;34m(self, *input, **kwargs)\u001b[0m\n\u001b[1;32m   1100\u001b[0m         if not (self._backward_hooks or self._forward_hooks or self._forward_pre_hooks or _global_backward_hooks\n\u001b[1;32m   1101\u001b[0m                 or _global_forward_hooks or _global_forward_pre_hooks):\n\u001b[0;32m-> 1102\u001b[0;31m             \u001b[0;32mreturn\u001b[0m \u001b[0mforward_call\u001b[0m\u001b[0;34m(\u001b[0m\u001b[0;34m*\u001b[0m\u001b[0minput\u001b[0m\u001b[0;34m,\u001b[0m \u001b[0;34m**\u001b[0m\u001b[0mkwargs\u001b[0m\u001b[0;34m)\u001b[0m\u001b[0;34m\u001b[0m\u001b[0;34m\u001b[0m\u001b[0m\n\u001b[0m\u001b[1;32m   1103\u001b[0m         \u001b[0;31m# Do not call functions when jit is used\u001b[0m\u001b[0;34m\u001b[0m\u001b[0;34m\u001b[0m\u001b[0;34m\u001b[0m\u001b[0m\n\u001b[1;32m   1104\u001b[0m         \u001b[0mfull_backward_hooks\u001b[0m\u001b[0;34m,\u001b[0m \u001b[0mnon_full_backward_hooks\u001b[0m \u001b[0;34m=\u001b[0m \u001b[0;34m[\u001b[0m\u001b[0;34m]\u001b[0m\u001b[0;34m,\u001b[0m \u001b[0;34m[\u001b[0m\u001b[0;34m]\u001b[0m\u001b[0;34m\u001b[0m\u001b[0;34m\u001b[0m\u001b[0m\n",
            "\u001b[0;32m<ipython-input-159-e75493ae2bb4>\u001b[0m in \u001b[0;36mforward\u001b[0;34m(self, x)\u001b[0m\n\u001b[1;32m      8\u001b[0m \u001b[0;34m\u001b[0m\u001b[0m\n\u001b[1;32m      9\u001b[0m     \u001b[0;32mdef\u001b[0m \u001b[0mforward\u001b[0m\u001b[0;34m(\u001b[0m\u001b[0mself\u001b[0m\u001b[0;34m,\u001b[0m \u001b[0mx\u001b[0m\u001b[0;34m)\u001b[0m\u001b[0;34m:\u001b[0m\u001b[0;34m\u001b[0m\u001b[0;34m\u001b[0m\u001b[0m\n\u001b[0;32m---> 10\u001b[0;31m         \u001b[0mlogits\u001b[0m \u001b[0;34m=\u001b[0m \u001b[0mself\u001b[0m\u001b[0;34m.\u001b[0m\u001b[0mnetwork\u001b[0m\u001b[0;34m(\u001b[0m\u001b[0mx\u001b[0m\u001b[0;34m)\u001b[0m\u001b[0;34m\u001b[0m\u001b[0;34m\u001b[0m\u001b[0m\n\u001b[0m\u001b[1;32m     11\u001b[0m         \u001b[0mlogits\u001b[0m \u001b[0;34m=\u001b[0m \u001b[0mself\u001b[0m\u001b[0;34m.\u001b[0m\u001b[0moutput\u001b[0m\u001b[0;34m(\u001b[0m\u001b[0mlogits\u001b[0m\u001b[0;34m)\u001b[0m\u001b[0;34m\u001b[0m\u001b[0;34m\u001b[0m\u001b[0m\n\u001b[1;32m     12\u001b[0m         \u001b[0;32mreturn\u001b[0m \u001b[0mlogits\u001b[0m\u001b[0;34m\u001b[0m\u001b[0;34m\u001b[0m\u001b[0m\n",
            "\u001b[0;32m/usr/local/lib/python3.7/dist-packages/torch/nn/modules/module.py\u001b[0m in \u001b[0;36m_call_impl\u001b[0;34m(self, *input, **kwargs)\u001b[0m\n\u001b[1;32m   1100\u001b[0m         if not (self._backward_hooks or self._forward_hooks or self._forward_pre_hooks or _global_backward_hooks\n\u001b[1;32m   1101\u001b[0m                 or _global_forward_hooks or _global_forward_pre_hooks):\n\u001b[0;32m-> 1102\u001b[0;31m             \u001b[0;32mreturn\u001b[0m \u001b[0mforward_call\u001b[0m\u001b[0;34m(\u001b[0m\u001b[0;34m*\u001b[0m\u001b[0minput\u001b[0m\u001b[0;34m,\u001b[0m \u001b[0;34m**\u001b[0m\u001b[0mkwargs\u001b[0m\u001b[0;34m)\u001b[0m\u001b[0;34m\u001b[0m\u001b[0;34m\u001b[0m\u001b[0m\n\u001b[0m\u001b[1;32m   1103\u001b[0m         \u001b[0;31m# Do not call functions when jit is used\u001b[0m\u001b[0;34m\u001b[0m\u001b[0;34m\u001b[0m\u001b[0;34m\u001b[0m\u001b[0m\n\u001b[1;32m   1104\u001b[0m         \u001b[0mfull_backward_hooks\u001b[0m\u001b[0;34m,\u001b[0m \u001b[0mnon_full_backward_hooks\u001b[0m \u001b[0;34m=\u001b[0m \u001b[0;34m[\u001b[0m\u001b[0;34m]\u001b[0m\u001b[0;34m,\u001b[0m \u001b[0;34m[\u001b[0m\u001b[0;34m]\u001b[0m\u001b[0;34m\u001b[0m\u001b[0;34m\u001b[0m\u001b[0m\n",
            "\u001b[0;32m/usr/local/lib/python3.7/dist-packages/efficientnet_pytorch/model.py\u001b[0m in \u001b[0;36mforward\u001b[0;34m(self, inputs)\u001b[0m\n\u001b[1;32m    312\u001b[0m         \"\"\"\n\u001b[1;32m    313\u001b[0m         \u001b[0;31m# Convolution layers\u001b[0m\u001b[0;34m\u001b[0m\u001b[0;34m\u001b[0m\u001b[0;34m\u001b[0m\u001b[0m\n\u001b[0;32m--> 314\u001b[0;31m         \u001b[0mx\u001b[0m \u001b[0;34m=\u001b[0m \u001b[0mself\u001b[0m\u001b[0;34m.\u001b[0m\u001b[0mextract_features\u001b[0m\u001b[0;34m(\u001b[0m\u001b[0minputs\u001b[0m\u001b[0;34m)\u001b[0m\u001b[0;34m\u001b[0m\u001b[0;34m\u001b[0m\u001b[0m\n\u001b[0m\u001b[1;32m    315\u001b[0m         \u001b[0;31m# Pooling and final linear layer\u001b[0m\u001b[0;34m\u001b[0m\u001b[0;34m\u001b[0m\u001b[0;34m\u001b[0m\u001b[0m\n\u001b[1;32m    316\u001b[0m         \u001b[0mx\u001b[0m \u001b[0;34m=\u001b[0m \u001b[0mself\u001b[0m\u001b[0;34m.\u001b[0m\u001b[0m_avg_pooling\u001b[0m\u001b[0;34m(\u001b[0m\u001b[0mx\u001b[0m\u001b[0;34m)\u001b[0m\u001b[0;34m\u001b[0m\u001b[0;34m\u001b[0m\u001b[0m\n",
            "\u001b[0;32m/usr/local/lib/python3.7/dist-packages/efficientnet_pytorch/model.py\u001b[0m in \u001b[0;36mextract_features\u001b[0;34m(self, inputs)\u001b[0m\n\u001b[1;32m    294\u001b[0m             \u001b[0;32mif\u001b[0m \u001b[0mdrop_connect_rate\u001b[0m\u001b[0;34m:\u001b[0m\u001b[0;34m\u001b[0m\u001b[0;34m\u001b[0m\u001b[0m\n\u001b[1;32m    295\u001b[0m                 \u001b[0mdrop_connect_rate\u001b[0m \u001b[0;34m*=\u001b[0m \u001b[0mfloat\u001b[0m\u001b[0;34m(\u001b[0m\u001b[0midx\u001b[0m\u001b[0;34m)\u001b[0m \u001b[0;34m/\u001b[0m \u001b[0mlen\u001b[0m\u001b[0;34m(\u001b[0m\u001b[0mself\u001b[0m\u001b[0;34m.\u001b[0m\u001b[0m_blocks\u001b[0m\u001b[0;34m)\u001b[0m  \u001b[0;31m# scale drop connect_rate\u001b[0m\u001b[0;34m\u001b[0m\u001b[0;34m\u001b[0m\u001b[0m\n\u001b[0;32m--> 296\u001b[0;31m             \u001b[0mx\u001b[0m \u001b[0;34m=\u001b[0m \u001b[0mblock\u001b[0m\u001b[0;34m(\u001b[0m\u001b[0mx\u001b[0m\u001b[0;34m,\u001b[0m \u001b[0mdrop_connect_rate\u001b[0m\u001b[0;34m=\u001b[0m\u001b[0mdrop_connect_rate\u001b[0m\u001b[0;34m)\u001b[0m\u001b[0;34m\u001b[0m\u001b[0;34m\u001b[0m\u001b[0m\n\u001b[0m\u001b[1;32m    297\u001b[0m \u001b[0;34m\u001b[0m\u001b[0m\n\u001b[1;32m    298\u001b[0m         \u001b[0;31m# Head\u001b[0m\u001b[0;34m\u001b[0m\u001b[0;34m\u001b[0m\u001b[0;34m\u001b[0m\u001b[0m\n",
            "\u001b[0;32m/usr/local/lib/python3.7/dist-packages/torch/nn/modules/module.py\u001b[0m in \u001b[0;36m_call_impl\u001b[0;34m(self, *input, **kwargs)\u001b[0m\n\u001b[1;32m   1100\u001b[0m         if not (self._backward_hooks or self._forward_hooks or self._forward_pre_hooks or _global_backward_hooks\n\u001b[1;32m   1101\u001b[0m                 or _global_forward_hooks or _global_forward_pre_hooks):\n\u001b[0;32m-> 1102\u001b[0;31m             \u001b[0;32mreturn\u001b[0m \u001b[0mforward_call\u001b[0m\u001b[0;34m(\u001b[0m\u001b[0;34m*\u001b[0m\u001b[0minput\u001b[0m\u001b[0;34m,\u001b[0m \u001b[0;34m**\u001b[0m\u001b[0mkwargs\u001b[0m\u001b[0;34m)\u001b[0m\u001b[0;34m\u001b[0m\u001b[0;34m\u001b[0m\u001b[0m\n\u001b[0m\u001b[1;32m   1103\u001b[0m         \u001b[0;31m# Do not call functions when jit is used\u001b[0m\u001b[0;34m\u001b[0m\u001b[0;34m\u001b[0m\u001b[0;34m\u001b[0m\u001b[0m\n\u001b[1;32m   1104\u001b[0m         \u001b[0mfull_backward_hooks\u001b[0m\u001b[0;34m,\u001b[0m \u001b[0mnon_full_backward_hooks\u001b[0m \u001b[0;34m=\u001b[0m \u001b[0;34m[\u001b[0m\u001b[0;34m]\u001b[0m\u001b[0;34m,\u001b[0m \u001b[0;34m[\u001b[0m\u001b[0;34m]\u001b[0m\u001b[0;34m\u001b[0m\u001b[0;34m\u001b[0m\u001b[0m\n",
            "\u001b[0;32m/usr/local/lib/python3.7/dist-packages/efficientnet_pytorch/model.py\u001b[0m in \u001b[0;36mforward\u001b[0;34m(self, inputs, drop_connect_rate)\u001b[0m\n\u001b[1;32m    107\u001b[0m             \u001b[0mx\u001b[0m \u001b[0;34m=\u001b[0m \u001b[0mself\u001b[0m\u001b[0;34m.\u001b[0m\u001b[0m_swish\u001b[0m\u001b[0;34m(\u001b[0m\u001b[0mx\u001b[0m\u001b[0;34m)\u001b[0m\u001b[0;34m\u001b[0m\u001b[0;34m\u001b[0m\u001b[0m\n\u001b[1;32m    108\u001b[0m \u001b[0;34m\u001b[0m\u001b[0m\n\u001b[0;32m--> 109\u001b[0;31m         \u001b[0mx\u001b[0m \u001b[0;34m=\u001b[0m \u001b[0mself\u001b[0m\u001b[0;34m.\u001b[0m\u001b[0m_depthwise_conv\u001b[0m\u001b[0;34m(\u001b[0m\u001b[0mx\u001b[0m\u001b[0;34m)\u001b[0m\u001b[0;34m\u001b[0m\u001b[0;34m\u001b[0m\u001b[0m\n\u001b[0m\u001b[1;32m    110\u001b[0m         \u001b[0mx\u001b[0m \u001b[0;34m=\u001b[0m \u001b[0mself\u001b[0m\u001b[0;34m.\u001b[0m\u001b[0m_bn1\u001b[0m\u001b[0;34m(\u001b[0m\u001b[0mx\u001b[0m\u001b[0;34m)\u001b[0m\u001b[0;34m\u001b[0m\u001b[0;34m\u001b[0m\u001b[0m\n\u001b[1;32m    111\u001b[0m         \u001b[0mx\u001b[0m \u001b[0;34m=\u001b[0m \u001b[0mself\u001b[0m\u001b[0;34m.\u001b[0m\u001b[0m_swish\u001b[0m\u001b[0;34m(\u001b[0m\u001b[0mx\u001b[0m\u001b[0;34m)\u001b[0m\u001b[0;34m\u001b[0m\u001b[0;34m\u001b[0m\u001b[0m\n",
            "\u001b[0;32m/usr/local/lib/python3.7/dist-packages/torch/nn/modules/module.py\u001b[0m in \u001b[0;36m_call_impl\u001b[0;34m(self, *input, **kwargs)\u001b[0m\n\u001b[1;32m   1100\u001b[0m         if not (self._backward_hooks or self._forward_hooks or self._forward_pre_hooks or _global_backward_hooks\n\u001b[1;32m   1101\u001b[0m                 or _global_forward_hooks or _global_forward_pre_hooks):\n\u001b[0;32m-> 1102\u001b[0;31m             \u001b[0;32mreturn\u001b[0m \u001b[0mforward_call\u001b[0m\u001b[0;34m(\u001b[0m\u001b[0;34m*\u001b[0m\u001b[0minput\u001b[0m\u001b[0;34m,\u001b[0m \u001b[0;34m**\u001b[0m\u001b[0mkwargs\u001b[0m\u001b[0;34m)\u001b[0m\u001b[0;34m\u001b[0m\u001b[0;34m\u001b[0m\u001b[0m\n\u001b[0m\u001b[1;32m   1103\u001b[0m         \u001b[0;31m# Do not call functions when jit is used\u001b[0m\u001b[0;34m\u001b[0m\u001b[0;34m\u001b[0m\u001b[0;34m\u001b[0m\u001b[0m\n\u001b[1;32m   1104\u001b[0m         \u001b[0mfull_backward_hooks\u001b[0m\u001b[0;34m,\u001b[0m \u001b[0mnon_full_backward_hooks\u001b[0m \u001b[0;34m=\u001b[0m \u001b[0;34m[\u001b[0m\u001b[0;34m]\u001b[0m\u001b[0;34m,\u001b[0m \u001b[0;34m[\u001b[0m\u001b[0;34m]\u001b[0m\u001b[0;34m\u001b[0m\u001b[0;34m\u001b[0m\u001b[0m\n",
            "\u001b[0;32m/usr/local/lib/python3.7/dist-packages/efficientnet_pytorch/utils.py\u001b[0m in \u001b[0;36mforward\u001b[0;34m(self, x)\u001b[0m\n\u001b[1;32m    273\u001b[0m     \u001b[0;32mdef\u001b[0m \u001b[0mforward\u001b[0m\u001b[0;34m(\u001b[0m\u001b[0mself\u001b[0m\u001b[0;34m,\u001b[0m \u001b[0mx\u001b[0m\u001b[0;34m)\u001b[0m\u001b[0;34m:\u001b[0m\u001b[0;34m\u001b[0m\u001b[0;34m\u001b[0m\u001b[0m\n\u001b[1;32m    274\u001b[0m         \u001b[0mx\u001b[0m \u001b[0;34m=\u001b[0m \u001b[0mself\u001b[0m\u001b[0;34m.\u001b[0m\u001b[0mstatic_padding\u001b[0m\u001b[0;34m(\u001b[0m\u001b[0mx\u001b[0m\u001b[0;34m)\u001b[0m\u001b[0;34m\u001b[0m\u001b[0;34m\u001b[0m\u001b[0m\n\u001b[0;32m--> 275\u001b[0;31m         \u001b[0mx\u001b[0m \u001b[0;34m=\u001b[0m \u001b[0mF\u001b[0m\u001b[0;34m.\u001b[0m\u001b[0mconv2d\u001b[0m\u001b[0;34m(\u001b[0m\u001b[0mx\u001b[0m\u001b[0;34m,\u001b[0m \u001b[0mself\u001b[0m\u001b[0;34m.\u001b[0m\u001b[0mweight\u001b[0m\u001b[0;34m,\u001b[0m \u001b[0mself\u001b[0m\u001b[0;34m.\u001b[0m\u001b[0mbias\u001b[0m\u001b[0;34m,\u001b[0m \u001b[0mself\u001b[0m\u001b[0;34m.\u001b[0m\u001b[0mstride\u001b[0m\u001b[0;34m,\u001b[0m \u001b[0mself\u001b[0m\u001b[0;34m.\u001b[0m\u001b[0mpadding\u001b[0m\u001b[0;34m,\u001b[0m \u001b[0mself\u001b[0m\u001b[0;34m.\u001b[0m\u001b[0mdilation\u001b[0m\u001b[0;34m,\u001b[0m \u001b[0mself\u001b[0m\u001b[0;34m.\u001b[0m\u001b[0mgroups\u001b[0m\u001b[0;34m)\u001b[0m\u001b[0;34m\u001b[0m\u001b[0;34m\u001b[0m\u001b[0m\n\u001b[0m\u001b[1;32m    276\u001b[0m         \u001b[0;32mreturn\u001b[0m \u001b[0mx\u001b[0m\u001b[0;34m\u001b[0m\u001b[0;34m\u001b[0m\u001b[0m\n\u001b[1;32m    277\u001b[0m \u001b[0;34m\u001b[0m\u001b[0m\n",
            "\u001b[0;31mRuntimeError\u001b[0m: CUDA out of memory. Tried to allocate 124.00 MiB (GPU 0; 15.78 GiB total capacity; 13.82 GiB already allocated; 74.75 MiB free; 14.20 GiB reserved in total by PyTorch) If reserved memory is >> allocated memory try setting max_split_size_mb to avoid fragmentation.  See documentation for Memory Management and PYTORCH_CUDA_ALLOC_CONF"
          ]
        }
      ],
      "source": [
        "# draw_roc(model, test_dl)"
      ]
    },
    {
      "cell_type": "code",
      "execution_count": null,
      "metadata": {
        "id": "8xCxqlmeMKVv"
      },
      "outputs": [],
      "source": [
        "# @torch.no_grad()\n",
        "# def evaluate_per_class(model, val_loader):\n",
        "#     model.eval()\n",
        "#     total_class_totals = [0 for ele in range(kappa)]\n",
        "#     class_accuracies = [0.0 for ele in range(kappa)]\n",
        "#     average_class_vaguenesses = [0.0 for ele in range(kappa)]\n",
        "#     average_class_vague_belief_masses = torch.zeros(K, kappa).to(device)\n",
        "#     for batch in val_loader:\n",
        "#         images, labels = batch\n",
        "#         labels = labels.to(torch.int64)\n",
        "#         one_hot_labels = torch.nn.functional.one_hot(labels, num_classes=kappa)\n",
        "#         r = model(images)                  \n",
        "#         results = calculate_metrics(r, labels)\n",
        "#         for k in range(kappa):\n",
        "#             total_class_totals[k] += results[1][k]\n",
        "#             average_class_vaguenesses[k] += results[2][k]\n",
        "#             class_accuracies[k] += results[0][k]\n",
        "#             average_class_vague_belief_masses[:, k] = average_class_vague_belief_masses[:, k] + results[3][:, k]\n",
        "#     for k in range(kappa):\n",
        "#         average_class_vaguenesses[k] = average_class_vaguenesses[k] / total_class_totals[k]\n",
        "#         average_class_vague_belief_masses[:, k] = average_class_vague_belief_masses[:, k] / total_class_totals[k]\n",
        "#         class_accuracies[k] = class_accuracies[k] / total_class_totals[k]\n",
        "#     return [class_accuracies, average_class_vaguenesses, average_class_vague_belief_masses]"
      ]
    },
    {
      "cell_type": "code",
      "execution_count": null,
      "metadata": {
        "id": "keTstRjegpop"
      },
      "outputs": [],
      "source": [
        "# results = evaluate_per_class(model, test_dl)"
      ]
    },
    {
      "cell_type": "code",
      "execution_count": null,
      "metadata": {
        "id": "6qpSaGtcK7f_"
      },
      "outputs": [],
      "source": [
        "# print(\"Average Vagueness Vague Classes: {}, Average Vagueness Nonvague Classes: {}\".format(torch.Tensor(results[1][K:]).mean().item(), torch.Tensor(results[1][:K]).mean().item()))\n",
        "# print(\"Average Jaccard Similarity Vague Classes: {}, Average Accuracy Nonvague Classes: {}\".format(torch.Tensor(results[0][K:]).mean().item(), torch.Tensor(results[0][:K]).mean().item()))"
      ]
    },
    {
      "cell_type": "code",
      "execution_count": null,
      "metadata": {
        "id": "q3u_oiwZK8EB"
      },
      "outputs": [],
      "source": [
        "# print(\"Overall Accuracy: {}\". format(torch.Tensor(results[0]).mean().item()))"
      ]
    },
    {
      "cell_type": "code",
      "execution_count": null,
      "metadata": {
        "id": "LRVu6k_DK-R5"
      },
      "outputs": [],
      "source": [
        "# for k in range(kappa):\n",
        "#   print(\"Average Vague Belief Mass of Class {} samples: {}\".format(k, results[2][:, k]))"
      ]
    },
    {
      "cell_type": "code",
      "execution_count": null,
      "metadata": {
        "id": "iodl9s2kLAj8"
      },
      "outputs": [],
      "source": [
        "# for l in range(len(C)):\n",
        "#   for k in C[l]:\n",
        "#     print(\"Class: {}, Accuracy: {:.4f}, Average Vagueness: {}\".format(k, results[0][k], results[1][k]))\n",
        "\n",
        "#   print(\"Class: {}, Average Jaccard Similarity: {:.4f}, Average Vagueness: {}\\n\".format(K + l, results[0][K + l], results[1][K + l]))"
      ]
    },
    {
      "cell_type": "code",
      "execution_count": null,
      "metadata": {
        "id": "2GPQg0gKLBQ0"
      },
      "outputs": [],
      "source": [
        "# remaining_indices = list(range(0, K))\n",
        "# for l in range(len(C)):\n",
        "#   for k in C[l]:\n",
        "#     remaining_indices.remove(k)\n",
        "\n",
        "# for k in remaining_indices:\n",
        "#   print(\"Class: {}, Accuracy: {:.4f}, Average Vagueness: {}\".format(k, results[0][k], results[1][k]))"
      ]
    },
    {
      "cell_type": "markdown",
      "metadata": {
        "id": "TsU5Tk7gMmrs"
      },
      "source": [
        "# **Baseline Data Preprocessing**"
      ]
    },
    {
      "cell_type": "code",
      "execution_count": null,
      "metadata": {
        "id": "3svg4R6YMwL1"
      },
      "outputs": [],
      "source": [
        "def modify_vague_samples(dataset):\n",
        "    for k in range(K, kappa):\n",
        "        idx2 = [i for i in range(len(dataset)) if dataset[i][1] == k]\n",
        "        idx1 = [i for i in range(len(dataset)) if dataset[i][1] != k]\n",
        "        subset_1 = Subset(dataset, idx1)\n",
        "        subset_2 = Subset(dataset, idx2)\n",
        "        copies = CustomDataset(subset=subset_2, class_num=C[k - K][0])\n",
        "        for l in range(1, len(C[k - K])):\n",
        "            copies += CustomDataset(subset=subset_2, class_num=C[k - K][l])\n",
        "        dataset = subset_1 + copies\n",
        "    return dataset"
      ]
    },
    {
      "cell_type": "code",
      "execution_count": null,
      "metadata": {
        "id": "W69j34KAMx0H",
        "colab": {
          "base_uri": "https://localhost:8080/"
        },
        "outputId": "0325ad36-3231-4ef2-aa49-9970f014d7fe"
      },
      "outputs": [
        {
          "output_type": "stream",
          "name": "stdout",
          "text": [
            "training samples modified: 90300 samples\n",
            "Time processing: 303.27574920654297 seconds.\n"
          ]
        }
      ],
      "source": [
        "start = time.time()\n",
        "train_ds = modify_vague_samples(train_ds)\n",
        "end = time.time()\n",
        "print(f'training samples modified: %d samples'%len(train_ds))\n",
        "print(f'Time processing: %s seconds.'%str(end-start))"
      ]
    },
    {
      "cell_type": "code",
      "execution_count": null,
      "metadata": {
        "id": "dYfxXwFRMz54"
      },
      "outputs": [],
      "source": [
        "# for l in C[0]:\n",
        "#   indexes = [i for i in range(len(train_ds)) if train_ds[i][1] == l]\n",
        "#   idx = indexes[600]\n",
        "#   printImage(train_ds[idx][0].permute(1, 2, 0), train_ds[idx][1])"
      ]
    },
    {
      "cell_type": "code",
      "execution_count": null,
      "metadata": {
        "id": "wIhePcVEM2eO"
      },
      "outputs": [],
      "source": [
        "train_dl = DataLoader(train_ds, batch_size, shuffle=True, num_workers=1, pin_memory=True)\n",
        "train_dl = DeviceDataLoader(train_dl, device)"
      ]
    },
    {
      "cell_type": "markdown",
      "metadata": {
        "id": "cUcnF8tUNDbQ"
      },
      "source": [
        "# **EDL (1st Baseline)**"
      ]
    },
    {
      "cell_type": "code",
      "execution_count": null,
      "metadata": {
        "id": "JIAddha_NHa8",
        "colab": {
          "base_uri": "https://localhost:8080/"
        },
        "outputId": "3eeab55a-0e79-4ad6-8609-80861600c402"
      },
      "outputs": [
        {
          "output_type": "stream",
          "name": "stdout",
          "text": [
            "Loaded pretrained weights for efficientnet-b3\n"
          ]
        }
      ],
      "source": [
        "class ENN(nn.Module):\n",
        "    def __init__(self):\n",
        "        super().__init__()\n",
        "\n",
        "        # EfficientNet\n",
        "        self.network = EfficientNet.from_pretrained(\"efficientnet-b3\", num_classes=K)\n",
        "        self.output = nn.Softplus()\n",
        "        \n",
        "    def forward(self, x):\n",
        "        logits = self.network(x)\n",
        "        logits = self.output(logits)\n",
        "        return logits\n",
        "\n",
        "model = to_device(ENN(), device)"
      ]
    },
    {
      "cell_type": "code",
      "execution_count": null,
      "metadata": {
        "id": "0e2oQKEcNbZN"
      },
      "outputs": [],
      "source": [
        "def get_dissonances(r):\n",
        "    b = r / (torch.sum(r, dim=1) + W)[:, None]\n",
        "    dissonances = torch.zeros(len(r), K).to(device)\n",
        "    singletons = list(range(0, K))\n",
        "\n",
        "    for k in range(K):\n",
        "        selected_indices = torch.tensor(singletons[0:k] + singletons[k + 1:]).to(device)\n",
        "        selected_b = torch.index_select(b, 1, selected_indices)\n",
        "        bal_term2 = (torch.abs(selected_b - b[:, k][:, None]) / (selected_b + b[:, k][:, None]))\n",
        "        bal_term2[torch.isnan(bal_term2)] = 0.0\n",
        "        bal = 1.0 - bal_term2\n",
        "        A = torch.sum(torch.mul(selected_b, bal), dim=1)\n",
        "        B = torch.sum(selected_b, dim=1)\n",
        "        dissonances[:, k] = torch.div(torch.mul(b[:, k], A), B)\n",
        "    return dissonances"
      ]
    },
    {
      "cell_type": "code",
      "execution_count": null,
      "metadata": {
        "id": "fPRqqQVXqqeM"
      },
      "outputs": [],
      "source": [
        "def num_accurate_baseline1(r, labels, cutoff):\n",
        "    alpha = torch.add(r, torch.mul(W, a))\n",
        "    alpha_sum = torch.sum(alpha, dim=1)\n",
        "\n",
        "    # Get the predicted labels\n",
        "    p_exp = torch.div(alpha, alpha_sum[:, None])\n",
        "    predicted_labels = torch.argmax(p_exp, dim=1)\n",
        "\n",
        "    total_correct = 0.0\n",
        "    for i in range(len(labels)):\n",
        "        indices = (p_exp[i] >= cutoff).nonzero(as_tuple=True)[0]\n",
        "        predicted_set = set(indices.tolist())\n",
        "\n",
        "        if len(predicted_set) == 1:\n",
        "            predicted_set = set(R[predicted_labels[i].item()])\n",
        "\n",
        "        ground_truth_set = set(R[labels[i]])\n",
        "        total_correct += float(len(predicted_set.intersection(ground_truth_set))) / len(predicted_set.union(ground_truth_set))\n",
        "\n",
        "    return total_correct"
      ]
    },
    {
      "cell_type": "code",
      "source": [
        "# model_save_dir = os.path.join(save_dir, 'models')\n",
        "PATH_ENN = os.path.join(model_save_dir, \"model_ENN.pt\")"
      ],
      "metadata": {
        "id": "TGdr0ngv9VGS"
      },
      "execution_count": null,
      "outputs": []
    },
    {
      "cell_type": "code",
      "execution_count": null,
      "metadata": {
        "id": "S86StrK-qtJx"
      },
      "outputs": [],
      "source": [
        "@torch.no_grad()\n",
        "def evaluate(model, val_loader, cutoff):\n",
        "    model.eval()\n",
        "    total_correct = 0.0\n",
        "    total_samples = 0\n",
        "    val_losses = []\n",
        "    for batch in val_loader:\n",
        "        images, labels = batch\n",
        "        r = model(images)\n",
        "        total_correct += num_accurate_baseline1(r, labels, cutoff)\n",
        "        total_samples += len(labels)\n",
        "    accuracy = total_correct / total_samples\n",
        "    return accuracy\n",
        "\n",
        "def fit(epochs, model, lr, train_loader, val_loader, cutoff, weight_decay=0):\n",
        "    optimizer = torch.optim.Adam(model.parameters(), lr=lr, weight_decay=weight_decay)\n",
        "    global_step = 0\n",
        "    annealing_step = 1000.0 * n_batches\n",
        "    for epoch in range(epochs):\n",
        "        # Training Phase\n",
        "        model.train()\n",
        "        train_losses = []\n",
        "        for batch in train_loader:\n",
        "            optimizer.zero_grad()\n",
        "            images, labels = batch\n",
        "            one_hot_labels = torch.nn.functional.one_hot(labels, num_classes=K)\n",
        "            r = model(images)\n",
        "            annealing_coefficient = min(1.0, global_step/annealing_step)\n",
        "            loss = lossFunc(r, one_hot_labels, a, annealing_coefficient)\n",
        "            train_losses.append(loss)\n",
        "            loss.backward()\n",
        "            optimizer.step()\n",
        "            global_step += 1\n",
        "        mean_train_loss = torch.stack(train_losses).mean().item()\n",
        "        # Validation phase\n",
        "        accuracy = evaluate(model, val_loader, cutoff)\n",
        "        print(\"Epoch [{}], Mean Training Loss per Batch: {:.4f}, Validation Accuracy: {:.4f}\".format(epoch, mean_train_loss, accuracy))\n",
        "        if (epoch + 1) % 5 == 0:\n",
        "            torch.save(model.state_dict(), PATH_ENN)"
      ]
    },
    {
      "cell_type": "code",
      "execution_count": null,
      "metadata": {
        "id": "t2vQHv40q1oK",
        "colab": {
          "base_uri": "https://localhost:8080/",
          "height": 432
        },
        "outputId": "3a183e66-29ce-40ae-8f2e-94ac8c7f3768"
      },
      "outputs": [
        {
          "output_type": "stream",
          "name": "stdout",
          "text": [
            "learning rate: 0.001\n"
          ]
        },
        {
          "output_type": "error",
          "ename": "RuntimeError",
          "evalue": "ignored",
          "traceback": [
            "\u001b[0;31m---------------------------------------------------------------------------\u001b[0m",
            "\u001b[0;31mRuntimeError\u001b[0m                              Traceback (most recent call last)",
            "\u001b[0;32m<ipython-input-222-6cd28b77cd56>\u001b[0m in \u001b[0;36m<module>\u001b[0;34m()\u001b[0m\n\u001b[1;32m      7\u001b[0m     \u001b[0;32melse\u001b[0m\u001b[0;34m:\u001b[0m\u001b[0;34m\u001b[0m\u001b[0;34m\u001b[0m\u001b[0m\n\u001b[1;32m      8\u001b[0m         \u001b[0mnum_epochs\u001b[0m \u001b[0;34m=\u001b[0m \u001b[0;36m10\u001b[0m\u001b[0;34m\u001b[0m\u001b[0;34m\u001b[0m\u001b[0m\n\u001b[0;32m----> 9\u001b[0;31m     \u001b[0mfit\u001b[0m\u001b[0;34m(\u001b[0m\u001b[0mnum_epochs\u001b[0m\u001b[0;34m,\u001b[0m \u001b[0mmodel\u001b[0m\u001b[0;34m,\u001b[0m \u001b[0mlr\u001b[0m\u001b[0;34m,\u001b[0m \u001b[0mtrain_dl\u001b[0m\u001b[0;34m,\u001b[0m \u001b[0mvalid_dl\u001b[0m\u001b[0;34m,\u001b[0m \u001b[0;36m0.2\u001b[0m\u001b[0;34m,\u001b[0m \u001b[0;36m0\u001b[0m\u001b[0;34m)\u001b[0m\u001b[0;34m\u001b[0m\u001b[0;34m\u001b[0m\u001b[0m\n\u001b[0m\u001b[1;32m     10\u001b[0m \u001b[0;34m\u001b[0m\u001b[0m\n\u001b[1;32m     11\u001b[0m \u001b[0mend\u001b[0m \u001b[0;34m=\u001b[0m \u001b[0mtime\u001b[0m\u001b[0;34m.\u001b[0m\u001b[0mtime\u001b[0m\u001b[0;34m(\u001b[0m\u001b[0;34m)\u001b[0m\u001b[0;34m\u001b[0m\u001b[0;34m\u001b[0m\u001b[0m\n",
            "\u001b[0;32m<ipython-input-221-0dc4fbe47e47>\u001b[0m in \u001b[0;36mfit\u001b[0;34m(epochs, model, lr, train_loader, val_loader, cutoff, weight_decay)\u001b[0m\n\u001b[1;32m     25\u001b[0m             \u001b[0mimages\u001b[0m\u001b[0;34m,\u001b[0m \u001b[0mlabels\u001b[0m \u001b[0;34m=\u001b[0m \u001b[0mbatch\u001b[0m\u001b[0;34m\u001b[0m\u001b[0;34m\u001b[0m\u001b[0m\n\u001b[1;32m     26\u001b[0m             \u001b[0mone_hot_labels\u001b[0m \u001b[0;34m=\u001b[0m \u001b[0mtorch\u001b[0m\u001b[0;34m.\u001b[0m\u001b[0mnn\u001b[0m\u001b[0;34m.\u001b[0m\u001b[0mfunctional\u001b[0m\u001b[0;34m.\u001b[0m\u001b[0mone_hot\u001b[0m\u001b[0;34m(\u001b[0m\u001b[0mlabels\u001b[0m\u001b[0;34m,\u001b[0m \u001b[0mnum_classes\u001b[0m\u001b[0;34m=\u001b[0m\u001b[0mK\u001b[0m\u001b[0;34m)\u001b[0m\u001b[0;34m\u001b[0m\u001b[0;34m\u001b[0m\u001b[0m\n\u001b[0;32m---> 27\u001b[0;31m             \u001b[0mr\u001b[0m \u001b[0;34m=\u001b[0m \u001b[0mmodel\u001b[0m\u001b[0;34m(\u001b[0m\u001b[0mimages\u001b[0m\u001b[0;34m)\u001b[0m\u001b[0;34m\u001b[0m\u001b[0;34m\u001b[0m\u001b[0m\n\u001b[0m\u001b[1;32m     28\u001b[0m             \u001b[0mannealing_coefficient\u001b[0m \u001b[0;34m=\u001b[0m \u001b[0mmin\u001b[0m\u001b[0;34m(\u001b[0m\u001b[0;36m1.0\u001b[0m\u001b[0;34m,\u001b[0m \u001b[0mglobal_step\u001b[0m\u001b[0;34m/\u001b[0m\u001b[0mannealing_step\u001b[0m\u001b[0;34m)\u001b[0m\u001b[0;34m\u001b[0m\u001b[0;34m\u001b[0m\u001b[0m\n\u001b[1;32m     29\u001b[0m             \u001b[0mloss\u001b[0m \u001b[0;34m=\u001b[0m \u001b[0mlossFunc\u001b[0m\u001b[0;34m(\u001b[0m\u001b[0mr\u001b[0m\u001b[0;34m,\u001b[0m \u001b[0mone_hot_labels\u001b[0m\u001b[0;34m,\u001b[0m \u001b[0ma\u001b[0m\u001b[0;34m,\u001b[0m \u001b[0mannealing_coefficient\u001b[0m\u001b[0;34m)\u001b[0m\u001b[0;34m\u001b[0m\u001b[0;34m\u001b[0m\u001b[0m\n",
            "\u001b[0;32m/usr/local/lib/python3.7/dist-packages/torch/nn/modules/module.py\u001b[0m in \u001b[0;36m_call_impl\u001b[0;34m(self, *input, **kwargs)\u001b[0m\n\u001b[1;32m   1100\u001b[0m         if not (self._backward_hooks or self._forward_hooks or self._forward_pre_hooks or _global_backward_hooks\n\u001b[1;32m   1101\u001b[0m                 or _global_forward_hooks or _global_forward_pre_hooks):\n\u001b[0;32m-> 1102\u001b[0;31m             \u001b[0;32mreturn\u001b[0m \u001b[0mforward_call\u001b[0m\u001b[0;34m(\u001b[0m\u001b[0;34m*\u001b[0m\u001b[0minput\u001b[0m\u001b[0;34m,\u001b[0m \u001b[0;34m**\u001b[0m\u001b[0mkwargs\u001b[0m\u001b[0;34m)\u001b[0m\u001b[0;34m\u001b[0m\u001b[0;34m\u001b[0m\u001b[0m\n\u001b[0m\u001b[1;32m   1103\u001b[0m         \u001b[0;31m# Do not call functions when jit is used\u001b[0m\u001b[0;34m\u001b[0m\u001b[0;34m\u001b[0m\u001b[0;34m\u001b[0m\u001b[0m\n\u001b[1;32m   1104\u001b[0m         \u001b[0mfull_backward_hooks\u001b[0m\u001b[0;34m,\u001b[0m \u001b[0mnon_full_backward_hooks\u001b[0m \u001b[0;34m=\u001b[0m \u001b[0;34m[\u001b[0m\u001b[0;34m]\u001b[0m\u001b[0;34m,\u001b[0m \u001b[0;34m[\u001b[0m\u001b[0;34m]\u001b[0m\u001b[0;34m\u001b[0m\u001b[0;34m\u001b[0m\u001b[0m\n",
            "\u001b[0;32m<ipython-input-206-721cb3a1e939>\u001b[0m in \u001b[0;36mforward\u001b[0;34m(self, x)\u001b[0m\n\u001b[1;32m      8\u001b[0m \u001b[0;34m\u001b[0m\u001b[0m\n\u001b[1;32m      9\u001b[0m     \u001b[0;32mdef\u001b[0m \u001b[0mforward\u001b[0m\u001b[0;34m(\u001b[0m\u001b[0mself\u001b[0m\u001b[0;34m,\u001b[0m \u001b[0mx\u001b[0m\u001b[0;34m)\u001b[0m\u001b[0;34m:\u001b[0m\u001b[0;34m\u001b[0m\u001b[0;34m\u001b[0m\u001b[0m\n\u001b[0;32m---> 10\u001b[0;31m         \u001b[0mlogits\u001b[0m \u001b[0;34m=\u001b[0m \u001b[0mself\u001b[0m\u001b[0;34m.\u001b[0m\u001b[0mnetwork\u001b[0m\u001b[0;34m(\u001b[0m\u001b[0mx\u001b[0m\u001b[0;34m)\u001b[0m\u001b[0;34m\u001b[0m\u001b[0;34m\u001b[0m\u001b[0m\n\u001b[0m\u001b[1;32m     11\u001b[0m         \u001b[0mlogits\u001b[0m \u001b[0;34m=\u001b[0m \u001b[0mself\u001b[0m\u001b[0;34m.\u001b[0m\u001b[0moutput\u001b[0m\u001b[0;34m(\u001b[0m\u001b[0mlogits\u001b[0m\u001b[0;34m)\u001b[0m\u001b[0;34m\u001b[0m\u001b[0;34m\u001b[0m\u001b[0m\n\u001b[1;32m     12\u001b[0m         \u001b[0;32mreturn\u001b[0m \u001b[0mlogits\u001b[0m\u001b[0;34m\u001b[0m\u001b[0;34m\u001b[0m\u001b[0m\n",
            "\u001b[0;32m/usr/local/lib/python3.7/dist-packages/torch/nn/modules/module.py\u001b[0m in \u001b[0;36m_call_impl\u001b[0;34m(self, *input, **kwargs)\u001b[0m\n\u001b[1;32m   1100\u001b[0m         if not (self._backward_hooks or self._forward_hooks or self._forward_pre_hooks or _global_backward_hooks\n\u001b[1;32m   1101\u001b[0m                 or _global_forward_hooks or _global_forward_pre_hooks):\n\u001b[0;32m-> 1102\u001b[0;31m             \u001b[0;32mreturn\u001b[0m \u001b[0mforward_call\u001b[0m\u001b[0;34m(\u001b[0m\u001b[0;34m*\u001b[0m\u001b[0minput\u001b[0m\u001b[0;34m,\u001b[0m \u001b[0;34m**\u001b[0m\u001b[0mkwargs\u001b[0m\u001b[0;34m)\u001b[0m\u001b[0;34m\u001b[0m\u001b[0;34m\u001b[0m\u001b[0m\n\u001b[0m\u001b[1;32m   1103\u001b[0m         \u001b[0;31m# Do not call functions when jit is used\u001b[0m\u001b[0;34m\u001b[0m\u001b[0;34m\u001b[0m\u001b[0;34m\u001b[0m\u001b[0m\n\u001b[1;32m   1104\u001b[0m         \u001b[0mfull_backward_hooks\u001b[0m\u001b[0;34m,\u001b[0m \u001b[0mnon_full_backward_hooks\u001b[0m \u001b[0;34m=\u001b[0m \u001b[0;34m[\u001b[0m\u001b[0;34m]\u001b[0m\u001b[0;34m,\u001b[0m \u001b[0;34m[\u001b[0m\u001b[0;34m]\u001b[0m\u001b[0;34m\u001b[0m\u001b[0;34m\u001b[0m\u001b[0m\n",
            "\u001b[0;32m/usr/local/lib/python3.7/dist-packages/efficientnet_pytorch/model.py\u001b[0m in \u001b[0;36mforward\u001b[0;34m(self, inputs)\u001b[0m\n\u001b[1;32m    312\u001b[0m         \"\"\"\n\u001b[1;32m    313\u001b[0m         \u001b[0;31m# Convolution layers\u001b[0m\u001b[0;34m\u001b[0m\u001b[0;34m\u001b[0m\u001b[0;34m\u001b[0m\u001b[0m\n\u001b[0;32m--> 314\u001b[0;31m         \u001b[0mx\u001b[0m \u001b[0;34m=\u001b[0m \u001b[0mself\u001b[0m\u001b[0;34m.\u001b[0m\u001b[0mextract_features\u001b[0m\u001b[0;34m(\u001b[0m\u001b[0minputs\u001b[0m\u001b[0;34m)\u001b[0m\u001b[0;34m\u001b[0m\u001b[0;34m\u001b[0m\u001b[0m\n\u001b[0m\u001b[1;32m    315\u001b[0m         \u001b[0;31m# Pooling and final linear layer\u001b[0m\u001b[0;34m\u001b[0m\u001b[0;34m\u001b[0m\u001b[0;34m\u001b[0m\u001b[0m\n\u001b[1;32m    316\u001b[0m         \u001b[0mx\u001b[0m \u001b[0;34m=\u001b[0m \u001b[0mself\u001b[0m\u001b[0;34m.\u001b[0m\u001b[0m_avg_pooling\u001b[0m\u001b[0;34m(\u001b[0m\u001b[0mx\u001b[0m\u001b[0;34m)\u001b[0m\u001b[0;34m\u001b[0m\u001b[0;34m\u001b[0m\u001b[0m\n",
            "\u001b[0;32m/usr/local/lib/python3.7/dist-packages/efficientnet_pytorch/model.py\u001b[0m in \u001b[0;36mextract_features\u001b[0;34m(self, inputs)\u001b[0m\n\u001b[1;32m    287\u001b[0m         \"\"\"\n\u001b[1;32m    288\u001b[0m         \u001b[0;31m# Stem\u001b[0m\u001b[0;34m\u001b[0m\u001b[0;34m\u001b[0m\u001b[0;34m\u001b[0m\u001b[0m\n\u001b[0;32m--> 289\u001b[0;31m         \u001b[0mx\u001b[0m \u001b[0;34m=\u001b[0m \u001b[0mself\u001b[0m\u001b[0;34m.\u001b[0m\u001b[0m_swish\u001b[0m\u001b[0;34m(\u001b[0m\u001b[0mself\u001b[0m\u001b[0;34m.\u001b[0m\u001b[0m_bn0\u001b[0m\u001b[0;34m(\u001b[0m\u001b[0mself\u001b[0m\u001b[0;34m.\u001b[0m\u001b[0m_conv_stem\u001b[0m\u001b[0;34m(\u001b[0m\u001b[0minputs\u001b[0m\u001b[0;34m)\u001b[0m\u001b[0;34m)\u001b[0m\u001b[0;34m)\u001b[0m\u001b[0;34m\u001b[0m\u001b[0;34m\u001b[0m\u001b[0m\n\u001b[0m\u001b[1;32m    290\u001b[0m \u001b[0;34m\u001b[0m\u001b[0m\n\u001b[1;32m    291\u001b[0m         \u001b[0;31m# Blocks\u001b[0m\u001b[0;34m\u001b[0m\u001b[0;34m\u001b[0m\u001b[0;34m\u001b[0m\u001b[0m\n",
            "\u001b[0;32m/usr/local/lib/python3.7/dist-packages/torch/nn/modules/module.py\u001b[0m in \u001b[0;36m_call_impl\u001b[0;34m(self, *input, **kwargs)\u001b[0m\n\u001b[1;32m   1100\u001b[0m         if not (self._backward_hooks or self._forward_hooks or self._forward_pre_hooks or _global_backward_hooks\n\u001b[1;32m   1101\u001b[0m                 or _global_forward_hooks or _global_forward_pre_hooks):\n\u001b[0;32m-> 1102\u001b[0;31m             \u001b[0;32mreturn\u001b[0m \u001b[0mforward_call\u001b[0m\u001b[0;34m(\u001b[0m\u001b[0;34m*\u001b[0m\u001b[0minput\u001b[0m\u001b[0;34m,\u001b[0m \u001b[0;34m**\u001b[0m\u001b[0mkwargs\u001b[0m\u001b[0;34m)\u001b[0m\u001b[0;34m\u001b[0m\u001b[0;34m\u001b[0m\u001b[0m\n\u001b[0m\u001b[1;32m   1103\u001b[0m         \u001b[0;31m# Do not call functions when jit is used\u001b[0m\u001b[0;34m\u001b[0m\u001b[0;34m\u001b[0m\u001b[0;34m\u001b[0m\u001b[0m\n\u001b[1;32m   1104\u001b[0m         \u001b[0mfull_backward_hooks\u001b[0m\u001b[0;34m,\u001b[0m \u001b[0mnon_full_backward_hooks\u001b[0m \u001b[0;34m=\u001b[0m \u001b[0;34m[\u001b[0m\u001b[0;34m]\u001b[0m\u001b[0;34m,\u001b[0m \u001b[0;34m[\u001b[0m\u001b[0;34m]\u001b[0m\u001b[0;34m\u001b[0m\u001b[0;34m\u001b[0m\u001b[0m\n",
            "\u001b[0;32m/usr/local/lib/python3.7/dist-packages/efficientnet_pytorch/utils.py\u001b[0m in \u001b[0;36mforward\u001b[0;34m(self, x)\u001b[0m\n\u001b[1;32m    273\u001b[0m     \u001b[0;32mdef\u001b[0m \u001b[0mforward\u001b[0m\u001b[0;34m(\u001b[0m\u001b[0mself\u001b[0m\u001b[0;34m,\u001b[0m \u001b[0mx\u001b[0m\u001b[0;34m)\u001b[0m\u001b[0;34m:\u001b[0m\u001b[0;34m\u001b[0m\u001b[0;34m\u001b[0m\u001b[0m\n\u001b[1;32m    274\u001b[0m         \u001b[0mx\u001b[0m \u001b[0;34m=\u001b[0m \u001b[0mself\u001b[0m\u001b[0;34m.\u001b[0m\u001b[0mstatic_padding\u001b[0m\u001b[0;34m(\u001b[0m\u001b[0mx\u001b[0m\u001b[0;34m)\u001b[0m\u001b[0;34m\u001b[0m\u001b[0;34m\u001b[0m\u001b[0m\n\u001b[0;32m--> 275\u001b[0;31m         \u001b[0mx\u001b[0m \u001b[0;34m=\u001b[0m \u001b[0mF\u001b[0m\u001b[0;34m.\u001b[0m\u001b[0mconv2d\u001b[0m\u001b[0;34m(\u001b[0m\u001b[0mx\u001b[0m\u001b[0;34m,\u001b[0m \u001b[0mself\u001b[0m\u001b[0;34m.\u001b[0m\u001b[0mweight\u001b[0m\u001b[0;34m,\u001b[0m \u001b[0mself\u001b[0m\u001b[0;34m.\u001b[0m\u001b[0mbias\u001b[0m\u001b[0;34m,\u001b[0m \u001b[0mself\u001b[0m\u001b[0;34m.\u001b[0m\u001b[0mstride\u001b[0m\u001b[0;34m,\u001b[0m \u001b[0mself\u001b[0m\u001b[0;34m.\u001b[0m\u001b[0mpadding\u001b[0m\u001b[0;34m,\u001b[0m \u001b[0mself\u001b[0m\u001b[0;34m.\u001b[0m\u001b[0mdilation\u001b[0m\u001b[0;34m,\u001b[0m \u001b[0mself\u001b[0m\u001b[0;34m.\u001b[0m\u001b[0mgroups\u001b[0m\u001b[0;34m)\u001b[0m\u001b[0;34m\u001b[0m\u001b[0;34m\u001b[0m\u001b[0m\n\u001b[0m\u001b[1;32m    276\u001b[0m         \u001b[0;32mreturn\u001b[0m \u001b[0mx\u001b[0m\u001b[0;34m\u001b[0m\u001b[0;34m\u001b[0m\u001b[0m\n\u001b[1;32m    277\u001b[0m \u001b[0;34m\u001b[0m\u001b[0m\n",
            "\u001b[0;31mRuntimeError\u001b[0m: CUDA out of memory. Tried to allocate 124.00 MiB (GPU 0; 15.78 GiB total capacity; 13.93 GiB already allocated; 60.75 MiB free; 14.22 GiB reserved in total by PyTorch) If reserved memory is >> allocated memory try setting max_split_size_mb to avoid fragmentation.  See documentation for Memory Management and PYTORCH_CUDA_ALLOC_CONF"
          ]
        }
      ],
      "source": [
        "start = time.time()\n",
        "for lr in [1e-3, 1e-4]:\n",
        "    print(\"learning rate: {}\".format(lr))\n",
        "\n",
        "    if lr == 1e-3:\n",
        "        num_epochs = 25\n",
        "    else:\n",
        "        num_epochs = 10\n",
        "    fit(num_epochs, model, lr, train_dl, valid_dl, 0.2, 0)\n",
        "\n",
        "end = time.time()\n",
        "torch.save(model.state_dict(), PATH_ENN)\n",
        "print(f'Total training time for ENN: %s seconds.'%str(end-start))"
      ]
    },
    {
      "cell_type": "code",
      "execution_count": null,
      "metadata": {
        "id": "makg7muxh2_E",
        "colab": {
          "base_uri": "https://localhost:8080/",
          "height": 362
        },
        "outputId": "9a8e409f-12ce-446e-9052-b13bfa7fb03b"
      },
      "outputs": [
        {
          "output_type": "stream",
          "name": "stdout",
          "text": [
            "Loaded pretrained weights for efficientnet-b3\n"
          ]
        },
        {
          "output_type": "error",
          "ename": "FileNotFoundError",
          "evalue": "ignored",
          "traceback": [
            "\u001b[0;31m---------------------------------------------------------------------------\u001b[0m",
            "\u001b[0;31mFileNotFoundError\u001b[0m                         Traceback (most recent call last)",
            "\u001b[0;32m<ipython-input-223-a2c788e8a1d5>\u001b[0m in \u001b[0;36m<module>\u001b[0;34m()\u001b[0m\n\u001b[1;32m      1\u001b[0m \u001b[0mmodel\u001b[0m \u001b[0;34m=\u001b[0m \u001b[0mto_device\u001b[0m\u001b[0;34m(\u001b[0m\u001b[0mENN\u001b[0m\u001b[0;34m(\u001b[0m\u001b[0;34m)\u001b[0m\u001b[0;34m,\u001b[0m \u001b[0mdevice\u001b[0m\u001b[0;34m)\u001b[0m\u001b[0;34m\u001b[0m\u001b[0;34m\u001b[0m\u001b[0m\n\u001b[0;32m----> 2\u001b[0;31m \u001b[0mmodel\u001b[0m\u001b[0;34m.\u001b[0m\u001b[0mload_state_dict\u001b[0m\u001b[0;34m(\u001b[0m\u001b[0mtorch\u001b[0m\u001b[0;34m.\u001b[0m\u001b[0mload\u001b[0m\u001b[0;34m(\u001b[0m\u001b[0mPATH_ENN\u001b[0m\u001b[0;34m)\u001b[0m\u001b[0;34m)\u001b[0m\u001b[0;34m\u001b[0m\u001b[0;34m\u001b[0m\u001b[0m\n\u001b[0m\u001b[1;32m      3\u001b[0m \u001b[0mmodel\u001b[0m\u001b[0;34m.\u001b[0m\u001b[0meval\u001b[0m\u001b[0;34m(\u001b[0m\u001b[0;34m)\u001b[0m\u001b[0;34m\u001b[0m\u001b[0;34m\u001b[0m\u001b[0m\n",
            "\u001b[0;32m/usr/local/lib/python3.7/dist-packages/torch/serialization.py\u001b[0m in \u001b[0;36mload\u001b[0;34m(f, map_location, pickle_module, **pickle_load_args)\u001b[0m\n\u001b[1;32m    592\u001b[0m         \u001b[0mpickle_load_args\u001b[0m\u001b[0;34m[\u001b[0m\u001b[0;34m'encoding'\u001b[0m\u001b[0;34m]\u001b[0m \u001b[0;34m=\u001b[0m \u001b[0;34m'utf-8'\u001b[0m\u001b[0;34m\u001b[0m\u001b[0;34m\u001b[0m\u001b[0m\n\u001b[1;32m    593\u001b[0m \u001b[0;34m\u001b[0m\u001b[0m\n\u001b[0;32m--> 594\u001b[0;31m     \u001b[0;32mwith\u001b[0m \u001b[0m_open_file_like\u001b[0m\u001b[0;34m(\u001b[0m\u001b[0mf\u001b[0m\u001b[0;34m,\u001b[0m \u001b[0;34m'rb'\u001b[0m\u001b[0;34m)\u001b[0m \u001b[0;32mas\u001b[0m \u001b[0mopened_file\u001b[0m\u001b[0;34m:\u001b[0m\u001b[0;34m\u001b[0m\u001b[0;34m\u001b[0m\u001b[0m\n\u001b[0m\u001b[1;32m    595\u001b[0m         \u001b[0;32mif\u001b[0m \u001b[0m_is_zipfile\u001b[0m\u001b[0;34m(\u001b[0m\u001b[0mopened_file\u001b[0m\u001b[0;34m)\u001b[0m\u001b[0;34m:\u001b[0m\u001b[0;34m\u001b[0m\u001b[0;34m\u001b[0m\u001b[0m\n\u001b[1;32m    596\u001b[0m             \u001b[0;31m# The zipfile reader is going to advance the current file position.\u001b[0m\u001b[0;34m\u001b[0m\u001b[0;34m\u001b[0m\u001b[0;34m\u001b[0m\u001b[0m\n",
            "\u001b[0;32m/usr/local/lib/python3.7/dist-packages/torch/serialization.py\u001b[0m in \u001b[0;36m_open_file_like\u001b[0;34m(name_or_buffer, mode)\u001b[0m\n\u001b[1;32m    228\u001b[0m \u001b[0;32mdef\u001b[0m \u001b[0m_open_file_like\u001b[0m\u001b[0;34m(\u001b[0m\u001b[0mname_or_buffer\u001b[0m\u001b[0;34m,\u001b[0m \u001b[0mmode\u001b[0m\u001b[0;34m)\u001b[0m\u001b[0;34m:\u001b[0m\u001b[0;34m\u001b[0m\u001b[0;34m\u001b[0m\u001b[0m\n\u001b[1;32m    229\u001b[0m     \u001b[0;32mif\u001b[0m \u001b[0m_is_path\u001b[0m\u001b[0;34m(\u001b[0m\u001b[0mname_or_buffer\u001b[0m\u001b[0;34m)\u001b[0m\u001b[0;34m:\u001b[0m\u001b[0;34m\u001b[0m\u001b[0;34m\u001b[0m\u001b[0m\n\u001b[0;32m--> 230\u001b[0;31m         \u001b[0;32mreturn\u001b[0m \u001b[0m_open_file\u001b[0m\u001b[0;34m(\u001b[0m\u001b[0mname_or_buffer\u001b[0m\u001b[0;34m,\u001b[0m \u001b[0mmode\u001b[0m\u001b[0;34m)\u001b[0m\u001b[0;34m\u001b[0m\u001b[0;34m\u001b[0m\u001b[0m\n\u001b[0m\u001b[1;32m    231\u001b[0m     \u001b[0;32melse\u001b[0m\u001b[0;34m:\u001b[0m\u001b[0;34m\u001b[0m\u001b[0;34m\u001b[0m\u001b[0m\n\u001b[1;32m    232\u001b[0m         \u001b[0;32mif\u001b[0m \u001b[0;34m'w'\u001b[0m \u001b[0;32min\u001b[0m \u001b[0mmode\u001b[0m\u001b[0;34m:\u001b[0m\u001b[0;34m\u001b[0m\u001b[0;34m\u001b[0m\u001b[0m\n",
            "\u001b[0;32m/usr/local/lib/python3.7/dist-packages/torch/serialization.py\u001b[0m in \u001b[0;36m__init__\u001b[0;34m(self, name, mode)\u001b[0m\n\u001b[1;32m    209\u001b[0m \u001b[0;32mclass\u001b[0m \u001b[0m_open_file\u001b[0m\u001b[0;34m(\u001b[0m\u001b[0m_opener\u001b[0m\u001b[0;34m)\u001b[0m\u001b[0;34m:\u001b[0m\u001b[0;34m\u001b[0m\u001b[0;34m\u001b[0m\u001b[0m\n\u001b[1;32m    210\u001b[0m     \u001b[0;32mdef\u001b[0m \u001b[0m__init__\u001b[0m\u001b[0;34m(\u001b[0m\u001b[0mself\u001b[0m\u001b[0;34m,\u001b[0m \u001b[0mname\u001b[0m\u001b[0;34m,\u001b[0m \u001b[0mmode\u001b[0m\u001b[0;34m)\u001b[0m\u001b[0;34m:\u001b[0m\u001b[0;34m\u001b[0m\u001b[0;34m\u001b[0m\u001b[0m\n\u001b[0;32m--> 211\u001b[0;31m         \u001b[0msuper\u001b[0m\u001b[0;34m(\u001b[0m\u001b[0m_open_file\u001b[0m\u001b[0;34m,\u001b[0m \u001b[0mself\u001b[0m\u001b[0;34m)\u001b[0m\u001b[0;34m.\u001b[0m\u001b[0m__init__\u001b[0m\u001b[0;34m(\u001b[0m\u001b[0mopen\u001b[0m\u001b[0;34m(\u001b[0m\u001b[0mname\u001b[0m\u001b[0;34m,\u001b[0m \u001b[0mmode\u001b[0m\u001b[0;34m)\u001b[0m\u001b[0;34m)\u001b[0m\u001b[0;34m\u001b[0m\u001b[0;34m\u001b[0m\u001b[0m\n\u001b[0m\u001b[1;32m    212\u001b[0m \u001b[0;34m\u001b[0m\u001b[0m\n\u001b[1;32m    213\u001b[0m     \u001b[0;32mdef\u001b[0m \u001b[0m__exit__\u001b[0m\u001b[0;34m(\u001b[0m\u001b[0mself\u001b[0m\u001b[0;34m,\u001b[0m \u001b[0;34m*\u001b[0m\u001b[0margs\u001b[0m\u001b[0;34m)\u001b[0m\u001b[0;34m:\u001b[0m\u001b[0;34m\u001b[0m\u001b[0;34m\u001b[0m\u001b[0m\n",
            "\u001b[0;31mFileNotFoundError\u001b[0m: [Errno 2] No such file or directory: './TinyImageNet/comp_3_run_1/models/model_ENN.pt'"
          ]
        }
      ],
      "source": [
        "model = to_device(ENN(), device)\n",
        "model.load_state_dict(torch.load(PATH_ENN))\n",
        "model.eval()"
      ]
    },
    {
      "cell_type": "code",
      "execution_count": null,
      "metadata": {
        "id": "PxLy1hg3L2xH"
      },
      "outputs": [],
      "source": [
        "cutoff = 0.0\n",
        "end_cutoff = 1\n",
        "interval = 0.05\n",
        "while cutoff <= end_cutoff:\n",
        "    accuracy = evaluate(model, valid_dl, cutoff)\n",
        "    print(\"For cutoff = {}, Validation Accuracy: {:.4f}\".format(cutoff, accuracy))    \n",
        "    cutoff += interval"
      ]
    },
    {
      "cell_type": "code",
      "execution_count": null,
      "metadata": {
        "id": "jlwpDX4QL8Fq"
      },
      "outputs": [],
      "source": [
        "final_cutoff = 0.225"
      ]
    },
    {
      "cell_type": "code",
      "execution_count": null,
      "metadata": {
        "id": "8qFM3ZvvL9gE"
      },
      "outputs": [],
      "source": [
        "def calculate_metrics_baseline1(r, labels, cutoff):\n",
        "    correct_vague = 0.0\n",
        "    correct_nonvague = 0.0\n",
        "    vague_total = 0\n",
        "    nonvague_total = 0\n",
        "\n",
        "    alpha = torch.add(r, torch.mul(W, a))\n",
        "    alpha_sum = torch.sum(alpha, dim=1)\n",
        "\n",
        "    # Get the predicted labels\n",
        "    p_exp = torch.div(alpha, alpha_sum[:, None])\n",
        "    predicted_labels = torch.argmax(p_exp, dim=1)\n",
        "\n",
        "    for i in range(len(labels)):\n",
        "        k = labels[i].item()\n",
        "\n",
        "        indices = (p_exp[i] >= cutoff).nonzero(as_tuple=True)[0]\n",
        "        predicted_set = set(indices.tolist())\n",
        "\n",
        "        if len(predicted_set) == 1:\n",
        "            predicted_set = set(R[predicted_labels[i].item()])\n",
        "\n",
        "        ground_truth_set = set(R[k])\n",
        "\n",
        "        if len(predicted_set) == 1:\n",
        "            correct_nonvague += float(len(predicted_set.intersection(ground_truth_set))) / len(predicted_set.union(ground_truth_set))\n",
        "            nonvague_total += 1\n",
        "        else:\n",
        "            correct_vague += float(len(predicted_set.intersection(ground_truth_set))) / len(predicted_set.union(ground_truth_set))\n",
        "            vague_total += 1\n",
        "\n",
        "    return [correct_nonvague, correct_vague, nonvague_total, vague_total]"
      ]
    },
    {
      "cell_type": "code",
      "execution_count": null,
      "metadata": {
        "id": "yVV-ec49L_u3"
      },
      "outputs": [],
      "source": [
        "@torch.no_grad()\n",
        "def evaluate_per_class_baseline1(model, val_loader, cutoff):\n",
        "    model.eval()\n",
        "    correct_vague = 0.0\n",
        "    correct_nonvague = 0.0\n",
        "    vague_total = 0\n",
        "    nonvague_total = 0\n",
        "    for batch in val_loader:\n",
        "        images, labels = batch\n",
        "        r = model(images)                  \n",
        "        results = calculate_metrics_baseline1(r, labels, cutoff)\n",
        "        correct_nonvague += results[0]\n",
        "        correct_vague += results[1]\n",
        "        nonvague_total += results[2]\n",
        "        vague_total += results[3]\n",
        "    return [correct_vague, correct_nonvague, vague_total, nonvague_total]"
      ]
    },
    {
      "cell_type": "code",
      "execution_count": null,
      "metadata": {
        "id": "v0PSV_LcMB51"
      },
      "outputs": [],
      "source": [
        "results = evaluate_per_class_baseline1(model, test_dl, final_cutoff)"
      ]
    },
    {
      "cell_type": "code",
      "execution_count": null,
      "metadata": {
        "id": "BDHnZIRJMDbh"
      },
      "outputs": [],
      "source": [
        "print(\"Average Jaccard Similarity Vague Classes: {}, Average Jaccard Similarity Nonvague Classes: {}\".format(results[0] / results[2], results[1] / results[3]))"
      ]
    },
    {
      "cell_type": "code",
      "execution_count": null,
      "metadata": {
        "id": "EloSEwlKMFDw"
      },
      "outputs": [],
      "source": [
        "print(\"Overall Accuracy: {}\". format((results[0] + results[1])/(results[2] + results[3])))"
      ]
    },
    {
      "cell_type": "markdown",
      "metadata": {
        "id": "eftupIXfrAcn"
      },
      "source": [
        "# **Deterministic Neural Network (2nd Baseline)**"
      ]
    },
    {
      "cell_type": "code",
      "execution_count": null,
      "metadata": {
        "id": "EHfNTVaRrJYg"
      },
      "outputs": [],
      "source": [
        "class Deterministic_NN(nn.Module):\n",
        "    def __init__(self):\n",
        "        super().__init__()\n",
        "\n",
        "        # EfficientNet\n",
        "        self.network = EfficientNet.from_pretrained(\"efficientnet-b3\", num_classes=K)\n",
        "        \n",
        "    def forward(self, x):\n",
        "        return self.network(x)\n",
        "\n",
        "model = to_device(Deterministic_NN(), device)"
      ]
    },
    {
      "cell_type": "code",
      "execution_count": null,
      "metadata": {
        "id": "oONpXbMvriVA"
      },
      "outputs": [],
      "source": [
        "def num_accurate_baseline2(p, labels, cutoff):\n",
        "    p = F.softmax(p,dim=1)\n",
        "    predicted_labels = torch.argmax(p, dim=1)\n",
        "\n",
        "    total_correct = 0.0\n",
        "    for i in range(len(labels)):\n",
        "        indices = (p[i] >= cutoff).nonzero(as_tuple=True)[0]\n",
        "        predicted_set = set(indices.tolist())\n",
        "\n",
        "        if len(predicted_set) == 1:\n",
        "            predicted_set = set(R[predicted_labels[i].item()])\n",
        "\n",
        "        ground_truth_set = set(R[labels[i]])\n",
        "        total_correct += float(len(predicted_set.intersection(ground_truth_set))) / len(predicted_set.union(ground_truth_set))\n",
        "\n",
        "    return total_correct"
      ]
    },
    {
      "cell_type": "code",
      "source": [
        "PATH_DetNN = os.path.join(model_save_dir, \"model_DetNN.pt\")"
      ],
      "metadata": {
        "id": "DIx_G7yX9q8V"
      },
      "execution_count": null,
      "outputs": []
    },
    {
      "cell_type": "code",
      "execution_count": null,
      "metadata": {
        "id": "fNRqmBFL0WdW"
      },
      "outputs": [],
      "source": [
        "@torch.no_grad()\n",
        "def evaluate(model, val_loader, cutoff):\n",
        "      model.eval()\n",
        "      total_correct = 0.0\n",
        "      total_samples = 0\n",
        "      val_losses = []\n",
        "      for batch in val_loader:\n",
        "          images, labels = batch\n",
        "          r = model( images)\n",
        "          total_correct += num_accurate_baseline2(r, labels, cutoff)\n",
        "          total_samples += len(labels)\n",
        "      accuracy = total_correct / total_samples\n",
        "      return accuracy\n",
        "\n",
        "def fit(epochs, model, lr, train_loader, val_loader, cutoff, weight_decay=0):\n",
        "    optimizer = torch.optim.Adam(model.parameters(), lr=lr, weight_decay=weight_decay)\n",
        "    for epoch in range(epochs):\n",
        "        # Training Phase \n",
        "        model.train()\n",
        "        train_losses = []\n",
        "        for batch in train_loader:\n",
        "            optimizer.zero_grad()\n",
        "            images, labels = batch\n",
        "            p = model(images)\n",
        "            loss = F.cross_entropy(p, labels)\n",
        "            train_losses.append(loss)\n",
        "            loss.backward()\n",
        "            optimizer.step()\n",
        "        mean_train_loss = torch.stack(train_losses).mean().item()\n",
        "        # Validation phase\n",
        "        results = evaluate(model, val_loader, cutoff)\n",
        "        print(\"Epoch [{}], Mean Training Loss per Batch: {:.4f}, Validation Accuracy: {:.4f}\".format(epoch, mean_train_loss, results))\n",
        "        if (epoch + 1) % 5 == 0:\n",
        "            torch.save(model.state_dict(), PATH_DetNN)"
      ]
    },
    {
      "cell_type": "code",
      "execution_count": null,
      "metadata": {
        "id": "wCBYeE6Lrkc0"
      },
      "outputs": [],
      "source": [
        "start = time.time()\n",
        "for lr in [1e-3, 1e-4]:\n",
        "  print(\"learning rate: {}\".format(lr))\n",
        "\n",
        "  if lr == 1e-3:\n",
        "      num_epochs = 25\n",
        "  else:\n",
        "      num_epochs = 10\n",
        "\n",
        "  fit(num_epochs, model, lr, train_dl, valid_dl, 0.2, 0)\n",
        "\n",
        "end = time.time()\n",
        "torch.save(model.state_dict(), PATH_DetNN)\n",
        "print(f'Total training time for Deterministic NN: %s seconds.'%str(end-start))"
      ]
    },
    {
      "cell_type": "code",
      "execution_count": null,
      "metadata": {
        "id": "2wVf6Wj0iV7H"
      },
      "outputs": [],
      "source": [
        "model = to_device(Deterministic_NN(), device)\n",
        "model.load_state_dict(torch.load(PATH_DetNN))\n",
        "model.eval()"
      ]
    },
    {
      "cell_type": "code",
      "execution_count": null,
      "metadata": {
        "id": "rIVf67XnMqYj"
      },
      "outputs": [],
      "source": [
        "cutoff = 0.0\n",
        "end_cutoff = 1\n",
        "interval = 0.05\n",
        "while cutoff <= end_cutoff:\n",
        "    accuracy = evaluate(model, valid_dl, cutoff)\n",
        "    print(\"For cutoff = {}, Validation Accuracy: {:.4f}\".format(cutoff, accuracy))    \n",
        "    cutoff += interval"
      ]
    },
    {
      "cell_type": "code",
      "execution_count": null,
      "metadata": {
        "id": "_GBvCruKMscR"
      },
      "outputs": [],
      "source": [
        "final_cutoff = 0.2"
      ]
    },
    {
      "cell_type": "code",
      "execution_count": null,
      "metadata": {
        "id": "9SejOXeGMuH0"
      },
      "outputs": [],
      "source": [
        "def calculate_metrics_baseline2(p, labels, cutoff):\n",
        "    correct_vague = 0.0\n",
        "    correct_nonvague = 0.0\n",
        "    vague_total = 0\n",
        "    nonvague_total = 0\n",
        "\n",
        "    p = F.softmax(p,dim=1)\n",
        "    predicted_labels = torch.argmax(p, dim=1)\n",
        "\n",
        "    for i in range(len(labels)):\n",
        "        k = labels[i].item()\n",
        "\n",
        "        indices = (p[i] >= cutoff).nonzero(as_tuple=True)[0]\n",
        "        predicted_set = set(indices.tolist())\n",
        "\n",
        "        if len(predicted_set) == 1:\n",
        "            predicted_set = set(R[predicted_labels[i].item()])\n",
        "\n",
        "        ground_truth_set = set(R[k])\n",
        "\n",
        "        if len(predicted_set) == 1:\n",
        "            correct_nonvague += float(len(predicted_set.intersection(ground_truth_set))) / len(predicted_set.union(ground_truth_set))\n",
        "            nonvague_total += 1\n",
        "        else:\n",
        "            correct_vague += float(len(predicted_set.intersection(ground_truth_set))) / len(predicted_set.union(ground_truth_set))\n",
        "            vague_total += 1\n",
        "\n",
        "    return [correct_nonvague, correct_vague, nonvague_total, vague_total]"
      ]
    },
    {
      "cell_type": "code",
      "execution_count": null,
      "metadata": {
        "id": "khdnRoVUMwSA"
      },
      "outputs": [],
      "source": [
        "@torch.no_grad()\n",
        "def evaluate_per_class_baseline2(model, val_loader, cutoff):\n",
        "    model.eval()\n",
        "    correct_vague = 0.0\n",
        "    correct_nonvague = 0.0\n",
        "    vague_total = 0\n",
        "    nonvague_total = 0\n",
        "    for batch in val_loader:\n",
        "        images, labels = batch\n",
        "        r = model(images)                  \n",
        "        results = calculate_metrics_baseline2(r, labels, cutoff)\n",
        "        correct_nonvague += results[0]\n",
        "        correct_vague += results[1]\n",
        "        nonvague_total += results[2]\n",
        "        vague_total += results[3]\n",
        "    return [correct_vague, correct_nonvague, vague_total, nonvague_total]"
      ]
    },
    {
      "cell_type": "code",
      "execution_count": null,
      "metadata": {
        "id": "_zNSq8vxMyJJ"
      },
      "outputs": [],
      "source": [
        "results = evaluate_per_class_baseline2(model, test_dl, final_cutoff)"
      ]
    },
    {
      "cell_type": "code",
      "execution_count": null,
      "metadata": {
        "id": "ur1uQsVFMzoD"
      },
      "outputs": [],
      "source": [
        "print(\"Average Jaccard Similarity Vague Classes: {}, Average Jaccard Similarity Nonvague Classes: {}\".format(results[0] / results[2], results[1] / results[3]))"
      ]
    },
    {
      "cell_type": "code",
      "execution_count": null,
      "metadata": {
        "id": "bzb5m4u4M1Ho"
      },
      "outputs": [],
      "source": [
        "print(\"Overall Accuracy: {}\". format((results[0] + results[1])/(results[2] + results[3])))"
      ]
    }
  ],
  "metadata": {
    "colab": {
      "collapsed_sections": [
        "rzLFjEWHvgPx",
        "DW3fnZIXJ1d5"
      ],
      "provenance": []
    },
    "kernelspec": {
      "display_name": "Python 3",
      "name": "python3"
    },
    "language_info": {
      "name": "python"
    },
    "widgets": {
      "application/vnd.jupyter.widget-state+json": {
        "e7f409cf5aae45c4bb68c4a349887ba2": {
          "model_module": "@jupyter-widgets/controls",
          "model_name": "HBoxModel",
          "model_module_version": "1.5.0",
          "state": {
            "_dom_classes": [],
            "_model_module": "@jupyter-widgets/controls",
            "_model_module_version": "1.5.0",
            "_model_name": "HBoxModel",
            "_view_count": null,
            "_view_module": "@jupyter-widgets/controls",
            "_view_module_version": "1.5.0",
            "_view_name": "HBoxView",
            "box_style": "",
            "children": [
              "IPY_MODEL_95bcbd0a82234317b2c40187b987548c",
              "IPY_MODEL_72e9ecd5839c4c3d90d019f3097a17f1",
              "IPY_MODEL_2b4b217926a5409f86ae14fc25dcf4c1"
            ],
            "layout": "IPY_MODEL_a01d4d91ff204e90b2da3d88248f95e7"
          }
        },
        "95bcbd0a82234317b2c40187b987548c": {
          "model_module": "@jupyter-widgets/controls",
          "model_name": "HTMLModel",
          "model_module_version": "1.5.0",
          "state": {
            "_dom_classes": [],
            "_model_module": "@jupyter-widgets/controls",
            "_model_module_version": "1.5.0",
            "_model_name": "HTMLModel",
            "_view_count": null,
            "_view_module": "@jupyter-widgets/controls",
            "_view_module_version": "1.5.0",
            "_view_name": "HTMLView",
            "description": "",
            "description_tooltip": null,
            "layout": "IPY_MODEL_72534c27f2a44a6cbebf1ac8ebe8bf3c",
            "placeholder": "​",
            "style": "IPY_MODEL_30da1f71af6142a2bf21672b23815f8b",
            "value": "100%"
          }
        },
        "72e9ecd5839c4c3d90d019f3097a17f1": {
          "model_module": "@jupyter-widgets/controls",
          "model_name": "FloatProgressModel",
          "model_module_version": "1.5.0",
          "state": {
            "_dom_classes": [],
            "_model_module": "@jupyter-widgets/controls",
            "_model_module_version": "1.5.0",
            "_model_name": "FloatProgressModel",
            "_view_count": null,
            "_view_module": "@jupyter-widgets/controls",
            "_view_module_version": "1.5.0",
            "_view_name": "ProgressView",
            "bar_style": "success",
            "description": "",
            "description_tooltip": null,
            "layout": "IPY_MODEL_b2843a184ade4e69b9889b3f4aadac30",
            "max": 49388949,
            "min": 0,
            "orientation": "horizontal",
            "style": "IPY_MODEL_5eb2017c395b402fb929ebd43ad51b66",
            "value": 49388949
          }
        },
        "2b4b217926a5409f86ae14fc25dcf4c1": {
          "model_module": "@jupyter-widgets/controls",
          "model_name": "HTMLModel",
          "model_module_version": "1.5.0",
          "state": {
            "_dom_classes": [],
            "_model_module": "@jupyter-widgets/controls",
            "_model_module_version": "1.5.0",
            "_model_name": "HTMLModel",
            "_view_count": null,
            "_view_module": "@jupyter-widgets/controls",
            "_view_module_version": "1.5.0",
            "_view_name": "HTMLView",
            "description": "",
            "description_tooltip": null,
            "layout": "IPY_MODEL_effd032a30294282a9b60c9c1e54e7be",
            "placeholder": "​",
            "style": "IPY_MODEL_fb758345739d49ae8e67396d20482ed7",
            "value": " 47.1M/47.1M [00:00&lt;00:00, 92.4MB/s]"
          }
        },
        "a01d4d91ff204e90b2da3d88248f95e7": {
          "model_module": "@jupyter-widgets/base",
          "model_name": "LayoutModel",
          "model_module_version": "1.2.0",
          "state": {
            "_model_module": "@jupyter-widgets/base",
            "_model_module_version": "1.2.0",
            "_model_name": "LayoutModel",
            "_view_count": null,
            "_view_module": "@jupyter-widgets/base",
            "_view_module_version": "1.2.0",
            "_view_name": "LayoutView",
            "align_content": null,
            "align_items": null,
            "align_self": null,
            "border": null,
            "bottom": null,
            "display": null,
            "flex": null,
            "flex_flow": null,
            "grid_area": null,
            "grid_auto_columns": null,
            "grid_auto_flow": null,
            "grid_auto_rows": null,
            "grid_column": null,
            "grid_gap": null,
            "grid_row": null,
            "grid_template_areas": null,
            "grid_template_columns": null,
            "grid_template_rows": null,
            "height": null,
            "justify_content": null,
            "justify_items": null,
            "left": null,
            "margin": null,
            "max_height": null,
            "max_width": null,
            "min_height": null,
            "min_width": null,
            "object_fit": null,
            "object_position": null,
            "order": null,
            "overflow": null,
            "overflow_x": null,
            "overflow_y": null,
            "padding": null,
            "right": null,
            "top": null,
            "visibility": null,
            "width": null
          }
        },
        "72534c27f2a44a6cbebf1ac8ebe8bf3c": {
          "model_module": "@jupyter-widgets/base",
          "model_name": "LayoutModel",
          "model_module_version": "1.2.0",
          "state": {
            "_model_module": "@jupyter-widgets/base",
            "_model_module_version": "1.2.0",
            "_model_name": "LayoutModel",
            "_view_count": null,
            "_view_module": "@jupyter-widgets/base",
            "_view_module_version": "1.2.0",
            "_view_name": "LayoutView",
            "align_content": null,
            "align_items": null,
            "align_self": null,
            "border": null,
            "bottom": null,
            "display": null,
            "flex": null,
            "flex_flow": null,
            "grid_area": null,
            "grid_auto_columns": null,
            "grid_auto_flow": null,
            "grid_auto_rows": null,
            "grid_column": null,
            "grid_gap": null,
            "grid_row": null,
            "grid_template_areas": null,
            "grid_template_columns": null,
            "grid_template_rows": null,
            "height": null,
            "justify_content": null,
            "justify_items": null,
            "left": null,
            "margin": null,
            "max_height": null,
            "max_width": null,
            "min_height": null,
            "min_width": null,
            "object_fit": null,
            "object_position": null,
            "order": null,
            "overflow": null,
            "overflow_x": null,
            "overflow_y": null,
            "padding": null,
            "right": null,
            "top": null,
            "visibility": null,
            "width": null
          }
        },
        "30da1f71af6142a2bf21672b23815f8b": {
          "model_module": "@jupyter-widgets/controls",
          "model_name": "DescriptionStyleModel",
          "model_module_version": "1.5.0",
          "state": {
            "_model_module": "@jupyter-widgets/controls",
            "_model_module_version": "1.5.0",
            "_model_name": "DescriptionStyleModel",
            "_view_count": null,
            "_view_module": "@jupyter-widgets/base",
            "_view_module_version": "1.2.0",
            "_view_name": "StyleView",
            "description_width": ""
          }
        },
        "b2843a184ade4e69b9889b3f4aadac30": {
          "model_module": "@jupyter-widgets/base",
          "model_name": "LayoutModel",
          "model_module_version": "1.2.0",
          "state": {
            "_model_module": "@jupyter-widgets/base",
            "_model_module_version": "1.2.0",
            "_model_name": "LayoutModel",
            "_view_count": null,
            "_view_module": "@jupyter-widgets/base",
            "_view_module_version": "1.2.0",
            "_view_name": "LayoutView",
            "align_content": null,
            "align_items": null,
            "align_self": null,
            "border": null,
            "bottom": null,
            "display": null,
            "flex": null,
            "flex_flow": null,
            "grid_area": null,
            "grid_auto_columns": null,
            "grid_auto_flow": null,
            "grid_auto_rows": null,
            "grid_column": null,
            "grid_gap": null,
            "grid_row": null,
            "grid_template_areas": null,
            "grid_template_columns": null,
            "grid_template_rows": null,
            "height": null,
            "justify_content": null,
            "justify_items": null,
            "left": null,
            "margin": null,
            "max_height": null,
            "max_width": null,
            "min_height": null,
            "min_width": null,
            "object_fit": null,
            "object_position": null,
            "order": null,
            "overflow": null,
            "overflow_x": null,
            "overflow_y": null,
            "padding": null,
            "right": null,
            "top": null,
            "visibility": null,
            "width": null
          }
        },
        "5eb2017c395b402fb929ebd43ad51b66": {
          "model_module": "@jupyter-widgets/controls",
          "model_name": "ProgressStyleModel",
          "model_module_version": "1.5.0",
          "state": {
            "_model_module": "@jupyter-widgets/controls",
            "_model_module_version": "1.5.0",
            "_model_name": "ProgressStyleModel",
            "_view_count": null,
            "_view_module": "@jupyter-widgets/base",
            "_view_module_version": "1.2.0",
            "_view_name": "StyleView",
            "bar_color": null,
            "description_width": ""
          }
        },
        "effd032a30294282a9b60c9c1e54e7be": {
          "model_module": "@jupyter-widgets/base",
          "model_name": "LayoutModel",
          "model_module_version": "1.2.0",
          "state": {
            "_model_module": "@jupyter-widgets/base",
            "_model_module_version": "1.2.0",
            "_model_name": "LayoutModel",
            "_view_count": null,
            "_view_module": "@jupyter-widgets/base",
            "_view_module_version": "1.2.0",
            "_view_name": "LayoutView",
            "align_content": null,
            "align_items": null,
            "align_self": null,
            "border": null,
            "bottom": null,
            "display": null,
            "flex": null,
            "flex_flow": null,
            "grid_area": null,
            "grid_auto_columns": null,
            "grid_auto_flow": null,
            "grid_auto_rows": null,
            "grid_column": null,
            "grid_gap": null,
            "grid_row": null,
            "grid_template_areas": null,
            "grid_template_columns": null,
            "grid_template_rows": null,
            "height": null,
            "justify_content": null,
            "justify_items": null,
            "left": null,
            "margin": null,
            "max_height": null,
            "max_width": null,
            "min_height": null,
            "min_width": null,
            "object_fit": null,
            "object_position": null,
            "order": null,
            "overflow": null,
            "overflow_x": null,
            "overflow_y": null,
            "padding": null,
            "right": null,
            "top": null,
            "visibility": null,
            "width": null
          }
        },
        "fb758345739d49ae8e67396d20482ed7": {
          "model_module": "@jupyter-widgets/controls",
          "model_name": "DescriptionStyleModel",
          "model_module_version": "1.5.0",
          "state": {
            "_model_module": "@jupyter-widgets/controls",
            "_model_module_version": "1.5.0",
            "_model_name": "DescriptionStyleModel",
            "_view_count": null,
            "_view_module": "@jupyter-widgets/base",
            "_view_module_version": "1.2.0",
            "_view_name": "StyleView",
            "description_width": ""
          }
        }
      }
    }
  },
  "nbformat": 4,
  "nbformat_minor": 0
}