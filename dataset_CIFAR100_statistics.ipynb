{
 "cells": [
  {
   "cell_type": "markdown",
   "metadata": {},
   "source": [
    "# cifar100"
   ]
  },
  {
   "cell_type": "code",
   "execution_count": 1,
   "metadata": {},
   "outputs": [
    {
     "name": "stdout",
     "output_type": "stream",
     "text": [
      "Loading CIFAR100...\n",
      "Files already downloaded and verified\n",
      "/home/cxl173430/DATASETS/cifar100_henn/\n",
      "Hierarchical labels:\n",
      "\n",
      "aquatic_mammals :  ['beaver', 'dolphin', 'otter', 'seal', 'whale']\n",
      "fish :  ['aquarium_fish', 'flatfish', 'ray', 'shark', 'trout']\n",
      "flowers :  ['orchid', 'poppy', 'rose', 'sunflower', 'tulip']\n",
      "food_containers :  ['bottle', 'bowl', 'can', 'cup', 'plate']\n",
      "fruit_and_vegetables :  ['apple', 'mushroom', 'orange', 'pear', 'sweet_pepper']\n",
      "household_electrical_devices :  ['clock', 'keyboard', 'lamp', 'telephone', 'television']\n",
      "household_furniture :  ['bed', 'chair', 'couch', 'table', 'wardrobe']\n",
      "insects :  ['bee', 'beetle', 'butterfly', 'caterpillar', 'cockroach']\n",
      "large_carnivores :  ['bear', 'leopard', 'lion', 'tiger', 'wolf']\n",
      "large_man-made_outdoor_things :  ['bridge', 'castle', 'house', 'road', 'skyscraper']\n",
      "large_natural_outdoor_scenes :  ['cloud', 'forest', 'mountain', 'plain', 'sea']\n",
      "large_omnivores_and_herbivores :  ['camel', 'cattle', 'chimpanzee', 'elephant', 'kangaroo']\n",
      "medium_mammals :  ['fox', 'porcupine', 'possum', 'raccoon', 'skunk']\n",
      "non-insect_invertebrates :  ['crab', 'lobster', 'snail', 'spider', 'worm']\n",
      "people :  ['baby', 'boy', 'girl', 'man', 'woman']\n",
      "reptiles :  ['crocodile', 'dinosaur', 'lizard', 'snake', 'turtle']\n",
      "small_mammals :  ['hamster', 'mouse', 'rabbit', 'shrew', 'squirrel']\n",
      "trees :  ['maple_tree', 'oak_tree', 'palm_tree', 'pine_tree', 'willow_tree']\n",
      "vehicles_1 :  ['bicycle', 'bus', 'motorcycle', 'pickup_truck', 'train']\n",
      "vehicles_2 :  ['lawn_mower', 'rocket', 'streetcar', 'tank', 'tractor']\n",
      "Total 20 Candidate superclasses: ['aquatic_mammals', 'fish', 'flowers', 'food_containers', 'fruit_and_vegetables', 'household_electrical_devices', 'household_furniture', 'insects', 'large_carnivores', 'large_man-made_outdoor_things', 'large_natural_outdoor_scenes', 'large_omnivores_and_herbivores', 'medium_mammals', 'non-insect_invertebrates', 'people', 'reptiles', 'small_mammals', 'trees', 'vehicles_1', 'vehicles_2']\n",
      "Vague classes: ['people']\n",
      "Vague classes nid: [['woman', 'boy']]\n",
      "Vague classes ids: [[98, 11]]\n",
      "Actual label sets\n",
      " R: [[0], [1], [2], [3], [4], [5], [6], [7], [8], [9], [10], [11], [12], [13], [14], [15], [16], [17], [18], [19], [20], [21], [22], [23], [24], [25], [26], [27], [28], [29], [30], [31], [32], [33], [34], [35], [36], [37], [38], [39], [40], [41], [42], [43], [44], [45], [46], [47], [48], [49], [50], [51], [52], [53], [54], [55], [56], [57], [58], [59], [60], [61], [62], [63], [64], [65], [66], [67], [68], [69], [70], [71], [72], [73], [74], [75], [76], [77], [78], [79], [80], [81], [82], [83], [84], [85], [86], [87], [88], [89], [90], [91], [92], [93], [94], [95], [96], [97], [98], [99], [98, 11]]\n",
      "Data splitted. Train, Valid, Test size: (45100, 4900, 10000)\n"
     ]
    }
   ],
   "source": [
    "from data.cifar100 import CIFAR100Vague \n",
    "\n",
    "data_dir = '/home/cxl173430/DATASETS/'\n",
    "batch_size = 64\n",
    "\n",
    "mydata = CIFAR100Vague(\n",
    "            data_dir, \n",
    "            num_comp=1, \n",
    "            batch_size=batch_size,\n",
    "#             imagenet_hierarchy_path=data_dir,\n",
    "            duplicate=True)"
   ]
  },
  {
   "cell_type": "code",
   "execution_count": null,
   "metadata": {},
   "outputs": [],
   "source": []
  },
  {
   "cell_type": "code",
   "execution_count": null,
   "metadata": {},
   "outputs": [],
   "source": []
  },
  {
   "cell_type": "code",
   "execution_count": 2,
   "metadata": {},
   "outputs": [
    {
     "name": "stdout",
     "output_type": "stream",
     "text": [
      "tensor([False, False, False,  True,  True])\n"
     ]
    }
   ],
   "source": [
    "import torch\n",
    "a = torch.tensor([1,2,3,4,5])\n",
    "idx = a>3\n",
    "print(idx)"
   ]
  },
  {
   "cell_type": "code",
   "execution_count": 3,
   "metadata": {},
   "outputs": [
    {
     "data": {
      "text/plain": [
       "tensor([4, 5])"
      ]
     },
     "execution_count": 3,
     "metadata": {},
     "output_type": "execute_result"
    }
   ],
   "source": [
    "a[idx]"
   ]
  },
  {
   "cell_type": "code",
   "execution_count": 4,
   "metadata": {},
   "outputs": [
    {
     "data": {
      "text/plain": [
       "tensor([9, 0])"
      ]
     },
     "execution_count": 4,
     "metadata": {},
     "output_type": "execute_result"
    }
   ],
   "source": [
    "b = torch.tensor([6,7,8,9,0])\n",
    "b[idx]"
   ]
  },
  {
   "cell_type": "code",
   "execution_count": 5,
   "metadata": {},
   "outputs": [
    {
     "data": {
      "text/plain": [
       "[1, 3]"
      ]
     },
     "execution_count": 5,
     "metadata": {},
     "output_type": "execute_result"
    }
   ],
   "source": [
    "import random\n",
    "random.seed(2)\n",
    "random.sample([1,2,3], 2)"
   ]
  },
  {
   "cell_type": "code",
   "execution_count": 6,
   "metadata": {},
   "outputs": [
    {
     "data": {
      "text/plain": [
       "[1, 2]"
      ]
     },
     "execution_count": 6,
     "metadata": {},
     "output_type": "execute_result"
    }
   ],
   "source": [
    "random.sample([1,2,3], 2)"
   ]
  },
  {
   "cell_type": "code",
   "execution_count": 7,
   "metadata": {},
   "outputs": [
    {
     "data": {
      "text/plain": [
       "[1, 2]"
      ]
     },
     "execution_count": 7,
     "metadata": {},
     "output_type": "execute_result"
    }
   ],
   "source": [
    "random.sample([1,2,3], 2)"
   ]
  },
  {
   "cell_type": "code",
   "execution_count": 8,
   "metadata": {},
   "outputs": [
    {
     "data": {
      "text/plain": [
       "[2, 1]"
      ]
     },
     "execution_count": 8,
     "metadata": {},
     "output_type": "execute_result"
    }
   ],
   "source": [
    "random.sample([1,2,3], 2)"
   ]
  },
  {
   "cell_type": "code",
   "execution_count": 9,
   "metadata": {},
   "outputs": [
    {
     "data": {
      "text/plain": [
       "[1, 3]"
      ]
     },
     "execution_count": 9,
     "metadata": {},
     "output_type": "execute_result"
    }
   ],
   "source": [
    "random.seed(2)\n",
    "random.sample([1,2,3], 2)"
   ]
  },
  {
   "cell_type": "code",
   "execution_count": 10,
   "metadata": {},
   "outputs": [
    {
     "data": {
      "text/plain": [
       "[1, 3]"
      ]
     },
     "execution_count": 10,
     "metadata": {},
     "output_type": "execute_result"
    }
   ],
   "source": [
    "random.seed(2)\n",
    "random.sample([1,2,3], 2)"
   ]
  },
  {
   "cell_type": "code",
   "execution_count": null,
   "metadata": {},
   "outputs": [],
   "source": []
  }
 ],
 "metadata": {
  "kernelspec": {
   "display_name": "Python 3 (ipykernel)",
   "language": "python",
   "name": "python3"
  },
  "language_info": {
   "codemirror_mode": {
    "name": "ipython",
    "version": 3
   },
   "file_extension": ".py",
   "mimetype": "text/x-python",
   "name": "python",
   "nbconvert_exporter": "python",
   "pygments_lexer": "ipython3",
   "version": "3.9.13"
  },
  "toc": {
   "base_numbering": 1,
   "nav_menu": {},
   "number_sections": true,
   "sideBar": true,
   "skip_h1_title": false,
   "title_cell": "Table of Contents",
   "title_sidebar": "Contents",
   "toc_cell": false,
   "toc_position": {},
   "toc_section_display": true,
   "toc_window_display": false
  },
  "varInspector": {
   "cols": {
    "lenName": 16,
    "lenType": 16,
    "lenVar": 40
   },
   "kernels_config": {
    "python": {
     "delete_cmd_postfix": "",
     "delete_cmd_prefix": "del ",
     "library": "var_list.py",
     "varRefreshCmd": "print(var_dic_list())"
    },
    "r": {
     "delete_cmd_postfix": ") ",
     "delete_cmd_prefix": "rm(",
     "library": "var_list.r",
     "varRefreshCmd": "cat(var_dic_list()) "
    }
   },
   "types_to_exclude": [
    "module",
    "function",
    "builtin_function_or_method",
    "instance",
    "_Feature"
   ],
   "window_display": false
  },
  "vscode": {
   "interpreter": {
    "hash": "d7f76c134df65c5573318e989b45a1c1bdfcc683504c05e694022f95b8f93cf0"
   }
  }
 },
 "nbformat": 4,
 "nbformat_minor": 2
}
